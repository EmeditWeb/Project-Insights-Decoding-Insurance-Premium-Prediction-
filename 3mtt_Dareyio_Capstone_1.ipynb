{
  "cells": [
    {
      "cell_type": "markdown",
      "source": [
        "Name: Emmanuel Itighise\n",
        "\n",
        "Track: Data Science\n",
        "\n",
        "Cohort 3\n",
        "\n",
        "FE/23/44778000"
      ],
      "metadata": {
        "id": "kENxEEDfU1-9"
      },
      "id": "kENxEEDfU1-9"
    },
    {
      "cell_type": "markdown",
      "id": "29bc133e-fbbc-4fd0-94bb-c56b6522a690",
      "metadata": {
        "id": "29bc133e-fbbc-4fd0-94bb-c56b6522a690"
      },
      "source": [
        "# Predicting Insurance Premiums with Data-Driven Insights for SecureLife Insurance Co.\n",
        "\n",
        "## About SecureLife Insurance Co.\n",
        "\n",
        "![SecureLife](https://drive.google.com/uc?export=view&id=1uMGZfZRIQIRGx0pTD3zcENjOCMHAOhx8)\n",
        "\n",
        "Founded in 1995, SecureLife Insurance Co. is a leading provider of personal and commercial insurance products. With a strong commitment to innovation and customer-centric policies, SecureLife serves over 10 million policyholders across Africa.\n",
        "\n",
        "### Mission:\n",
        "\n",
        "To deliver affordable, reliable, and tailored insurance solutions that protect what matters most to our customers.\n",
        "\n",
        "### Vision:\n",
        "\n",
        "To be the most trusted name in insurance by leveraging technology and data-driven insights to improve the customer experience.\n",
        "\n",
        "### Key Facts:\n",
        "\n",
        "- Headquarters: Lagos, Nigeria\n",
        "- Revenue: $3.5 billion annually\n",
        "- Employees: 8,000+\n",
        "- Customer Satisfaction Rating: 4.8/5 (based on internal surveys)\n",
        "- Products Offered:\n",
        "  - Auto Insurance\n",
        "  - Health Insurance\n",
        "  - Home Insurance\n",
        "  - Life Insurance\n",
        "  - Specialty Products (e.g., Travel, Pet Insurance)\n",
        "\n",
        "### Core Values:\n",
        "\n",
        "- Integrity: Always prioritize ethical practices.\n",
        "- Innovation: Leverage cutting-edge technology to serve customers better.\n",
        "- Customer-Centricity: Deliver products and services tailored to individual needs.\n",
        "- Sustainability: Support green initiatives and sustainable practices.\n",
        "\n",
        "### Recent Initiatives:\n",
        "\n",
        "- Digital Transformation: SecureLife has adopted a fully digital claims process, reducing claim settlement times by 40%.\n",
        "- AI-Powered Premium Estimation: The company is developing machine learning models to provide personalized premium quotes in real time.\n",
        "- Community Outreach: SecureLife donates 5% of annual profits to support disaster relief and education initiatives."
      ]
    },
    {
      "cell_type": "markdown",
      "id": "6b4d0056-43dd-41ab-a1b0-31d1dfe4c230",
      "metadata": {
        "id": "6b4d0056-43dd-41ab-a1b0-31d1dfe4c230"
      },
      "source": [
        "We have now learned a bunch about the company you work for, however, there's a situation on ground!!\n",
        "\n",
        "## Overview/Problem statement\n",
        "\n",
        "Insurance companies like SecureLife Insurance Co. rely heavily on accurate premium prediction models to balance competitiveness with profitability. You are a data scientist recently hired by this leading insurance company (I mean look at their stats) to develop a predictive model for estimating insurance premiums. As a data scientist that you are, you will be responsible for end-to-end development: from data preprocessing and exploratory analysis to model building and evaluation.\n",
        "\n",
        "## Objective\n",
        "\n",
        "Develop a regression model to predict the Premium Amount based on the data provided. The key objectives are:\n",
        "\n",
        "- Clean and preprocess the dataset.\n",
        "- Explore feature importance and relationships.\n",
        "- Build and evaluate a robust predictive model.\n",
        "- Interpret results and provide actionable insights.\n",
        "\n",
        "## About the Data\n",
        "\n",
        "The dataset contains over 200,000 records with 20 features, designed to mimic real-world scenarios in the insurance domain. It includes a mix of numerical, categorical, and textual data with challenges such as missing values, skewed distributions, and improperly formatted fields. The target variable is \"Premium Amount\", representing the insurance premium to be predicted.\n",
        "\n",
        "| **Feature**            | **Description**                                                                 |\n",
        "|-------------------------|---------------------------------------------------------------------------------|\n",
        "| **Age**                | Age of the insured individual (Numerical)                                       |\n",
        "| **Gender**             | Gender of the insured individual (Categorical: Male, Female)                   |\n",
        "| **Annual Income**      | Annual income of the insured individual (Numerical, skewed)                    |\n",
        "| **Marital Status**     | Marital status of the insured individual (Categorical: Single, Married, Divorced) |\n",
        "| **Number of Dependents** | Number of dependents (Numerical, with missing values)                          |\n",
        "| **Education Level**    | Highest education level attained (Categorical: High School, Bachelor's, Master's, PhD) |\n",
        "| **Occupation**         | Occupation of the insured individual (Categorical: Employed, Self-Employed, Unemployed) |\n",
        "| **Health Score**       | A score representing the health status (Numerical, skewed)                     |\n",
        "| **Location**           | Type of location (Categorical: Urban, Suburban, Rural)                         |\n",
        "| **Policy Type**        | Type of insurance policy (Categorical: Basic, Comprehensive, Premium)          |\n",
        "| **Previous Claims**    | Number of previous claims made (Numerical, with outliers)                      |\n",
        "| **Vehicle Age**        | Age of the vehicle insured (Numerical)                                         |\n",
        "| **Credit Score**       | Credit score of the insured individual (Numerical, with missing values)        |\n",
        "| **Insurance Duration** | Duration of the insurance policy (Numerical, in years)                         |\n",
        "| **Premium Amount**     | Target variable representing the insurance premium amount (Numerical, skewed)  |\n",
        "| **Policy Start Date**  | Start date of the insurance policy (Text, improperly formatted)                |\n",
        "| **Customer Feedback**  | Short feedback comments from customers (Text)                                  |\n",
        "| **Smoking Status**     | Smoking status of the insured individual (Categorical: Yes, No)                |\n",
        "| **Exercise Frequency** | Frequency of exercise (Categorical: Daily, Weekly, Monthly, Rarely)            |\n",
        "| **Property Type**      | Type of property owned (Categorical: House, Apartment, Condo)                  |\n",
        "\n",
        "\n",
        "**You would find the dataset at: \"[Insurance Premium Prediction Dataset.csv](https://drive.google.com/file/d/1bQ8RE4HrVakjJlWlfDmmy6OiwyYa4wdB/view?usp=drive_link)\"**"
      ]
    },
    {
      "cell_type": "markdown",
      "id": "1ddf8755-e9d8-4d07-b7d4-929d75ff2adb",
      "metadata": {
        "id": "1ddf8755-e9d8-4d07-b7d4-929d75ff2adb"
      },
      "source": [
        "## Task\n",
        "\n",
        "Below is an overview of what is expected of you to do to accomplish project objectives:\n",
        "\n",
        "A) Data Understanding and Preprocessing:\n",
        "\n",
        "- Load the dataset and understand its structure.\n",
        "- Identify and handle missing values.\n",
        "- Correct data types and format text fields\n",
        "- Address skewed distributions for numerical features.\n",
        "\n",
        "B) Exploratory Data Analysis (EDA):\n",
        "\n",
        "- Perform univariate, bivariate, and multivariate analysis.\n",
        "- Identify correlations and trends that impact Premium Amount.\n",
        "\n",
        "C) Feature Engineering:\n",
        "\n",
        "- Encode categorical variables\n",
        "- Generate new features (such as the number of years since Policy Start Date)\n",
        "\n",
        "D) Model Development:\n",
        "\n",
        "- Split the dataset into training and testing sets.\n",
        "- Experiment with different regression algorithms (feel free to explore as many as you deem fit, you're the data scientist here) to determine the best one\n",
        "- Evaluate models using metrics like MAE, MSE, and R².\n",
        "\n",
        "E) Model Tuning and Optimization:\n",
        "\n",
        "- Use techniques like hyperparameter tuning (Grid Search or Random Search) to improve model performance.\n",
        "- Address overfitting or underfitting as necessary.\n",
        "\n",
        "F) Interpretation and Insights:\n",
        "\n",
        "- Analyze feature importance to understand the drivers of insurance premiums.\n",
        "- Provide actionable insights for stakeholders.\n",
        "\n",
        "## Deliverables\n",
        "\n",
        "- An EDA jupyter notebook with visualizations and insights and data cleaning steps (2 weeks) --> Jupyter notebook\n",
        "- An organized Jupyter Notebook detailing necessary project phases like feature engineering, model development, training and evaluation (2 weeks). --> Jupyter notebook\n",
        "- Documentation of the entire workflow, including challenges faced and solutions implemented. (2 weeks) --> Microsoft word document or pdf file format\n",
        "- A power point presentation highlighting key insights and recommendations for SecureLife Insurance Co. (2 weeks) --> ppt file format\n",
        "\n",
        "Timeline = 8 weeks."
      ]
    },
    {
      "cell_type": "markdown",
      "id": "bf238282-9554-485e-b9de-dd831e7ee36b",
      "metadata": {
        "id": "bf238282-9554-485e-b9de-dd831e7ee36b"
      },
      "source": [
        "## Tools, Frameworks, Libraries, and Techniques for the Project\n",
        "\n",
        "**Programming Language**\n",
        "\n",
        "Python: For all data processing, analysis, and machine learning tasks.\n",
        "\n",
        "**Data Handling and Preprocessing**\n",
        "\n",
        "- Pandas: For data manipulation and cleaning.\n",
        "- NumPy: For numerical computations.\n",
        "\n",
        "**Exploratory Data Analysis (EDA)**\n",
        "\n",
        "- Matplotlib: For creating visualizations like line charts, bar plots, and histograms.\n",
        "- Seaborn: For advanced and visually appealing statistical graphics (e.g., correlation heatmaps, pair plots).\n",
        "- Plotly: For interactive visualizations to explore the data more dynamically.\n",
        "\n",
        "**Feature Engineering and Preprocessing**\n",
        "\n",
        "- Scikit-learn:\n",
        "  - For encoding categorical variables (e.g., OneHotEncoder, LabelEncoder).\n",
        "  - For imputing missing values (e.g., SimpleImputer).\n",
        "  - For scaling and transforming features (e.g., StandardScaler, MinMaxScaler).\n",
        "- DateTime Library: For handling and transforming date-related features (e.g., Policy Start Date).\n",
        "\n",
        "**Machine Learning Models**\n",
        "\n",
        "- Scikit-learn: For building and evaluating regression models, including:\n",
        "  - Linear Regression\n",
        "  - Random Forest Regressor\n",
        "  - Gradient Boosting Regressor (e.g., using HistGradientBoostingRegressor), etc.\n",
        "- XGBoost: For advanced gradient-boosting models, especially when performance is a priority.\n",
        "- LightGBM: For fast and efficient gradient-boosting on large datasets.\n",
        "\n",
        "**Model Evaluation**\n",
        "\n",
        "Scikit-learn Metrics:\n",
        "\n",
        "- Mean Absolute Error (MAE)\n",
        "- Mean Squared Error (MSE)\n",
        "- R-squared (R²)\n",
        "- Residual plots for model diagnostics\n",
        "\n",
        "**Hyperparameter Tuning**\n",
        "\n",
        "- GridSearchCV: For exhaustive parameter search.\n",
        "- RandomizedSearchCV: For quicker, randomized parameter search.\n",
        "\n",
        "**Data Pipeline and Workflow Automation**\n",
        "\n",
        "- Jupyter Notebook: For documenting and running the entire workflow interactively.\n",
        "- Pipelines in Scikit-learn: For creating robust and reusable data processing pipelines.\n",
        "\n",
        "**Natural Language Processing (Optional - For Textual Features)**\n",
        "\n",
        "NLTK or spaCy: For preprocessing textual features like Customer Feedback.\n",
        "\n",
        "**Documentation and Reporting**\n",
        "\n",
        "- Markdown: For documenting progress in Jupyter Notebooks.\n",
        "- PowerPoint or Google Slides: For creating presentations summarizing insights.\n",
        "- Excel: For sharing processed datasets or results with stakeholders.\n",
        "\n",
        "**Deployment (Optional)**\n",
        "\n",
        "Streamlit: For building a simple user interface to interact with the model\n",
        "\n",
        "**P.S. while the deployment is optional, imagine the smile on your line manager's face when you go the extra mile to give them they could use in real-time, you just might get promoted in the next recruiting season.**\n",
        "\n",
        "**NOTE:**\n",
        "\n",
        "- You are a data scientist and SecureLife Insurance Co. has entrusted their ability to stand out in the market based on your capacity to do a good job. In light if this, approach this project with that mindset.\n",
        "\n",
        "- Part of your role as a data scientist is to stay on top of the ever evolving trends in the data space and as such be ready to conduct thorough research, pick up new tools and techniques along the way to deliver an excellent job. It is your job to ask clarifying questions, scour the internet to gain more domain knowlege and build knowledge and technical expertise in new tools.\n",
        "\n",
        "- Due to the time-sensitive nature of this project, your line manager has given you only **7 weeks to turn up your report and deliverables.** Get on with quickly and goodluck!"
      ]
    },
    {
      "cell_type": "markdown",
      "source": [
        "# SOLUTION"
      ],
      "metadata": {
        "id": "_bjZvTj6dOIG"
      },
      "id": "_bjZvTj6dOIG"
    },
    {
      "cell_type": "markdown",
      "source": [
        "# Data Understanding & Preprocessing (EDA Notebook)"
      ],
      "metadata": {
        "id": "4FdJuiDBdVWe"
      },
      "id": "4FdJuiDBdVWe"
    },
    {
      "cell_type": "markdown",
      "source": [
        "We'd load all our necessary libraries needed for this phase and understand our data to get it ready for our model creation"
      ],
      "metadata": {
        "id": "IpjBL-XSeCcS"
      },
      "id": "IpjBL-XSeCcS"
    },
    {
      "cell_type": "code",
      "source": [
        "pip install xgboost lightgbm dask"
      ],
      "metadata": {
        "colab": {
          "base_uri": "https://localhost:8080/"
        },
        "id": "rRjLa4wuitBR",
        "outputId": "24db1a4f-10b4-422b-9875-5c5069df21db"
      },
      "id": "rRjLa4wuitBR",
      "execution_count": null,
      "outputs": [
        {
          "output_type": "stream",
          "name": "stdout",
          "text": [
            "Requirement already satisfied: xgboost in /usr/local/lib/python3.11/dist-packages (2.1.4)\n",
            "Requirement already satisfied: lightgbm in /usr/local/lib/python3.11/dist-packages (4.6.0)\n",
            "Requirement already satisfied: dask in /usr/local/lib/python3.11/dist-packages (2024.12.1)\n",
            "Requirement already satisfied: numpy in /usr/local/lib/python3.11/dist-packages (from xgboost) (2.0.2)\n",
            "Requirement already satisfied: nvidia-nccl-cu12 in /usr/local/lib/python3.11/dist-packages (from xgboost) (2.21.5)\n",
            "Requirement already satisfied: scipy in /usr/local/lib/python3.11/dist-packages (from xgboost) (1.15.3)\n",
            "Requirement already satisfied: click>=8.1 in /usr/local/lib/python3.11/dist-packages (from dask) (8.2.1)\n",
            "Requirement already satisfied: cloudpickle>=3.0.0 in /usr/local/lib/python3.11/dist-packages (from dask) (3.1.1)\n",
            "Requirement already satisfied: fsspec>=2021.09.0 in /usr/local/lib/python3.11/dist-packages (from dask) (2025.3.2)\n",
            "Requirement already satisfied: packaging>=20.0 in /usr/local/lib/python3.11/dist-packages (from dask) (24.2)\n",
            "Requirement already satisfied: partd>=1.4.0 in /usr/local/lib/python3.11/dist-packages (from dask) (1.4.2)\n",
            "Requirement already satisfied: pyyaml>=5.3.1 in /usr/local/lib/python3.11/dist-packages (from dask) (6.0.2)\n",
            "Requirement already satisfied: toolz>=0.10.0 in /usr/local/lib/python3.11/dist-packages (from dask) (0.12.1)\n",
            "Requirement already satisfied: importlib_metadata>=4.13.0 in /usr/local/lib/python3.11/dist-packages (from dask) (8.7.0)\n",
            "Requirement already satisfied: zipp>=3.20 in /usr/local/lib/python3.11/dist-packages (from importlib_metadata>=4.13.0->dask) (3.23.0)\n",
            "Requirement already satisfied: locket in /usr/local/lib/python3.11/dist-packages (from partd>=1.4.0->dask) (1.0.0)\n"
          ]
        }
      ]
    },
    {
      "cell_type": "code",
      "source": [
        "# Uninstall and reinstall dask, distributed, and fsspec to resolve version conflicts\n",
        "!pip uninstall dask distributed fsspec -y\n",
        "!pip install dask distributed fsspec\n",
        "\n",
        "# incase you receive module 'dask' not found util error when running on another environment"
      ],
      "metadata": {
        "id": "1pU-FyHukpe-"
      },
      "id": "1pU-FyHukpe-",
      "execution_count": null,
      "outputs": []
    },
    {
      "cell_type": "markdown",
      "source": [
        "### Sep"
      ],
      "metadata": {
        "id": "dbinhCxSqd_b"
      },
      "id": "dbinhCxSqd_b"
    },
    {
      "cell_type": "code",
      "source": [
        "# Data Handling and Preprocessing\n",
        "import pandas as pd\n",
        "import numpy as np\n",
        "\n",
        "# Exploratory Data Analysis (EDA)\n",
        "import matplotlib.pyplot as plt\n",
        "import seaborn as sns\n",
        "# import plotly.express as px # For interactive plots (optional, as per discussion)\n",
        "\n",
        "# Feature Engineering and Preprocessing (Scikit-learn)\n",
        "from sklearn.model_selection import train_test_split\n",
        "from sklearn.impute import SimpleImputer\n",
        "from sklearn.preprocessing import OneHotEncoder, StandardScaler, MinMaxScaler\n",
        "from sklearn.compose import ColumnTransformer\n",
        "from sklearn.pipeline import Pipeline\n",
        "\n",
        "# Machine Learning Models (Scikit-learn, XGBoost, LightGBM)\n",
        "from sklearn.linear_model import LinearRegression\n",
        "from sklearn.ensemble import RandomForestRegressor, GradientBoostingRegressor\n",
        "from sklearn.tree import DecisionTreeRegressor # Often useful for understanding tree-based models\n",
        "from xgboost import XGBRegressor # Make sure you have 'xgboost' installed (pip install xgboost)\n",
        "from lightgbm import LGBMRegressor # Make sure you have 'lightgbm' installed (pip install lightgbm)\n",
        "\n",
        "# Model Evaluation\n",
        "from sklearn.metrics import mean_absolute_error, mean_squared_error, r2_score\n",
        "\n",
        "# Hyperparameter Tuning\n",
        "from sklearn.model_selection import GridSearchCV, RandomizedSearchCV\n",
        "\n",
        "# Natural Language Processing (Optional - For 'Customer Feedback')\n",
        "# import nltk # NLTK for text preprocessing\n",
        "# from nltk.sentiment.vader import SentimentIntensityAnalyzer # For sentiment analysis\n",
        "\n",
        "# Model Persistence (for deployment)\n",
        "import pickle\n",
        "# import joblib # Alternative to pickle, often preferred for scikit-learn models\n",
        "\n",
        "# Other utilities\n",
        "import datetime # For date/time operations (often imported directly when needed)\n",
        "\n",
        "print(\"All necessary libraries are listed.\")"
      ],
      "metadata": {
        "colab": {
          "base_uri": "https://localhost:8080/"
        },
        "id": "_5-FXc9zeRoI",
        "outputId": "330cdb41-1a4a-4f6e-ee45-a3b7de93b177"
      },
      "id": "_5-FXc9zeRoI",
      "execution_count": null,
      "outputs": [
        {
          "output_type": "stream",
          "name": "stdout",
          "text": [
            "All necessary libraries are listed.\n"
          ]
        }
      ]
    },
    {
      "cell_type": "code",
      "source": [
        "# load our dataset from its file id\n",
        "\n",
        "id = \"1bQ8RE4HrVakjJlWlfDmmy6OiwyYa4wdB\"\n",
        "download_url = f'https://drive.google.com/uc?id={id}'\n",
        "\n",
        "df = pd.read_csv(download_url, engine='python')\n",
        "df.head()"
      ],
      "metadata": {
        "colab": {
          "base_uri": "https://localhost:8080/",
          "height": 330
        },
        "id": "kB_0BKwyfMnO",
        "outputId": "99602233-4965-44c2-8f9b-de2d6a06a22c"
      },
      "id": "kB_0BKwyfMnO",
      "execution_count": null,
      "outputs": [
        {
          "output_type": "execute_result",
          "data": {
            "text/plain": [
              "    Age  Gender  Annual Income Marital Status  Number of Dependents  \\\n",
              "0  56.0    Male        99990.0        Married                   1.0   \n",
              "1  46.0    Male         2867.0         Single                   1.0   \n",
              "2  32.0  Female        30154.0       Divorced                   3.0   \n",
              "3  60.0  Female        48371.0       Divorced                   0.0   \n",
              "4  25.0  Female        54174.0       Divorced                   0.0   \n",
              "\n",
              "  Education Level     Occupation  Health Score  Location    Policy Type  \\\n",
              "0        Master's            NaN     31.074627     Urban  Comprehensive   \n",
              "1      Bachelor's            NaN     50.271335     Urban  Comprehensive   \n",
              "2      Bachelor's            NaN     14.714909  Suburban  Comprehensive   \n",
              "3             PhD  Self-Employed     25.346926     Rural  Comprehensive   \n",
              "4     High School  Self-Employed      6.659499     Urban  Comprehensive   \n",
              "\n",
              "   Previous Claims  Vehicle Age  Credit Score  Insurance Duration  \\\n",
              "0              NaN           13         320.0                   5   \n",
              "1              NaN            3         694.0                   4   \n",
              "2              2.0           16         652.0                   8   \n",
              "3              1.0           11         330.0                   7   \n",
              "4              NaN            9           NaN                   8   \n",
              "\n",
              "   Premium Amount           Policy Start Date Customer Feedback  \\\n",
              "0           308.0  2022-12-10 15:21:39.078837              Poor   \n",
              "1           517.0  2023-01-31 15:21:39.078837              Good   \n",
              "2           849.0  2023-11-26 15:21:39.078837              Poor   \n",
              "3           927.0  2023-02-27 15:21:39.078837              Poor   \n",
              "4           303.0  2020-11-25 15:21:39.078837              Poor   \n",
              "\n",
              "  Smoking Status Exercise Frequency Property Type  \n",
              "0            Yes              Daily         Condo  \n",
              "1            Yes            Monthly         House  \n",
              "2             No            Monthly         House  \n",
              "3             No             Rarely         Condo  \n",
              "4             No             Rarely         Condo  "
            ],
            "text/html": [
              "\n",
              "  <div id=\"df-b8d32ece-b15b-4d33-95a8-c08e9b55ac1e\" class=\"colab-df-container\">\n",
              "    <div>\n",
              "<style scoped>\n",
              "    .dataframe tbody tr th:only-of-type {\n",
              "        vertical-align: middle;\n",
              "    }\n",
              "\n",
              "    .dataframe tbody tr th {\n",
              "        vertical-align: top;\n",
              "    }\n",
              "\n",
              "    .dataframe thead th {\n",
              "        text-align: right;\n",
              "    }\n",
              "</style>\n",
              "<table border=\"1\" class=\"dataframe\">\n",
              "  <thead>\n",
              "    <tr style=\"text-align: right;\">\n",
              "      <th></th>\n",
              "      <th>Age</th>\n",
              "      <th>Gender</th>\n",
              "      <th>Annual Income</th>\n",
              "      <th>Marital Status</th>\n",
              "      <th>Number of Dependents</th>\n",
              "      <th>Education Level</th>\n",
              "      <th>Occupation</th>\n",
              "      <th>Health Score</th>\n",
              "      <th>Location</th>\n",
              "      <th>Policy Type</th>\n",
              "      <th>Previous Claims</th>\n",
              "      <th>Vehicle Age</th>\n",
              "      <th>Credit Score</th>\n",
              "      <th>Insurance Duration</th>\n",
              "      <th>Premium Amount</th>\n",
              "      <th>Policy Start Date</th>\n",
              "      <th>Customer Feedback</th>\n",
              "      <th>Smoking Status</th>\n",
              "      <th>Exercise Frequency</th>\n",
              "      <th>Property Type</th>\n",
              "    </tr>\n",
              "  </thead>\n",
              "  <tbody>\n",
              "    <tr>\n",
              "      <th>0</th>\n",
              "      <td>56.0</td>\n",
              "      <td>Male</td>\n",
              "      <td>99990.0</td>\n",
              "      <td>Married</td>\n",
              "      <td>1.0</td>\n",
              "      <td>Master's</td>\n",
              "      <td>NaN</td>\n",
              "      <td>31.074627</td>\n",
              "      <td>Urban</td>\n",
              "      <td>Comprehensive</td>\n",
              "      <td>NaN</td>\n",
              "      <td>13</td>\n",
              "      <td>320.0</td>\n",
              "      <td>5</td>\n",
              "      <td>308.0</td>\n",
              "      <td>2022-12-10 15:21:39.078837</td>\n",
              "      <td>Poor</td>\n",
              "      <td>Yes</td>\n",
              "      <td>Daily</td>\n",
              "      <td>Condo</td>\n",
              "    </tr>\n",
              "    <tr>\n",
              "      <th>1</th>\n",
              "      <td>46.0</td>\n",
              "      <td>Male</td>\n",
              "      <td>2867.0</td>\n",
              "      <td>Single</td>\n",
              "      <td>1.0</td>\n",
              "      <td>Bachelor's</td>\n",
              "      <td>NaN</td>\n",
              "      <td>50.271335</td>\n",
              "      <td>Urban</td>\n",
              "      <td>Comprehensive</td>\n",
              "      <td>NaN</td>\n",
              "      <td>3</td>\n",
              "      <td>694.0</td>\n",
              "      <td>4</td>\n",
              "      <td>517.0</td>\n",
              "      <td>2023-01-31 15:21:39.078837</td>\n",
              "      <td>Good</td>\n",
              "      <td>Yes</td>\n",
              "      <td>Monthly</td>\n",
              "      <td>House</td>\n",
              "    </tr>\n",
              "    <tr>\n",
              "      <th>2</th>\n",
              "      <td>32.0</td>\n",
              "      <td>Female</td>\n",
              "      <td>30154.0</td>\n",
              "      <td>Divorced</td>\n",
              "      <td>3.0</td>\n",
              "      <td>Bachelor's</td>\n",
              "      <td>NaN</td>\n",
              "      <td>14.714909</td>\n",
              "      <td>Suburban</td>\n",
              "      <td>Comprehensive</td>\n",
              "      <td>2.0</td>\n",
              "      <td>16</td>\n",
              "      <td>652.0</td>\n",
              "      <td>8</td>\n",
              "      <td>849.0</td>\n",
              "      <td>2023-11-26 15:21:39.078837</td>\n",
              "      <td>Poor</td>\n",
              "      <td>No</td>\n",
              "      <td>Monthly</td>\n",
              "      <td>House</td>\n",
              "    </tr>\n",
              "    <tr>\n",
              "      <th>3</th>\n",
              "      <td>60.0</td>\n",
              "      <td>Female</td>\n",
              "      <td>48371.0</td>\n",
              "      <td>Divorced</td>\n",
              "      <td>0.0</td>\n",
              "      <td>PhD</td>\n",
              "      <td>Self-Employed</td>\n",
              "      <td>25.346926</td>\n",
              "      <td>Rural</td>\n",
              "      <td>Comprehensive</td>\n",
              "      <td>1.0</td>\n",
              "      <td>11</td>\n",
              "      <td>330.0</td>\n",
              "      <td>7</td>\n",
              "      <td>927.0</td>\n",
              "      <td>2023-02-27 15:21:39.078837</td>\n",
              "      <td>Poor</td>\n",
              "      <td>No</td>\n",
              "      <td>Rarely</td>\n",
              "      <td>Condo</td>\n",
              "    </tr>\n",
              "    <tr>\n",
              "      <th>4</th>\n",
              "      <td>25.0</td>\n",
              "      <td>Female</td>\n",
              "      <td>54174.0</td>\n",
              "      <td>Divorced</td>\n",
              "      <td>0.0</td>\n",
              "      <td>High School</td>\n",
              "      <td>Self-Employed</td>\n",
              "      <td>6.659499</td>\n",
              "      <td>Urban</td>\n",
              "      <td>Comprehensive</td>\n",
              "      <td>NaN</td>\n",
              "      <td>9</td>\n",
              "      <td>NaN</td>\n",
              "      <td>8</td>\n",
              "      <td>303.0</td>\n",
              "      <td>2020-11-25 15:21:39.078837</td>\n",
              "      <td>Poor</td>\n",
              "      <td>No</td>\n",
              "      <td>Rarely</td>\n",
              "      <td>Condo</td>\n",
              "    </tr>\n",
              "  </tbody>\n",
              "</table>\n",
              "</div>\n",
              "    <div class=\"colab-df-buttons\">\n",
              "\n",
              "  <div class=\"colab-df-container\">\n",
              "    <button class=\"colab-df-convert\" onclick=\"convertToInteractive('df-b8d32ece-b15b-4d33-95a8-c08e9b55ac1e')\"\n",
              "            title=\"Convert this dataframe to an interactive table.\"\n",
              "            style=\"display:none;\">\n",
              "\n",
              "  <svg xmlns=\"http://www.w3.org/2000/svg\" height=\"24px\" viewBox=\"0 -960 960 960\">\n",
              "    <path d=\"M120-120v-720h720v720H120Zm60-500h600v-160H180v160Zm220 220h160v-160H400v160Zm0 220h160v-160H400v160ZM180-400h160v-160H180v160Zm440 0h160v-160H620v160ZM180-180h160v-160H180v160Zm440 0h160v-160H620v160Z\"/>\n",
              "  </svg>\n",
              "    </button>\n",
              "\n",
              "  <style>\n",
              "    .colab-df-container {\n",
              "      display:flex;\n",
              "      gap: 12px;\n",
              "    }\n",
              "\n",
              "    .colab-df-convert {\n",
              "      background-color: #E8F0FE;\n",
              "      border: none;\n",
              "      border-radius: 50%;\n",
              "      cursor: pointer;\n",
              "      display: none;\n",
              "      fill: #1967D2;\n",
              "      height: 32px;\n",
              "      padding: 0 0 0 0;\n",
              "      width: 32px;\n",
              "    }\n",
              "\n",
              "    .colab-df-convert:hover {\n",
              "      background-color: #E2EBFA;\n",
              "      box-shadow: 0px 1px 2px rgba(60, 64, 67, 0.3), 0px 1px 3px 1px rgba(60, 64, 67, 0.15);\n",
              "      fill: #174EA6;\n",
              "    }\n",
              "\n",
              "    .colab-df-buttons div {\n",
              "      margin-bottom: 4px;\n",
              "    }\n",
              "\n",
              "    [theme=dark] .colab-df-convert {\n",
              "      background-color: #3B4455;\n",
              "      fill: #D2E3FC;\n",
              "    }\n",
              "\n",
              "    [theme=dark] .colab-df-convert:hover {\n",
              "      background-color: #434B5C;\n",
              "      box-shadow: 0px 1px 3px 1px rgba(0, 0, 0, 0.15);\n",
              "      filter: drop-shadow(0px 1px 2px rgba(0, 0, 0, 0.3));\n",
              "      fill: #FFFFFF;\n",
              "    }\n",
              "  </style>\n",
              "\n",
              "    <script>\n",
              "      const buttonEl =\n",
              "        document.querySelector('#df-b8d32ece-b15b-4d33-95a8-c08e9b55ac1e button.colab-df-convert');\n",
              "      buttonEl.style.display =\n",
              "        google.colab.kernel.accessAllowed ? 'block' : 'none';\n",
              "\n",
              "      async function convertToInteractive(key) {\n",
              "        const element = document.querySelector('#df-b8d32ece-b15b-4d33-95a8-c08e9b55ac1e');\n",
              "        const dataTable =\n",
              "          await google.colab.kernel.invokeFunction('convertToInteractive',\n",
              "                                                    [key], {});\n",
              "        if (!dataTable) return;\n",
              "\n",
              "        const docLinkHtml = 'Like what you see? Visit the ' +\n",
              "          '<a target=\"_blank\" href=https://colab.research.google.com/notebooks/data_table.ipynb>data table notebook</a>'\n",
              "          + ' to learn more about interactive tables.';\n",
              "        element.innerHTML = '';\n",
              "        dataTable['output_type'] = 'display_data';\n",
              "        await google.colab.output.renderOutput(dataTable, element);\n",
              "        const docLink = document.createElement('div');\n",
              "        docLink.innerHTML = docLinkHtml;\n",
              "        element.appendChild(docLink);\n",
              "      }\n",
              "    </script>\n",
              "  </div>\n",
              "\n",
              "\n",
              "    <div id=\"df-a8928a94-a8f2-4bc1-a8b1-b44a4116ebec\">\n",
              "      <button class=\"colab-df-quickchart\" onclick=\"quickchart('df-a8928a94-a8f2-4bc1-a8b1-b44a4116ebec')\"\n",
              "                title=\"Suggest charts\"\n",
              "                style=\"display:none;\">\n",
              "\n",
              "<svg xmlns=\"http://www.w3.org/2000/svg\" height=\"24px\"viewBox=\"0 0 24 24\"\n",
              "     width=\"24px\">\n",
              "    <g>\n",
              "        <path d=\"M19 3H5c-1.1 0-2 .9-2 2v14c0 1.1.9 2 2 2h14c1.1 0 2-.9 2-2V5c0-1.1-.9-2-2-2zM9 17H7v-7h2v7zm4 0h-2V7h2v10zm4 0h-2v-4h2v4z\"/>\n",
              "    </g>\n",
              "</svg>\n",
              "      </button>\n",
              "\n",
              "<style>\n",
              "  .colab-df-quickchart {\n",
              "      --bg-color: #E8F0FE;\n",
              "      --fill-color: #1967D2;\n",
              "      --hover-bg-color: #E2EBFA;\n",
              "      --hover-fill-color: #174EA6;\n",
              "      --disabled-fill-color: #AAA;\n",
              "      --disabled-bg-color: #DDD;\n",
              "  }\n",
              "\n",
              "  [theme=dark] .colab-df-quickchart {\n",
              "      --bg-color: #3B4455;\n",
              "      --fill-color: #D2E3FC;\n",
              "      --hover-bg-color: #434B5C;\n",
              "      --hover-fill-color: #FFFFFF;\n",
              "      --disabled-bg-color: #3B4455;\n",
              "      --disabled-fill-color: #666;\n",
              "  }\n",
              "\n",
              "  .colab-df-quickchart {\n",
              "    background-color: var(--bg-color);\n",
              "    border: none;\n",
              "    border-radius: 50%;\n",
              "    cursor: pointer;\n",
              "    display: none;\n",
              "    fill: var(--fill-color);\n",
              "    height: 32px;\n",
              "    padding: 0;\n",
              "    width: 32px;\n",
              "  }\n",
              "\n",
              "  .colab-df-quickchart:hover {\n",
              "    background-color: var(--hover-bg-color);\n",
              "    box-shadow: 0 1px 2px rgba(60, 64, 67, 0.3), 0 1px 3px 1px rgba(60, 64, 67, 0.15);\n",
              "    fill: var(--button-hover-fill-color);\n",
              "  }\n",
              "\n",
              "  .colab-df-quickchart-complete:disabled,\n",
              "  .colab-df-quickchart-complete:disabled:hover {\n",
              "    background-color: var(--disabled-bg-color);\n",
              "    fill: var(--disabled-fill-color);\n",
              "    box-shadow: none;\n",
              "  }\n",
              "\n",
              "  .colab-df-spinner {\n",
              "    border: 2px solid var(--fill-color);\n",
              "    border-color: transparent;\n",
              "    border-bottom-color: var(--fill-color);\n",
              "    animation:\n",
              "      spin 1s steps(1) infinite;\n",
              "  }\n",
              "\n",
              "  @keyframes spin {\n",
              "    0% {\n",
              "      border-color: transparent;\n",
              "      border-bottom-color: var(--fill-color);\n",
              "      border-left-color: var(--fill-color);\n",
              "    }\n",
              "    20% {\n",
              "      border-color: transparent;\n",
              "      border-left-color: var(--fill-color);\n",
              "      border-top-color: var(--fill-color);\n",
              "    }\n",
              "    30% {\n",
              "      border-color: transparent;\n",
              "      border-left-color: var(--fill-color);\n",
              "      border-top-color: var(--fill-color);\n",
              "      border-right-color: var(--fill-color);\n",
              "    }\n",
              "    40% {\n",
              "      border-color: transparent;\n",
              "      border-right-color: var(--fill-color);\n",
              "      border-top-color: var(--fill-color);\n",
              "    }\n",
              "    60% {\n",
              "      border-color: transparent;\n",
              "      border-right-color: var(--fill-color);\n",
              "    }\n",
              "    80% {\n",
              "      border-color: transparent;\n",
              "      border-right-color: var(--fill-color);\n",
              "      border-bottom-color: var(--fill-color);\n",
              "    }\n",
              "    90% {\n",
              "      border-color: transparent;\n",
              "      border-bottom-color: var(--fill-color);\n",
              "    }\n",
              "  }\n",
              "</style>\n",
              "\n",
              "      <script>\n",
              "        async function quickchart(key) {\n",
              "          const quickchartButtonEl =\n",
              "            document.querySelector('#' + key + ' button');\n",
              "          quickchartButtonEl.disabled = true;  // To prevent multiple clicks.\n",
              "          quickchartButtonEl.classList.add('colab-df-spinner');\n",
              "          try {\n",
              "            const charts = await google.colab.kernel.invokeFunction(\n",
              "                'suggestCharts', [key], {});\n",
              "          } catch (error) {\n",
              "            console.error('Error during call to suggestCharts:', error);\n",
              "          }\n",
              "          quickchartButtonEl.classList.remove('colab-df-spinner');\n",
              "          quickchartButtonEl.classList.add('colab-df-quickchart-complete');\n",
              "        }\n",
              "        (() => {\n",
              "          let quickchartButtonEl =\n",
              "            document.querySelector('#df-a8928a94-a8f2-4bc1-a8b1-b44a4116ebec button');\n",
              "          quickchartButtonEl.style.display =\n",
              "            google.colab.kernel.accessAllowed ? 'block' : 'none';\n",
              "        })();\n",
              "      </script>\n",
              "    </div>\n",
              "\n",
              "    </div>\n",
              "  </div>\n"
            ],
            "application/vnd.google.colaboratory.intrinsic+json": {
              "type": "dataframe",
              "variable_name": "df"
            }
          },
          "metadata": {},
          "execution_count": 23
        }
      ]
    },
    {
      "cell_type": "code",
      "source": [
        "df.describe()"
      ],
      "metadata": {
        "id": "5oIPfbe9htm5",
        "colab": {
          "base_uri": "https://localhost:8080/",
          "height": 337
        },
        "outputId": "0b148f6d-d741-4224-b6bb-3ebea60e5855"
      },
      "id": "5oIPfbe9htm5",
      "execution_count": null,
      "outputs": [
        {
          "output_type": "execute_result",
          "data": {
            "text/plain": [
              "                 Age  Annual Income  Number of Dependents   Health Score  \\\n",
              "count  274175.000000  264905.000000         250974.000000  268263.000000   \n",
              "mean       41.020771   42089.085329              1.998048      28.584290   \n",
              "std        13.549683   35444.517255              1.412312      15.966208   \n",
              "min        18.000000       0.000000              0.000000       0.035436   \n",
              "25%        29.000000   13588.000000              1.000000      16.149890   \n",
              "50%        41.000000   32191.000000              2.000000      26.451244   \n",
              "75%        53.000000   62164.000000              3.000000      38.966369   \n",
              "max        64.000000  149997.000000              4.000000      93.876090   \n",
              "\n",
              "       Previous Claims    Vehicle Age   Credit Score  Insurance Duration  \\\n",
              "count    197572.000000  278860.000000  250974.000000       278860.000000   \n",
              "mean          0.998117       9.520283     574.362049            5.007764   \n",
              "std           1.000795       5.767915     158.792037            2.581349   \n",
              "min           0.000000       0.000000     300.000000            1.000000   \n",
              "25%           0.000000       5.000000     437.000000            3.000000   \n",
              "50%           1.000000      10.000000     575.000000            5.000000   \n",
              "75%           2.000000      15.000000     712.000000            7.000000   \n",
              "max           9.000000      19.000000     849.000000            9.000000   \n",
              "\n",
              "       Premium Amount  \n",
              "count   277019.000000  \n",
              "mean       966.118667  \n",
              "std        909.404567  \n",
              "min          0.000000  \n",
              "25%        286.000000  \n",
              "50%        688.000000  \n",
              "75%       1367.000000  \n",
              "max       4999.000000  "
            ],
            "text/html": [
              "\n",
              "  <div id=\"df-b7f2b177-032b-4e56-a2d3-1b5116a19a95\" class=\"colab-df-container\">\n",
              "    <div>\n",
              "<style scoped>\n",
              "    .dataframe tbody tr th:only-of-type {\n",
              "        vertical-align: middle;\n",
              "    }\n",
              "\n",
              "    .dataframe tbody tr th {\n",
              "        vertical-align: top;\n",
              "    }\n",
              "\n",
              "    .dataframe thead th {\n",
              "        text-align: right;\n",
              "    }\n",
              "</style>\n",
              "<table border=\"1\" class=\"dataframe\">\n",
              "  <thead>\n",
              "    <tr style=\"text-align: right;\">\n",
              "      <th></th>\n",
              "      <th>Age</th>\n",
              "      <th>Annual Income</th>\n",
              "      <th>Number of Dependents</th>\n",
              "      <th>Health Score</th>\n",
              "      <th>Previous Claims</th>\n",
              "      <th>Vehicle Age</th>\n",
              "      <th>Credit Score</th>\n",
              "      <th>Insurance Duration</th>\n",
              "      <th>Premium Amount</th>\n",
              "    </tr>\n",
              "  </thead>\n",
              "  <tbody>\n",
              "    <tr>\n",
              "      <th>count</th>\n",
              "      <td>274175.000000</td>\n",
              "      <td>264905.000000</td>\n",
              "      <td>250974.000000</td>\n",
              "      <td>268263.000000</td>\n",
              "      <td>197572.000000</td>\n",
              "      <td>278860.000000</td>\n",
              "      <td>250974.000000</td>\n",
              "      <td>278860.000000</td>\n",
              "      <td>277019.000000</td>\n",
              "    </tr>\n",
              "    <tr>\n",
              "      <th>mean</th>\n",
              "      <td>41.020771</td>\n",
              "      <td>42089.085329</td>\n",
              "      <td>1.998048</td>\n",
              "      <td>28.584290</td>\n",
              "      <td>0.998117</td>\n",
              "      <td>9.520283</td>\n",
              "      <td>574.362049</td>\n",
              "      <td>5.007764</td>\n",
              "      <td>966.118667</td>\n",
              "    </tr>\n",
              "    <tr>\n",
              "      <th>std</th>\n",
              "      <td>13.549683</td>\n",
              "      <td>35444.517255</td>\n",
              "      <td>1.412312</td>\n",
              "      <td>15.966208</td>\n",
              "      <td>1.000795</td>\n",
              "      <td>5.767915</td>\n",
              "      <td>158.792037</td>\n",
              "      <td>2.581349</td>\n",
              "      <td>909.404567</td>\n",
              "    </tr>\n",
              "    <tr>\n",
              "      <th>min</th>\n",
              "      <td>18.000000</td>\n",
              "      <td>0.000000</td>\n",
              "      <td>0.000000</td>\n",
              "      <td>0.035436</td>\n",
              "      <td>0.000000</td>\n",
              "      <td>0.000000</td>\n",
              "      <td>300.000000</td>\n",
              "      <td>1.000000</td>\n",
              "      <td>0.000000</td>\n",
              "    </tr>\n",
              "    <tr>\n",
              "      <th>25%</th>\n",
              "      <td>29.000000</td>\n",
              "      <td>13588.000000</td>\n",
              "      <td>1.000000</td>\n",
              "      <td>16.149890</td>\n",
              "      <td>0.000000</td>\n",
              "      <td>5.000000</td>\n",
              "      <td>437.000000</td>\n",
              "      <td>3.000000</td>\n",
              "      <td>286.000000</td>\n",
              "    </tr>\n",
              "    <tr>\n",
              "      <th>50%</th>\n",
              "      <td>41.000000</td>\n",
              "      <td>32191.000000</td>\n",
              "      <td>2.000000</td>\n",
              "      <td>26.451244</td>\n",
              "      <td>1.000000</td>\n",
              "      <td>10.000000</td>\n",
              "      <td>575.000000</td>\n",
              "      <td>5.000000</td>\n",
              "      <td>688.000000</td>\n",
              "    </tr>\n",
              "    <tr>\n",
              "      <th>75%</th>\n",
              "      <td>53.000000</td>\n",
              "      <td>62164.000000</td>\n",
              "      <td>3.000000</td>\n",
              "      <td>38.966369</td>\n",
              "      <td>2.000000</td>\n",
              "      <td>15.000000</td>\n",
              "      <td>712.000000</td>\n",
              "      <td>7.000000</td>\n",
              "      <td>1367.000000</td>\n",
              "    </tr>\n",
              "    <tr>\n",
              "      <th>max</th>\n",
              "      <td>64.000000</td>\n",
              "      <td>149997.000000</td>\n",
              "      <td>4.000000</td>\n",
              "      <td>93.876090</td>\n",
              "      <td>9.000000</td>\n",
              "      <td>19.000000</td>\n",
              "      <td>849.000000</td>\n",
              "      <td>9.000000</td>\n",
              "      <td>4999.000000</td>\n",
              "    </tr>\n",
              "  </tbody>\n",
              "</table>\n",
              "</div>\n",
              "    <div class=\"colab-df-buttons\">\n",
              "\n",
              "  <div class=\"colab-df-container\">\n",
              "    <button class=\"colab-df-convert\" onclick=\"convertToInteractive('df-b7f2b177-032b-4e56-a2d3-1b5116a19a95')\"\n",
              "            title=\"Convert this dataframe to an interactive table.\"\n",
              "            style=\"display:none;\">\n",
              "\n",
              "  <svg xmlns=\"http://www.w3.org/2000/svg\" height=\"24px\" viewBox=\"0 -960 960 960\">\n",
              "    <path d=\"M120-120v-720h720v720H120Zm60-500h600v-160H180v160Zm220 220h160v-160H400v160Zm0 220h160v-160H400v160ZM180-400h160v-160H180v160Zm440 0h160v-160H620v160ZM180-180h160v-160H180v160Zm440 0h160v-160H620v160Z\"/>\n",
              "  </svg>\n",
              "    </button>\n",
              "\n",
              "  <style>\n",
              "    .colab-df-container {\n",
              "      display:flex;\n",
              "      gap: 12px;\n",
              "    }\n",
              "\n",
              "    .colab-df-convert {\n",
              "      background-color: #E8F0FE;\n",
              "      border: none;\n",
              "      border-radius: 50%;\n",
              "      cursor: pointer;\n",
              "      display: none;\n",
              "      fill: #1967D2;\n",
              "      height: 32px;\n",
              "      padding: 0 0 0 0;\n",
              "      width: 32px;\n",
              "    }\n",
              "\n",
              "    .colab-df-convert:hover {\n",
              "      background-color: #E2EBFA;\n",
              "      box-shadow: 0px 1px 2px rgba(60, 64, 67, 0.3), 0px 1px 3px 1px rgba(60, 64, 67, 0.15);\n",
              "      fill: #174EA6;\n",
              "    }\n",
              "\n",
              "    .colab-df-buttons div {\n",
              "      margin-bottom: 4px;\n",
              "    }\n",
              "\n",
              "    [theme=dark] .colab-df-convert {\n",
              "      background-color: #3B4455;\n",
              "      fill: #D2E3FC;\n",
              "    }\n",
              "\n",
              "    [theme=dark] .colab-df-convert:hover {\n",
              "      background-color: #434B5C;\n",
              "      box-shadow: 0px 1px 3px 1px rgba(0, 0, 0, 0.15);\n",
              "      filter: drop-shadow(0px 1px 2px rgba(0, 0, 0, 0.3));\n",
              "      fill: #FFFFFF;\n",
              "    }\n",
              "  </style>\n",
              "\n",
              "    <script>\n",
              "      const buttonEl =\n",
              "        document.querySelector('#df-b7f2b177-032b-4e56-a2d3-1b5116a19a95 button.colab-df-convert');\n",
              "      buttonEl.style.display =\n",
              "        google.colab.kernel.accessAllowed ? 'block' : 'none';\n",
              "\n",
              "      async function convertToInteractive(key) {\n",
              "        const element = document.querySelector('#df-b7f2b177-032b-4e56-a2d3-1b5116a19a95');\n",
              "        const dataTable =\n",
              "          await google.colab.kernel.invokeFunction('convertToInteractive',\n",
              "                                                    [key], {});\n",
              "        if (!dataTable) return;\n",
              "\n",
              "        const docLinkHtml = 'Like what you see? Visit the ' +\n",
              "          '<a target=\"_blank\" href=https://colab.research.google.com/notebooks/data_table.ipynb>data table notebook</a>'\n",
              "          + ' to learn more about interactive tables.';\n",
              "        element.innerHTML = '';\n",
              "        dataTable['output_type'] = 'display_data';\n",
              "        await google.colab.output.renderOutput(dataTable, element);\n",
              "        const docLink = document.createElement('div');\n",
              "        docLink.innerHTML = docLinkHtml;\n",
              "        element.appendChild(docLink);\n",
              "      }\n",
              "    </script>\n",
              "  </div>\n",
              "\n",
              "\n",
              "    <div id=\"df-4cd1f247-ab91-420c-bb45-6624642b7eba\">\n",
              "      <button class=\"colab-df-quickchart\" onclick=\"quickchart('df-4cd1f247-ab91-420c-bb45-6624642b7eba')\"\n",
              "                title=\"Suggest charts\"\n",
              "                style=\"display:none;\">\n",
              "\n",
              "<svg xmlns=\"http://www.w3.org/2000/svg\" height=\"24px\"viewBox=\"0 0 24 24\"\n",
              "     width=\"24px\">\n",
              "    <g>\n",
              "        <path d=\"M19 3H5c-1.1 0-2 .9-2 2v14c0 1.1.9 2 2 2h14c1.1 0 2-.9 2-2V5c0-1.1-.9-2-2-2zM9 17H7v-7h2v7zm4 0h-2V7h2v10zm4 0h-2v-4h2v4z\"/>\n",
              "    </g>\n",
              "</svg>\n",
              "      </button>\n",
              "\n",
              "<style>\n",
              "  .colab-df-quickchart {\n",
              "      --bg-color: #E8F0FE;\n",
              "      --fill-color: #1967D2;\n",
              "      --hover-bg-color: #E2EBFA;\n",
              "      --hover-fill-color: #174EA6;\n",
              "      --disabled-fill-color: #AAA;\n",
              "      --disabled-bg-color: #DDD;\n",
              "  }\n",
              "\n",
              "  [theme=dark] .colab-df-quickchart {\n",
              "      --bg-color: #3B4455;\n",
              "      --fill-color: #D2E3FC;\n",
              "      --hover-bg-color: #434B5C;\n",
              "      --hover-fill-color: #FFFFFF;\n",
              "      --disabled-bg-color: #3B4455;\n",
              "      --disabled-fill-color: #666;\n",
              "  }\n",
              "\n",
              "  .colab-df-quickchart {\n",
              "    background-color: var(--bg-color);\n",
              "    border: none;\n",
              "    border-radius: 50%;\n",
              "    cursor: pointer;\n",
              "    display: none;\n",
              "    fill: var(--fill-color);\n",
              "    height: 32px;\n",
              "    padding: 0;\n",
              "    width: 32px;\n",
              "  }\n",
              "\n",
              "  .colab-df-quickchart:hover {\n",
              "    background-color: var(--hover-bg-color);\n",
              "    box-shadow: 0 1px 2px rgba(60, 64, 67, 0.3), 0 1px 3px 1px rgba(60, 64, 67, 0.15);\n",
              "    fill: var(--button-hover-fill-color);\n",
              "  }\n",
              "\n",
              "  .colab-df-quickchart-complete:disabled,\n",
              "  .colab-df-quickchart-complete:disabled:hover {\n",
              "    background-color: var(--disabled-bg-color);\n",
              "    fill: var(--disabled-fill-color);\n",
              "    box-shadow: none;\n",
              "  }\n",
              "\n",
              "  .colab-df-spinner {\n",
              "    border: 2px solid var(--fill-color);\n",
              "    border-color: transparent;\n",
              "    border-bottom-color: var(--fill-color);\n",
              "    animation:\n",
              "      spin 1s steps(1) infinite;\n",
              "  }\n",
              "\n",
              "  @keyframes spin {\n",
              "    0% {\n",
              "      border-color: transparent;\n",
              "      border-bottom-color: var(--fill-color);\n",
              "      border-left-color: var(--fill-color);\n",
              "    }\n",
              "    20% {\n",
              "      border-color: transparent;\n",
              "      border-left-color: var(--fill-color);\n",
              "      border-top-color: var(--fill-color);\n",
              "    }\n",
              "    30% {\n",
              "      border-color: transparent;\n",
              "      border-left-color: var(--fill-color);\n",
              "      border-top-color: var(--fill-color);\n",
              "      border-right-color: var(--fill-color);\n",
              "    }\n",
              "    40% {\n",
              "      border-color: transparent;\n",
              "      border-right-color: var(--fill-color);\n",
              "      border-top-color: var(--fill-color);\n",
              "    }\n",
              "    60% {\n",
              "      border-color: transparent;\n",
              "      border-right-color: var(--fill-color);\n",
              "    }\n",
              "    80% {\n",
              "      border-color: transparent;\n",
              "      border-right-color: var(--fill-color);\n",
              "      border-bottom-color: var(--fill-color);\n",
              "    }\n",
              "    90% {\n",
              "      border-color: transparent;\n",
              "      border-bottom-color: var(--fill-color);\n",
              "    }\n",
              "  }\n",
              "</style>\n",
              "\n",
              "      <script>\n",
              "        async function quickchart(key) {\n",
              "          const quickchartButtonEl =\n",
              "            document.querySelector('#' + key + ' button');\n",
              "          quickchartButtonEl.disabled = true;  // To prevent multiple clicks.\n",
              "          quickchartButtonEl.classList.add('colab-df-spinner');\n",
              "          try {\n",
              "            const charts = await google.colab.kernel.invokeFunction(\n",
              "                'suggestCharts', [key], {});\n",
              "          } catch (error) {\n",
              "            console.error('Error during call to suggestCharts:', error);\n",
              "          }\n",
              "          quickchartButtonEl.classList.remove('colab-df-spinner');\n",
              "          quickchartButtonEl.classList.add('colab-df-quickchart-complete');\n",
              "        }\n",
              "        (() => {\n",
              "          let quickchartButtonEl =\n",
              "            document.querySelector('#df-4cd1f247-ab91-420c-bb45-6624642b7eba button');\n",
              "          quickchartButtonEl.style.display =\n",
              "            google.colab.kernel.accessAllowed ? 'block' : 'none';\n",
              "        })();\n",
              "      </script>\n",
              "    </div>\n",
              "\n",
              "    </div>\n",
              "  </div>\n"
            ],
            "application/vnd.google.colaboratory.intrinsic+json": {
              "type": "dataframe",
              "summary": "{\n  \"name\": \"df\",\n  \"rows\": 8,\n  \"fields\": [\n    {\n      \"column\": \"Age\",\n      \"properties\": {\n        \"dtype\": \"number\",\n        \"std\": 96922.39204623798,\n        \"min\": 13.549682756508417,\n        \"max\": 274175.0,\n        \"num_unique_values\": 8,\n        \"samples\": [\n          41.020771405124464,\n          41.0,\n          274175.0\n        ],\n        \"semantic_type\": \"\",\n        \"description\": \"\"\n      }\n    },\n    {\n      \"column\": \"Annual Income\",\n      \"properties\": {\n        \"dtype\": \"number\",\n        \"std\": 89226.84794323772,\n        \"min\": 0.0,\n        \"max\": 264905.0,\n        \"num_unique_values\": 8,\n        \"samples\": [\n          42089.08532870274,\n          32191.0,\n          264905.0\n        ],\n        \"semantic_type\": \"\",\n        \"description\": \"\"\n      }\n    },\n    {\n      \"column\": \"Number of Dependents\",\n      \"properties\": {\n        \"dtype\": \"number\",\n        \"std\": 88732.03133360192,\n        \"min\": 0.0,\n        \"max\": 250974.0,\n        \"num_unique_values\": 8,\n        \"samples\": [\n          1.9980476065249786,\n          2.0,\n          250974.0\n        ],\n        \"semantic_type\": \"\",\n        \"description\": \"\"\n      }\n    },\n    {\n      \"column\": \"Health Score\",\n      \"properties\": {\n        \"dtype\": \"number\",\n        \"std\": 94834.18415437416,\n        \"min\": 0.0354362088677346,\n        \"max\": 268263.0,\n        \"num_unique_values\": 8,\n        \"samples\": [\n          28.584289758304205,\n          26.45124399543128,\n          268263.0\n        ],\n        \"semantic_type\": \"\",\n        \"description\": \"\"\n      }\n    },\n    {\n      \"column\": \"Previous Claims\",\n      \"properties\": {\n        \"dtype\": \"number\",\n        \"std\": 69851.54349581036,\n        \"min\": 0.0,\n        \"max\": 197572.0,\n        \"num_unique_values\": 7,\n        \"samples\": [\n          197572.0,\n          0.9981171421051566,\n          2.0\n        ],\n        \"semantic_type\": \"\",\n        \"description\": \"\"\n      }\n    },\n    {\n      \"column\": \"Vehicle Age\",\n      \"properties\": {\n        \"dtype\": \"number\",\n        \"std\": 98588.65163365242,\n        \"min\": 0.0,\n        \"max\": 278860.0,\n        \"num_unique_values\": 8,\n        \"samples\": [\n          9.520282579071935,\n          10.0,\n          278860.0\n        ],\n        \"semantic_type\": \"\",\n        \"description\": \"\"\n      }\n    },\n    {\n      \"column\": \"Credit Score\",\n      \"properties\": {\n        \"dtype\": \"number\",\n        \"std\": 88550.84194551173,\n        \"min\": 158.79203741787492,\n        \"max\": 250974.0,\n        \"num_unique_values\": 8,\n        \"samples\": [\n          574.3620494553221,\n          575.0,\n          250974.0\n        ],\n        \"semantic_type\": \"\",\n        \"description\": \"\"\n      }\n    },\n    {\n      \"column\": \"Insurance Duration\",\n      \"properties\": {\n        \"dtype\": \"number\",\n        \"std\": 98590.25253471441,\n        \"min\": 1.0,\n        \"max\": 278860.0,\n        \"num_unique_values\": 8,\n        \"samples\": [\n          5.007763752420569,\n          5.0,\n          278860.0\n        ],\n        \"semantic_type\": \"\",\n        \"description\": \"\"\n      }\n    },\n    {\n      \"column\": \"Premium Amount\",\n      \"properties\": {\n        \"dtype\": \"number\",\n        \"std\": 97488.03978407673,\n        \"min\": 0.0,\n        \"max\": 277019.0,\n        \"num_unique_values\": 8,\n        \"samples\": [\n          966.1186669506424,\n          688.0,\n          277019.0\n        ],\n        \"semantic_type\": \"\",\n        \"description\": \"\"\n      }\n    }\n  ]\n}"
            }
          },
          "metadata": {},
          "execution_count": 24
        }
      ]
    },
    {
      "cell_type": "code",
      "source": [
        "df.info()"
      ],
      "metadata": {
        "colab": {
          "base_uri": "https://localhost:8080/"
        },
        "id": "hLr04Ww6kcUl",
        "outputId": "6009dc9b-5d9e-4393-8ac8-05d6c37ad6ae"
      },
      "id": "hLr04Ww6kcUl",
      "execution_count": null,
      "outputs": [
        {
          "output_type": "stream",
          "name": "stdout",
          "text": [
            "<class 'pandas.core.frame.DataFrame'>\n",
            "RangeIndex: 278860 entries, 0 to 278859\n",
            "Data columns (total 20 columns):\n",
            " #   Column                Non-Null Count   Dtype  \n",
            "---  ------                --------------   -----  \n",
            " 0   Age                   274175 non-null  float64\n",
            " 1   Gender                278860 non-null  object \n",
            " 2   Annual Income         264905 non-null  float64\n",
            " 3   Marital Status        273841 non-null  object \n",
            " 4   Number of Dependents  250974 non-null  float64\n",
            " 5   Education Level       278860 non-null  object \n",
            " 6   Occupation            197572 non-null  object \n",
            " 7   Health Score          268263 non-null  float64\n",
            " 8   Location              278860 non-null  object \n",
            " 9   Policy Type           278860 non-null  object \n",
            " 10  Previous Claims       197572 non-null  float64\n",
            " 11  Vehicle Age           278860 non-null  int64  \n",
            " 12  Credit Score          250974 non-null  float64\n",
            " 13  Insurance Duration    278860 non-null  int64  \n",
            " 14  Premium Amount        277019 non-null  float64\n",
            " 15  Policy Start Date     278860 non-null  object \n",
            " 16  Customer Feedback     260511 non-null  object \n",
            " 17  Smoking Status        278860 non-null  object \n",
            " 18  Exercise Frequency    278860 non-null  object \n",
            " 19  Property Type         278860 non-null  object \n",
            "dtypes: float64(7), int64(2), object(11)\n",
            "memory usage: 42.6+ MB\n"
          ]
        }
      ]
    },
    {
      "cell_type": "code",
      "source": [
        "print(df.describe(include='object'))"
      ],
      "metadata": {
        "colab": {
          "base_uri": "https://localhost:8080/"
        },
        "id": "7vflDkjqkqtQ",
        "outputId": "e0376c9c-8a22-4da0-e1b6-8226829ef63f"
      },
      "id": "7vflDkjqkqtQ",
      "execution_count": null,
      "outputs": [
        {
          "output_type": "stream",
          "name": "stdout",
          "text": [
            "        Gender Marital Status Education Level     Occupation  Location  \\\n",
            "count   278860         273841          278860         197572    278860   \n",
            "unique       2              3               4              3         3   \n",
            "top       Male         Single             PhD  Self-Employed  Suburban   \n",
            "freq    139754          91497           69955          65908     93482   \n",
            "\n",
            "       Policy Type           Policy Start Date Customer Feedback  \\\n",
            "count       278860                      278860            260511   \n",
            "unique           3                      181607                 3   \n",
            "top        Premium  2022-08-30 15:21:39.134960           Average   \n",
            "freq         93298                          16             86906   \n",
            "\n",
            "       Smoking Status Exercise Frequency Property Type  \n",
            "count          278860             278860        278860  \n",
            "unique              2                  4             3  \n",
            "top               Yes             Weekly         House  \n",
            "freq           139635              70238         93228  \n"
          ]
        }
      ]
    },
    {
      "cell_type": "code",
      "source": [
        "num_duplicate_rows = df.duplicated().sum()\n",
        "print(f\"Number of duplicate rows found: {num_duplicate_rows}\")\n",
        "\n",
        "if num_duplicate_rows > 0:\n",
        "    print(\"Dropping duplicate rows...\")\n",
        "    df.drop_duplicates(inplace=True)\n",
        "    print(f\"Number of rows after dropping duplicates: {len(df)}\")\n",
        "else:\n",
        "    print(\"No duplicate rows found.\")"
      ],
      "metadata": {
        "colab": {
          "base_uri": "https://localhost:8080/"
        },
        "id": "xzX1yB5PlH2g",
        "outputId": "24eb8ddd-16a4-43a0-f487-8af4f837ffbd"
      },
      "id": "xzX1yB5PlH2g",
      "execution_count": null,
      "outputs": [
        {
          "output_type": "stream",
          "name": "stdout",
          "text": [
            "Number of duplicate rows found: 0\n",
            "No duplicate rows found.\n"
          ]
        }
      ]
    },
    {
      "cell_type": "code",
      "source": [
        "# Check for null values in each column\n",
        "print(df.isnull().sum())"
      ],
      "metadata": {
        "colab": {
          "base_uri": "https://localhost:8080/"
        },
        "id": "VolLy_LblO3F",
        "outputId": "cf51c1e4-c1ca-486b-ec4c-fe24d901f1f2"
      },
      "id": "VolLy_LblO3F",
      "execution_count": null,
      "outputs": [
        {
          "output_type": "stream",
          "name": "stdout",
          "text": [
            "Age                      4685\n",
            "Gender                      0\n",
            "Annual Income           13955\n",
            "Marital Status           5019\n",
            "Number of Dependents    27886\n",
            "Education Level             0\n",
            "Occupation              81288\n",
            "Health Score            10597\n",
            "Location                    0\n",
            "Policy Type                 0\n",
            "Previous Claims         81288\n",
            "Vehicle Age                 0\n",
            "Credit Score            27886\n",
            "Insurance Duration          0\n",
            "Premium Amount           1841\n",
            "Policy Start Date           0\n",
            "Customer Feedback       18349\n",
            "Smoking Status              0\n",
            "Exercise Frequency          0\n",
            "Property Type               0\n",
            "dtype: int64\n"
          ]
        }
      ]
    },
    {
      "cell_type": "code",
      "source": [
        "\n",
        "# the dataset is too large to create an Heatmap for missing values due to resources overload, so we'd use this method\n",
        "\n",
        "missing_percentages = df.isnull().sum() / len(df) * 100\n",
        "missing_percentages = missing_percentages[missing_percentages > 0].sort_values(ascending=False)\n",
        "\n",
        "plt.figure(figsize=(12, 7))\n",
        "sns.barplot(x=missing_percentages.index, y=missing_percentages.values,hue=missing_percentages.index, palette='viridis')\n",
        "plt.title('Percentage of Missing Values Per Column')\n",
        "plt.xlabel('Columns')\n",
        "plt.ylabel('Missing Percentage (%)')\n",
        "plt.xticks(rotation=45, ha='right')\n",
        "plt.tight_layout()\n",
        "plt.show()"
      ],
      "metadata": {
        "colab": {
          "base_uri": "https://localhost:8080/",
          "height": 303
        },
        "id": "C_LF6_YtmJVf",
        "outputId": "28e64e4e-afaf-426f-b22a-0c085767b407"
      },
      "id": "C_LF6_YtmJVf",
      "execution_count": null,
      "outputs": [
        {
          "output_type": "display_data",
          "data": {
            "text/plain": [
              "<Figure size 1200x700 with 1 Axes>"
            ],
            "image/png": "[encoded data removed]"
          },
          "metadata": {}
        }
      ]
    },
    {
      "cell_type": "code",
      "source": [
        "# I would drop the missing rows in Premium amount column since it has the lowest count\n",
        "df.dropna(subset=['Premium Amount'], inplace=True)\n",
        "print(f\"Number of rows after dropping rows with missing 'Premium Amount': {len(df)}\")"
      ],
      "metadata": {
        "colab": {
          "base_uri": "https://localhost:8080/"
        },
        "id": "rz4bEyKtoF9Y",
        "outputId": "e7e7f746-5f2a-476f-ff5a-5844f4c4b018"
      },
      "id": "rz4bEyKtoF9Y",
      "execution_count": null,
      "outputs": [
        {
          "output_type": "stream",
          "name": "stdout",
          "text": [
            "Number of rows after dropping rows with missing 'Premium Amount': 277019\n"
          ]
        }
      ]
    },
    {
      "cell_type": "markdown",
      "source": [
        "Next is the Occupation column, I'll replace all missing rows with \"Missing\", dropping them which account to 30% mwy have effect on the dataset considering it important role"
      ],
      "metadata": {
        "id": "oCn4AS3cpAgV"
      },
      "id": "oCn4AS3cpAgV"
    },
    {
      "cell_type": "code",
      "source": [
        "# Impute missing values in 'Occupation' with 'Unknown'\n",
        "df['Occupation'].fillna('Unknown', inplace=True)\n",
        "print(f\"Missing values in 'Occupation' after imputation: {df['Occupation'].isnull().sum()}\")"
      ],
      "metadata": {
        "colab": {
          "base_uri": "https://localhost:8080/"
        },
        "id": "v8WVUG8JpZqw",
        "outputId": "1cadc5a9-f667-4fed-8928-06fc3c0bf391"
      },
      "id": "v8WVUG8JpZqw",
      "execution_count": null,
      "outputs": [
        {
          "output_type": "stream",
          "name": "stdout",
          "text": [
            "Missing values in 'Occupation' after imputation: 0\n"
          ]
        },
        {
          "output_type": "stream",
          "name": "stderr",
          "text": [
            "/tmp/ipython-input-31-1984355617.py:2: FutureWarning: A value is trying to be set on a copy of a DataFrame or Series through chained assignment using an inplace method.\n",
            "The behavior will change in pandas 3.0. This inplace method will never work because the intermediate object on which we are setting values always behaves as a copy.\n",
            "\n",
            "For example, when doing 'df[col].method(value, inplace=True)', try using 'df.method({col: value}, inplace=True)' or df[col] = df[col].method(value) instead, to perform the operation inplace on the original object.\n",
            "\n",
            "\n",
            "  df['Occupation'].fillna('Unknown', inplace=True)\n"
          ]
        }
      ]
    },
    {
      "cell_type": "markdown",
      "source": [
        "We'd replace all missing rows in Previous claims to 0 , this is my assumption, if this have an effect in the eda process, I'd revisit it"
      ],
      "metadata": {
        "id": "VFgAPXZHpZKA"
      },
      "id": "VFgAPXZHpZKA"
    },
    {
      "cell_type": "code",
      "source": [
        "# Impute missing values in 'Previous Claims' with 0\n",
        "df['Previous Claims'].fillna(0, inplace=True)\n",
        "print(f\"Missing values in 'Previous Claims' after imputation: {df['Previous Claims'].isnull().sum()}\")"
      ],
      "metadata": {
        "colab": {
          "base_uri": "https://localhost:8080/"
        },
        "id": "ZNT0jE2fqPnZ",
        "outputId": "6b6960a6-2125-4013-e344-01a1ae54c121"
      },
      "id": "ZNT0jE2fqPnZ",
      "execution_count": null,
      "outputs": [
        {
          "output_type": "stream",
          "name": "stdout",
          "text": [
            "Missing values in 'Previous Claims' after imputation: 0\n"
          ]
        },
        {
          "output_type": "stream",
          "name": "stderr",
          "text": [
            "/tmp/ipython-input-32-675448415.py:2: FutureWarning: A value is trying to be set on a copy of a DataFrame or Series through chained assignment using an inplace method.\n",
            "The behavior will change in pandas 3.0. This inplace method will never work because the intermediate object on which we are setting values always behaves as a copy.\n",
            "\n",
            "For example, when doing 'df[col].method(value, inplace=True)', try using 'df.method({col: value}, inplace=True)' or df[col] = df[col].method(value) instead, to perform the operation inplace on the original object.\n",
            "\n",
            "\n",
            "  df['Previous Claims'].fillna(0, inplace=True)\n"
          ]
        }
      ]
    },
    {
      "cell_type": "markdown",
      "source": [
        "the next column with a significant number of missing values (27,886) is Number of Dependents. This is a numerical feature representing a count. Median imputation is generally a robust choice for numerical data, especially count data, as it's less sensitive to outliers than the mean."
      ],
      "metadata": {
        "id": "dRSOMTzGqs0X"
      },
      "id": "dRSOMTzGqs0X"
    },
    {
      "cell_type": "code",
      "source": [
        "# Impute missing values in 'Number of Dependents' with its median\n",
        "median_dependents = df['Number of Dependents'].median()\n",
        "df['Number of Dependents'] = df['Number of Dependents'].fillna(median_dependents)\n",
        "print(f\"Missing values in 'Number of Dependents' after imputation: {df['Number of Dependents'].isnull().sum()}\")"
      ],
      "metadata": {
        "colab": {
          "base_uri": "https://localhost:8080/"
        },
        "id": "UAscdka0qwss",
        "outputId": "27f29568-d1ee-4c2c-8662-56c0e8a353c5"
      },
      "id": "UAscdka0qwss",
      "execution_count": null,
      "outputs": [
        {
          "output_type": "stream",
          "name": "stdout",
          "text": [
            "Missing values in 'Number of Dependents' after imputation: 0\n"
          ]
        }
      ]
    },
    {
      "cell_type": "markdown",
      "source": [
        "Same step goes to the Credit score column"
      ],
      "metadata": {
        "id": "LTXKZF9HrHh3"
      },
      "id": "LTXKZF9HrHh3"
    },
    {
      "cell_type": "code",
      "source": [
        "# Impute missing values in 'Credit Score' with its median\n",
        "median_credit_score = df['Credit Score'].median()\n",
        "df['Credit Score'] = df['Credit Score'].fillna(median_credit_score)\n",
        "print(f\"Missing values in 'Credit Score' after imputation: {df['Credit Score'].isnull().sum()}\")"
      ],
      "metadata": {
        "colab": {
          "base_uri": "https://localhost:8080/"
        },
        "id": "4DUjSsU9rNhY",
        "outputId": "662837b1-4b0b-4642-a2fd-ecb27a3b6b30"
      },
      "id": "4DUjSsU9rNhY",
      "execution_count": null,
      "outputs": [
        {
          "output_type": "stream",
          "name": "stdout",
          "text": [
            "Missing values in 'Credit Score' after imputation: 0\n"
          ]
        }
      ]
    },
    {
      "cell_type": "markdown",
      "source": [
        "The next column with missing values to address is Customer Feedback (18,349 missing). Since this is a categorical/textual field, a good strategy is to impute missing values with a new category, such as 'No Feedback', to indicate that feedback was not provided."
      ],
      "metadata": {
        "id": "LofwuhdtlsjV"
      },
      "id": "LofwuhdtlsjV"
    },
    {
      "cell_type": "code",
      "source": [
        "# Impute missing values in 'Customer Feedback' with 'No Feedback'\n",
        "df['Customer Feedback'] = df['Customer Feedback'].fillna('No Feedback')\n",
        "print(f\"Missing values in 'Customer Feedback' after imputation: {df['Customer Feedback'].isnull().sum()}\")"
      ],
      "metadata": {
        "colab": {
          "base_uri": "https://localhost:8080/"
        },
        "id": "jMBS6vaYlbV4",
        "outputId": "7d9082b5-0704-4173-9208-1289911db233"
      },
      "id": "jMBS6vaYlbV4",
      "execution_count": null,
      "outputs": [
        {
          "output_type": "stream",
          "name": "stdout",
          "text": [
            "Missing values in 'Customer Feedback' after imputation: 0\n"
          ]
        }
      ]
    },
    {
      "cell_type": "markdown",
      "source": [
        "The next Column is the Annual Income which is numerical, to save it from outliers, we'd replace all missing values with the median"
      ],
      "metadata": {
        "id": "MBkuqebKmdvC"
      },
      "id": "MBkuqebKmdvC"
    },
    {
      "cell_type": "code",
      "source": [
        "# Impute missing values in 'Annual Income' with its median\n",
        "median_annual_income = df['Annual Income'].median()\n",
        "df['Annual Income'] = df['Annual Income'].fillna(median_annual_income)\n",
        "print(f\"Missing values in 'Annual Income' after imputation: {df['Annual Income'].isnull().sum()}\")"
      ],
      "metadata": {
        "colab": {
          "base_uri": "https://localhost:8080/"
        },
        "id": "UncHRz7mmRzD",
        "outputId": "fa3ca4ab-52c9-4f0f-f95c-93fa0b943503"
      },
      "id": "UncHRz7mmRzD",
      "execution_count": null,
      "outputs": [
        {
          "output_type": "stream",
          "name": "stdout",
          "text": [
            "Missing values in 'Annual Income' after imputation: 0\n"
          ]
        }
      ]
    },
    {
      "cell_type": "markdown",
      "source": [
        "The next column to address with missing values is Health Score (10,597 missing). This is a numerical feature. Given its slightly skewed distribution (as observed from df.describe() where the mean was slightly higher than the median), imputing with the median is a robust choice."
      ],
      "metadata": {
        "id": "ixGtyC5snM-x"
      },
      "id": "ixGtyC5snM-x"
    },
    {
      "cell_type": "code",
      "source": [
        "# Impute missing values in 'Health Score' with its median\n",
        "median_health_score = df['Health Score'].median()\n",
        "df['Health Score'] = df['Health Score'].fillna(median_health_score)\n",
        "print(f\"Missing values in 'Health Score' after imputation: {df['Health Score'].isnull().sum()}\")"
      ],
      "metadata": {
        "colab": {
          "base_uri": "https://localhost:8080/"
        },
        "id": "TaA2s80AnMaE",
        "outputId": "8e9a8bce-22ea-4012-b81b-b5cca5127bd9"
      },
      "id": "TaA2s80AnMaE",
      "execution_count": null,
      "outputs": [
        {
          "output_type": "stream",
          "name": "stdout",
          "text": [
            "Missing values in 'Health Score' after imputation: 0\n"
          ]
        }
      ]
    },
    {
      "cell_type": "markdown",
      "source": [
        "The next column to address is Marital Status (5,019 missing). This is a categorical feature. To handle these missing values, we will impute them with a new category, 'Unknown', which helps preserve the information that these values were originally missing."
      ],
      "metadata": {
        "id": "gKQWzDZUnlr7"
      },
      "id": "gKQWzDZUnlr7"
    },
    {
      "cell_type": "code",
      "source": [
        "# Impute missing values in 'Marital Status' with 'Unknown'\n",
        "df['Marital Status'] = df['Marital Status'].fillna('Unknown')\n",
        "print(f\"Missing values in 'Marital Status' after imputation: {df['Marital Status'].isnull().sum()}\")"
      ],
      "metadata": {
        "colab": {
          "base_uri": "https://localhost:8080/"
        },
        "id": "gOtekBionqUT",
        "outputId": "f45d0529-7671-4559-ff30-32e78fa490b4"
      },
      "id": "gOtekBionqUT",
      "execution_count": null,
      "outputs": [
        {
          "output_type": "stream",
          "name": "stdout",
          "text": [
            "Missing values in 'Marital Status' after imputation: 0\n"
          ]
        }
      ]
    },
    {
      "cell_type": "markdown",
      "source": [
        "The final column to address is Age (4,685 missing). This is a numerical feature. Given that its mean and median were previously observed to be very close, indicating a symmetrical distribution, imputing with the median is a suitable and robust approach."
      ],
      "metadata": {
        "id": "Io_48sA5oPIn"
      },
      "id": "Io_48sA5oPIn"
    },
    {
      "cell_type": "code",
      "source": [
        "# Impute missing values in 'Age' with its median\n",
        "median_age = df['Age'].median()\n",
        "df['Age'] = df['Age'].fillna(median_age)\n",
        "print(f\"Missing values in 'Age' after imputation: {df['Age'].isnull().sum()}\")"
      ],
      "metadata": {
        "colab": {
          "base_uri": "https://localhost:8080/"
        },
        "id": "K-_OjKgloTeI",
        "outputId": "8082606f-89d3-4383-98fd-028da650f825"
      },
      "id": "K-_OjKgloTeI",
      "execution_count": null,
      "outputs": [
        {
          "output_type": "stream",
          "name": "stdout",
          "text": [
            "Missing values in 'Age' after imputation: 0\n"
          ]
        }
      ]
    },
    {
      "cell_type": "code",
      "source": [
        "# Verify that all missing values have been handled\n",
        "print(\"Total missing values after all imputations:\")\n",
        "print(df.isnull().sum().sum())"
      ],
      "metadata": {
        "colab": {
          "base_uri": "https://localhost:8080/"
        },
        "id": "mGJLBzUhoXju",
        "outputId": "34efad35-bd51-4cf8-8a36-a04eb93815ae"
      },
      "id": "mGJLBzUhoXju",
      "execution_count": null,
      "outputs": [
        {
          "output_type": "stream",
          "name": "stdout",
          "text": [
            "Total missing values after all imputations:\n",
            "0\n"
          ]
        }
      ]
    },
    {
      "cell_type": "markdown",
      "source": [
        "Next step is to correct the object type"
      ],
      "metadata": {
        "id": "9rjhhCJqqp2_"
      },
      "id": "9rjhhCJqqp2_"
    },
    {
      "cell_type": "code",
      "source": [
        "# Convert 'Policy Start Date' to datetime, coercing errors to NaT\n",
        "df['Policy Start Date'] = pd.to_datetime(df['Policy Start Date'], errors='coerce')\n",
        "print(f\"Data type of 'Policy Start Date' after conversion: {df['Policy Start Date'].dtype}\")\n",
        "\n",
        "# Count any invalid dates that became NaT\n",
        "invalid_dates_count = df['Policy Start Date'].isnull().sum()\n",
        "print(f\"Number of invalid 'Policy Start Date' entries (converted to NaT): {invalid_dates_count}\")"
      ],
      "metadata": {
        "colab": {
          "base_uri": "https://localhost:8080/"
        },
        "id": "PtvfKUn6quq3",
        "outputId": "55fbc854-4d1a-4bf9-b42f-0e88ce4dce02"
      },
      "id": "PtvfKUn6quq3",
      "execution_count": null,
      "outputs": [
        {
          "output_type": "stream",
          "name": "stdout",
          "text": [
            "Data type of 'Policy Start Date' after conversion: datetime64[ns]\n",
            "Number of invalid 'Policy Start Date' entries (converted to NaT): 0\n"
          ]
        }
      ]
    },
    {
      "cell_type": "markdown",
      "source": [
        "Next is to cut out the time in that column to a new column"
      ],
      "metadata": {
        "id": "PLaHy57kq9E4"
      },
      "id": "PLaHy57kq9E4"
    },
    {
      "cell_type": "code",
      "source": [
        "# Create a new column with only the time component\n",
        "df['Policy_Start_Time'] = df['Policy Start Date'].dt.time\n",
        "print(\"First 5 entries of 'Policy_Start_Time' column:\")\n",
        "print(df['Policy_Start_Time'].head())\n",
        "print(f\"Data type of 'Policy_Start_Time': {df['Policy_Start_Time'].dtype}\")"
      ],
      "metadata": {
        "colab": {
          "base_uri": "https://localhost:8080/"
        },
        "id": "tssMil9nrDuZ",
        "outputId": "e7240a7c-ea8f-4b6d-be45-b3fbc5b047ff"
      },
      "id": "tssMil9nrDuZ",
      "execution_count": null,
      "outputs": [
        {
          "output_type": "stream",
          "name": "stdout",
          "text": [
            "First 5 entries of 'Policy_Start_Time' column:\n",
            "0    15:21:39.078837\n",
            "1    15:21:39.078837\n",
            "2    15:21:39.078837\n",
            "3    15:21:39.078837\n",
            "4    15:21:39.078837\n",
            "Name: Policy_Start_Time, dtype: object\n",
            "Data type of 'Policy_Start_Time': object\n"
          ]
        }
      ]
    },
    {
      "cell_type": "markdown",
      "source": [
        "Next step is to extract out the Years, Months into a new column"
      ],
      "metadata": {
        "id": "JWS8buT3sWKO"
      },
      "id": "JWS8buT3sWKO"
    },
    {
      "cell_type": "code",
      "source": [
        "# Extract the year from 'Policy Start Date'\n",
        "df['Policy_Start_Year'] = df['Policy Start Date'].dt.year\n",
        "print(\"First 5 entries of 'Policy_Start_Year' column:\")\n",
        "print(df['Policy_Start_Year'].head())\n",
        "print(f\"Data type of 'Policy_Start_Year': {df['Policy_Start_Year'].dtype}\")"
      ],
      "metadata": {
        "colab": {
          "base_uri": "https://localhost:8080/"
        },
        "id": "inSLco_Br9sW",
        "outputId": "545ad55f-6736-4653-f4db-736c7081aa7a"
      },
      "id": "inSLco_Br9sW",
      "execution_count": null,
      "outputs": [
        {
          "output_type": "stream",
          "name": "stdout",
          "text": [
            "First 5 entries of 'Policy_Start_Year' column:\n",
            "0    2022\n",
            "1    2023\n",
            "2    2023\n",
            "3    2023\n",
            "4    2020\n",
            "Name: Policy_Start_Year, dtype: int32\n",
            "Data type of 'Policy_Start_Year': int32\n"
          ]
        }
      ]
    },
    {
      "cell_type": "code",
      "source": [
        "# List out specific unique years in the dataset\n",
        "unique_years = df['Policy_Start_Year'].sort_values().unique()\n",
        "print(\"Unique years in 'Policy Start Date':\")\n",
        "print(unique_years)"
      ],
      "metadata": {
        "colab": {
          "base_uri": "https://localhost:8080/"
        },
        "id": "ekUSFdDwsCe_",
        "outputId": "9ab5f139-6ac5-40cd-9b2e-8683c3884270"
      },
      "id": "ekUSFdDwsCe_",
      "execution_count": null,
      "outputs": [
        {
          "output_type": "stream",
          "name": "stdout",
          "text": [
            "Unique years in 'Policy Start Date':\n",
            "[2019 2020 2021 2022 2023 2024]\n"
          ]
        }
      ]
    },
    {
      "cell_type": "code",
      "source": [
        "# Extract the month from 'Policy Start Date'\n",
        "df['Policy_Start_Month'] = df['Policy Start Date'].dt.month\n",
        "print(\"First 5 entries of 'Policy_Start_Month' column:\")\n",
        "print(df['Policy_Start_Month'].head())\n",
        "print(f\"Data type of 'Policy_Start_Month': {df['Policy_Start_Month'].dtype}\")"
      ],
      "metadata": {
        "colab": {
          "base_uri": "https://localhost:8080/"
        },
        "id": "RMVSEM_NsfPf",
        "outputId": "a240d360-d48a-4378-d59e-126ad9a5a5bc"
      },
      "id": "RMVSEM_NsfPf",
      "execution_count": null,
      "outputs": [
        {
          "output_type": "stream",
          "name": "stdout",
          "text": [
            "First 5 entries of 'Policy_Start_Month' column:\n",
            "0    12\n",
            "1     1\n",
            "2    11\n",
            "3     2\n",
            "4    11\n",
            "Name: Policy_Start_Month, dtype: int32\n",
            "Data type of 'Policy_Start_Month': int32\n"
          ]
        }
      ]
    },
    {
      "cell_type": "code",
      "source": [
        "# Extract the day of the week (0=Monday, 6=Sunday), based on indexing in python\n",
        "df['Policy_Start_Day_of_Week'] = df['Policy Start Date'].dt.dayofweek\n",
        "print(\"First 5 entries of 'Policy_Start_Day_of_Week' column:\")\n",
        "print(df['Policy_Start_Day_of_Week'].head())\n",
        "print(f\"Data type of 'Policy_Start_Day_of_Week': {df['Policy_Start_Day_of_Week'].dtype}\")"
      ],
      "metadata": {
        "colab": {
          "base_uri": "https://localhost:8080/"
        },
        "id": "VmZ52_hKsybt",
        "outputId": "adea3bc3-c1ca-4e4c-bed9-f324edbd713a"
      },
      "id": "VmZ52_hKsybt",
      "execution_count": null,
      "outputs": [
        {
          "output_type": "stream",
          "name": "stdout",
          "text": [
            "First 5 entries of 'Policy_Start_Day_of_Week' column:\n",
            "0    5\n",
            "1    1\n",
            "2    6\n",
            "3    0\n",
            "4    2\n",
            "Name: Policy_Start_Day_of_Week, dtype: int32\n",
            "Data type of 'Policy_Start_Day_of_Week': int32\n"
          ]
        }
      ]
    },
    {
      "cell_type": "markdown",
      "source": [
        "The next single step is to calculate the \"Policy Age\" in years. We will determine this by subtracting the Policy Start Date from the latest policy start date observed in the dataset. This creates a relevant numerical feature for the model."
      ],
      "metadata": {
        "id": "dw65CySmuJlq"
      },
      "id": "dw65CySmuJlq"
    },
    {
      "cell_type": "code",
      "source": [
        "# Calculate Policy Age in Years relative to the latest policy start date in the dataset\n",
        "latest_policy_date = df['Policy Start Date'].max()\n",
        "df['Policy_Age_Years'] = (latest_policy_date - df['Policy Start Date']).dt.days / 365.25\n",
        "\n",
        "print(\"First 5 entries of 'Policy_Age_Years' column:\")\n",
        "print(df['Policy_Age_Years'].head())\n",
        "print(f\"Data type of 'Policy_Age_Years': {df['Policy_Age_Years'].dtype}\")"
      ],
      "metadata": {
        "colab": {
          "base_uri": "https://localhost:8080/"
        },
        "id": "3rZ_Skaht7hs",
        "outputId": "77770bb2-79fe-448f-ecc7-0c624ce73f74"
      },
      "id": "3rZ_Skaht7hs",
      "execution_count": null,
      "outputs": [
        {
          "output_type": "stream",
          "name": "stdout",
          "text": [
            "First 5 entries of 'Policy_Age_Years' column:\n",
            "0    1.681040\n",
            "1    1.538672\n",
            "2    0.720055\n",
            "3    1.464750\n",
            "4    3.720739\n",
            "Name: Policy_Age_Years, dtype: float64\n",
            "Data type of 'Policy_Age_Years': float64\n"
          ]
        }
      ]
    },
    {
      "cell_type": "markdown",
      "source": [
        "Now that we have handled all missing values and extracted key features from Policy Start Date, the next single step in our data preprocessing is to address skewed distributions of numerical features. Our primary focus for transformation is the Premium Amount target variable, which was previously noted as being heavily right-skewed. Applying a log transformation (specifically np.log1p for non-negative values) is a standard practice to normalize such distributions for regression models."
      ],
      "metadata": {
        "id": "dxLHZPOHu9G9"
      },
      "id": "dxLHZPOHu9G9"
    },
    {
      "cell_type": "code",
      "source": [
        "# Apply log1p transformation to 'Premium Amount' (target variable)\n",
        "df['Premium Amount_log'] = np.log1p(df['Premium Amount'])\n",
        "print(\"First 5 entries of 'Premium Amount_log' column:\")\n",
        "print(df['Premium Amount_log'].head())\n",
        "print(f\"Skewness of 'Premium Amount' before transformation: {df['Premium Amount'].skew():.2f}\")\n",
        "print(f\"Skewness of 'Premium Amount_log' after transformation: {df['Premium Amount_log'].skew():.2f}\")"
      ],
      "metadata": {
        "colab": {
          "base_uri": "https://localhost:8080/"
        },
        "id": "l3GTvLq8xCd5",
        "outputId": "183f3a59-fd0c-4b70-da33-16e585d1bf19"
      },
      "id": "l3GTvLq8xCd5",
      "execution_count": null,
      "outputs": [
        {
          "output_type": "stream",
          "name": "stdout",
          "text": [
            "First 5 entries of 'Premium Amount_log' column:\n",
            "0    5.733341\n",
            "1    6.249975\n",
            "2    6.745236\n",
            "3    6.833032\n",
            "4    5.717028\n",
            "Name: Premium Amount_log, dtype: float64\n",
            "Skewness of 'Premium Amount' before transformation: 1.50\n",
            "Skewness of 'Premium Amount_log' after transformation: -1.09\n"
          ]
        }
      ]
    },
    {
      "cell_type": "markdown",
      "source": [
        "The next single step is to apply a log transformation (np.log1p) to the Annual Income column. This feature was previously identified as being right-skewed, and this transformation will help normalize its distribution."
      ],
      "metadata": {
        "id": "-tqaz9Uvxbzg"
      },
      "id": "-tqaz9Uvxbzg"
    },
    {
      "cell_type": "code",
      "source": [
        "# Apply log1p transformation to 'Annual Income'\n",
        "df['Annual Income_log'] = np.log1p(df['Annual Income'])\n",
        "print(\"First 5 entries of 'Annual Income_log' column:\")\n",
        "print(df['Annual Income_log'].head())\n",
        "print(f\"Skewness of 'Annual Income' before transformation: {df['Annual Income'].skew():.2f}\")\n",
        "print(f\"Skewness of 'Annual Income_log' after transformation: {df['Annual Income_log'].skew():.2f}\")"
      ],
      "metadata": {
        "colab": {
          "base_uri": "https://localhost:8080/"
        },
        "id": "yyr_m2jgxgI3",
        "outputId": "4ed54ab5-e47d-45de-f74e-91397ef20323"
      },
      "id": "yyr_m2jgxgI3",
      "execution_count": null,
      "outputs": [
        {
          "output_type": "stream",
          "name": "stdout",
          "text": [
            "First 5 entries of 'Annual Income_log' column:\n",
            "0    11.512835\n",
            "1     7.961370\n",
            "2    10.314106\n",
            "3    10.786676\n",
            "4    10.899975\n",
            "Name: Annual Income_log, dtype: float64\n",
            "Skewness of 'Annual Income' before transformation: 1.06\n",
            "Skewness of 'Annual Income_log' after transformation: -1.36\n"
          ]
        }
      ]
    },
    {
      "cell_type": "code",
      "source": [
        "# Apply log1p transformation to 'Previous Claims'\n",
        "df['Previous Claims_log'] = np.log1p(df['Previous Claims'])\n",
        "print(\"First 5 entries of 'Previous Claims_log' column:\")\n",
        "print(df['Previous Claims_log'].head())\n",
        "print(f\"Skewness of 'Previous Claims' before transformation: {df['Previous Claims'].skew():.2f}\")\n",
        "print(f\"Skewness of 'Previous Claims_log' after transformation: {df['Previous Claims_log'].skew():.2f}\")"
      ],
      "metadata": {
        "colab": {
          "base_uri": "https://localhost:8080/"
        },
        "id": "Bt2l1U4ux3te",
        "outputId": "c4ddd513-d504-4c3c-d6ea-186f2b327660"
      },
      "id": "Bt2l1U4ux3te",
      "execution_count": null,
      "outputs": [
        {
          "output_type": "stream",
          "name": "stdout",
          "text": [
            "First 5 entries of 'Previous Claims_log' column:\n",
            "0    0.000000\n",
            "1    0.000000\n",
            "2    1.098612\n",
            "3    0.693147\n",
            "4    0.000000\n",
            "Name: Previous Claims_log, dtype: float64\n",
            "Skewness of 'Previous Claims' before transformation: 1.43\n",
            "Skewness of 'Previous Claims_log' after transformation: 0.69\n"
          ]
        }
      ]
    },
    {
      "cell_type": "markdown",
      "source": [
        "The next step is to apply a log transformation (np.log1p) to the Health Score column to further normalize its distribution\n",
        "\n",
        "all I did so far was to repeat the codes but with the different columns needed for a perfect model"
      ],
      "metadata": {
        "id": "sjZffF1ryJhy"
      },
      "id": "sjZffF1ryJhy"
    },
    {
      "cell_type": "code",
      "source": [
        "# Apply log1p transformation to 'Health Score'\n",
        "df['Health Score_log'] = np.log1p(df['Health Score'])\n",
        "print(\"First 5 entries of 'Health Score_log' column:\")\n",
        "print(df['Health Score_log'].head())\n",
        "print(f\"Skewness of 'Health Score' before transformation: {df['Health Score'].skew():.2f}\")\n",
        "print(f\"Skewness of 'Health Score_log' after transformation: {df['Health Score_log'].skew():.2f}\")"
      ],
      "metadata": {
        "colab": {
          "base_uri": "https://localhost:8080/"
        },
        "id": "9PLDociiyM7C",
        "outputId": "a84ab948-d54d-49a8-fb4f-d8f743185696"
      },
      "id": "9PLDociiyM7C",
      "execution_count": null,
      "outputs": [
        {
          "output_type": "stream",
          "name": "stdout",
          "text": [
            "First 5 entries of 'Health Score_log' column:\n",
            "0    3.468065\n",
            "1    3.937132\n",
            "2    2.754610\n",
            "3    3.271352\n",
            "4    2.035947\n",
            "Name: Health Score_log, dtype: float64\n",
            "Skewness of 'Health Score' before transformation: 0.62\n",
            "Skewness of 'Health Score_log' after transformation: -0.90\n"
          ]
        }
      ]
    },
    {
      "cell_type": "markdown",
      "source": [
        "Let's view our feature engineering efforts so far on the dataset"
      ],
      "metadata": {
        "id": "j3f5Johyyosb"
      },
      "id": "j3f5Johyyosb"
    },
    {
      "cell_type": "code",
      "source": [
        "df.info()"
      ],
      "metadata": {
        "colab": {
          "base_uri": "https://localhost:8080/"
        },
        "id": "rhAPej1KytHZ",
        "outputId": "251827b7-0f5b-4bf7-fb99-613242ab0641"
      },
      "id": "rhAPej1KytHZ",
      "execution_count": null,
      "outputs": [
        {
          "output_type": "stream",
          "name": "stdout",
          "text": [
            "<class 'pandas.core.frame.DataFrame'>\n",
            "Index: 277019 entries, 0 to 278859\n",
            "Data columns (total 29 columns):\n",
            " #   Column                    Non-Null Count   Dtype         \n",
            "---  ------                    --------------   -----         \n",
            " 0   Age                       277019 non-null  float64       \n",
            " 1   Gender                    277019 non-null  object        \n",
            " 2   Annual Income             277019 non-null  float64       \n",
            " 3   Marital Status            277019 non-null  object        \n",
            " 4   Number of Dependents      277019 non-null  float64       \n",
            " 5   Education Level           277019 non-null  object        \n",
            " 6   Occupation                277019 non-null  object        \n",
            " 7   Health Score              277019 non-null  float64       \n",
            " 8   Location                  277019 non-null  object        \n",
            " 9   Policy Type               277019 non-null  object        \n",
            " 10  Previous Claims           277019 non-null  float64       \n",
            " 11  Vehicle Age               277019 non-null  int64         \n",
            " 12  Credit Score              277019 non-null  float64       \n",
            " 13  Insurance Duration        277019 non-null  int64         \n",
            " 14  Premium Amount            277019 non-null  float64       \n",
            " 15  Policy Start Date         277019 non-null  datetime64[ns]\n",
            " 16  Customer Feedback         277019 non-null  object        \n",
            " 17  Smoking Status            277019 non-null  object        \n",
            " 18  Exercise Frequency        277019 non-null  object        \n",
            " 19  Property Type             277019 non-null  object        \n",
            " 20  Policy_Start_Time         277019 non-null  object        \n",
            " 21  Policy_Start_Year         277019 non-null  int32         \n",
            " 22  Policy_Start_Month        277019 non-null  int32         \n",
            " 23  Policy_Start_Day_of_Week  277019 non-null  int32         \n",
            " 24  Policy_Age_Years          277019 non-null  float64       \n",
            " 25  Premium Amount_log        277019 non-null  float64       \n",
            " 26  Annual Income_log         277019 non-null  float64       \n",
            " 27  Previous Claims_log       277019 non-null  float64       \n",
            " 28  Health Score_log          277019 non-null  float64       \n",
            "dtypes: datetime64[ns](1), float64(12), int32(3), int64(2), object(11)\n",
            "memory usage: 60.2+ MB\n"
          ]
        }
      ]
    },
    {
      "cell_type": "markdown",
      "source": [
        "#### EDA"
      ],
      "metadata": {
        "id": "nvv45M6IzSzH"
      },
      "id": "nvv45M6IzSzH"
    },
    {
      "cell_type": "markdown",
      "source": [
        "The next step is to visualize the distribution of our transformed target variables using a histogram and a Kernel Density Estimate (KDE) plot. This will visually confirm the effect of the log transformation."
      ],
      "metadata": {
        "id": "V12qXQIszeoA"
      },
      "id": "V12qXQIszeoA"
    },
    {
      "cell_type": "code",
      "source": [
        "# Visualize the distribution of the transformed target variable: Premium Amount_log\n",
        "plt.figure(figsize=(10, 6))\n",
        "sns.histplot(df['Premium Amount_log'], kde=True, bins=50, color='skyblue')\n",
        "plt.title('Distribution of Transformed Premium Amount (log1p)')\n",
        "plt.xlabel('Premium Amount (log1p)')\n",
        "plt.ylabel('Frequency')\n",
        "plt.tight_layout()\n",
        "plt.show()"
      ],
      "metadata": {
        "colab": {
          "base_uri": "https://localhost:8080/",
          "height": 311
        },
        "id": "O5zu08GSzRX1",
        "outputId": "3adfc06f-8118-414c-c883-180973e6a6e5"
      },
      "id": "O5zu08GSzRX1",
      "execution_count": null,
      "outputs": [
        {
          "output_type": "display_data",
          "data": {
            "text/plain": [
              "<Figure size 1000x600 with 1 Axes>"
            ],
            "image/png": "[encoded data removed]"
          },
          "metadata": {}
        }
      ]
    },
    {
      "cell_type": "code",
      "source": [
        "# Visualize\n",
        "fig, axes = plt.subplots(1, 3, figsize=(18, 6)) # 1 row, 3 columns\n",
        "\n",
        "# Plot for Annual Income_log\n",
        "sns.histplot(df['Annual Income_log'], kde=True, bins=50, color='lightcoral', ax=axes[0])\n",
        "axes[0].set_title('Distribution of Transformed Annual Income (log1p)')\n",
        "axes[0].set_xlabel('Annual Income (log1p)')\n",
        "axes[0].set_ylabel('Frequency')\n",
        "\n",
        "# Plot for Previous Claims_log\n",
        "sns.histplot(df['Previous Claims_log'], kde=True, bins=50, color='lightgreen', ax=axes[1])\n",
        "axes[1].set_title('Distribution of Transformed Previous Claims (log1p)')\n",
        "axes[1].set_xlabel('Previous Claims (log1p)')\n",
        "axes[1].set_ylabel('Frequency')\n",
        "\n",
        "# Plot for Health Score_log\n",
        "sns.histplot(df['Health Score_log'], kde=True, bins=50, color='skyblue', ax=axes[2])\n",
        "axes[2].set_title('Distribution of Transformed Health Score (log1p)')\n",
        "axes[2].set_xlabel('Health Score (log1p)')\n",
        "axes[2].set_ylabel('Frequency')\n",
        "\n",
        "plt.tight_layout()\n",
        "plt.show()"
      ],
      "metadata": {
        "colab": {
          "base_uri": "https://localhost:8080/",
          "height": 180
        },
        "id": "U_AAG1Ex0Dt-",
        "outputId": "4464a6d1-5bf6-4271-ef2f-c66ffeb5b392"
      },
      "id": "U_AAG1Ex0Dt-",
      "execution_count": null,
      "outputs": [
        {
          "output_type": "display_data",
          "data": {
            "text/plain": [
              "<Figure size 1800x600 with 3 Axes>"
            ],
            "image/png": "[encoded data removed]"
          },
          "metadata": {}
        }
      ]
    },
    {
      "cell_type": "markdown",
      "source": [
        "These chart confirm the success of our log1p transformations for Annual Income and Health Score, resulting in more normalized distributions. Previous Claims_log exhibits a multi-modal distribution due to its count nature, which is an important insight.\n",
        "\n",
        "Now, we will proceed with bivariate analysis as part of our EDA. The next step is to calculate and visualize the correlation matrix of all relevant numerical features (including our transformed Premium Amount_log) using a heatmap. This will help us identify linear relationships between features and with our target variable."
      ],
      "metadata": {
        "id": "mWIHlJMj04P2"
      },
      "id": "mWIHlJMj04P2"
    },
    {
      "cell_type": "code",
      "source": [
        "# All numerical columns including the transformed ones for correlation matrix\n",
        "numerical_cols_for_corr = [\n",
        "    'Age', 'Annual Income_log', 'Number of Dependents', 'Health Score_log',\n",
        "    'Previous Claims_log', 'Vehicle Age', 'Credit Score',\n",
        "    'Insurance Duration', 'Policy_Age_Years', 'Premium Amount_log' # Transformed target\n",
        "]\n",
        "\n",
        "# Calculate the correlation matrix\n",
        "correlation_matrix = df[numerical_cols_for_corr].corr()\n",
        "\n",
        "# Visualize the correlation matrix\n",
        "plt.figure(figsize=(12, 10))\n",
        "sns.heatmap(correlation_matrix, annot=True, cmap='coolwarm', fmt=\".2f\", linewidths=.5)\n",
        "plt.title('Correlation Matrix of Numerical Features')\n",
        "plt.show()"
      ],
      "metadata": {
        "colab": {
          "base_uri": "https://localhost:8080/",
          "height": 479
        },
        "id": "8Dd54l_F1GDT",
        "outputId": "499628d8-108e-467e-fb70-d2dbf24adf3d"
      },
      "id": "8Dd54l_F1GDT",
      "execution_count": null,
      "outputs": [
        {
          "output_type": "display_data",
          "data": {
            "text/plain": [
              "<Figure size 1200x1000 with 2 Axes>"
            ],
            "image/png": "[encoded data removed]"
          },
          "metadata": {}
        }
      ]
    },
    {
      "cell_type": "markdown",
      "source": [
        "The Chart looks highly unusual, shows little or no correlation"
      ],
      "metadata": {
        "id": "bIteT7_x3t_X"
      },
      "id": "bIteT7_x3t_X"
    },
    {
      "cell_type": "code",
      "source": [
        "# Print the raw correlation matrix of numerical features\n",
        "numerical_cols_for_corr = [\n",
        "    'Age', 'Annual Income_log', 'Number of Dependents', 'Health Score_log',\n",
        "    'Previous Claims_log', 'Vehicle Age', 'Credit Score',\n",
        "    'Insurance Duration', 'Policy_Age_Years', 'Premium Amount_log'\n",
        "]\n",
        "correlation_matrix = df[numerical_cols_for_corr].corr()\n",
        "print(\"Raw Correlation Matrix of Numerical Features:\")\n",
        "print(correlation_matrix)"
      ],
      "metadata": {
        "colab": {
          "base_uri": "https://localhost:8080/"
        },
        "id": "eKVSN3J62X2f",
        "outputId": "b5eca85c-4302-42fc-e145-97a217625be1"
      },
      "id": "eKVSN3J62X2f",
      "execution_count": null,
      "outputs": [
        {
          "output_type": "stream",
          "name": "stdout",
          "text": [
            "Raw Correlation Matrix of Numerical Features:\n",
            "                           Age  Annual Income_log  Number of Dependents  \\\n",
            "Age                   1.000000           0.000826             -0.000076   \n",
            "Annual Income_log     0.000826           1.000000              0.002430   \n",
            "Number of Dependents -0.000076           0.002430              1.000000   \n",
            "Health Score_log      0.003471          -0.000050              0.002048   \n",
            "Previous Claims_log  -0.001933          -0.002205             -0.000380   \n",
            "Vehicle Age           0.000662           0.000432              0.001857   \n",
            "Credit Score          0.000661          -0.002838             -0.001953   \n",
            "Insurance Duration    0.000246          -0.000923             -0.001307   \n",
            "Policy_Age_Years      0.001625           0.003337              0.003400   \n",
            "Premium Amount_log    0.003726          -0.000781              0.000743   \n",
            "\n",
            "                      Health Score_log  Previous Claims_log  Vehicle Age  \\\n",
            "Age                           0.003471            -0.001933     0.000662   \n",
            "Annual Income_log            -0.000050            -0.002205     0.000432   \n",
            "Number of Dependents          0.002048            -0.000380     0.001857   \n",
            "Health Score_log              1.000000             0.002435    -0.001232   \n",
            "Previous Claims_log           0.002435             1.000000    -0.001593   \n",
            "Vehicle Age                  -0.001232            -0.001593     1.000000   \n",
            "Credit Score                  0.001041             0.000545    -0.000785   \n",
            "Insurance Duration            0.002000            -0.000142     0.000440   \n",
            "Policy_Age_Years             -0.000428            -0.004262    -0.000240   \n",
            "Premium Amount_log            0.002870            -0.000014     0.000253   \n",
            "\n",
            "                      Credit Score  Insurance Duration  Policy_Age_Years  \\\n",
            "Age                       0.000661            0.000246          0.001625   \n",
            "Annual Income_log        -0.002838           -0.000923          0.003337   \n",
            "Number of Dependents     -0.001953           -0.001307          0.003400   \n",
            "Health Score_log          0.001041            0.002000         -0.000428   \n",
            "Previous Claims_log       0.000545           -0.000142         -0.004262   \n",
            "Vehicle Age              -0.000785            0.000440         -0.000240   \n",
            "Credit Score              1.000000           -0.000925          0.000604   \n",
            "Insurance Duration       -0.000925            1.000000         -0.000226   \n",
            "Policy_Age_Years          0.000604           -0.000226          1.000000   \n",
            "Premium Amount_log        0.003455            0.001252          0.000519   \n",
            "\n",
            "                      Premium Amount_log  \n",
            "Age                             0.003726  \n",
            "Annual Income_log              -0.000781  \n",
            "Number of Dependents            0.000743  \n",
            "Health Score_log                0.002870  \n",
            "Previous Claims_log            -0.000014  \n",
            "Vehicle Age                     0.000253  \n",
            "Credit Score                    0.003455  \n",
            "Insurance Duration              0.001252  \n",
            "Policy_Age_Years                0.000519  \n",
            "Premium Amount_log              1.000000  \n"
          ]
        }
      ]
    },
    {
      "cell_type": "code",
      "source": [
        "df.describe()"
      ],
      "metadata": {
        "colab": {
          "base_uri": "https://localhost:8080/",
          "height": 441
        },
        "id": "iU029K6u3Ch2",
        "outputId": "3f45df60-9705-4daa-f45f-2cc8b8c6edd5"
      },
      "id": "iU029K6u3Ch2",
      "execution_count": null,
      "outputs": [
        {
          "output_type": "execute_result",
          "data": {
            "text/plain": [
              "                 Age  Annual Income  Number of Dependents   Health Score  \\\n",
              "count  277019.000000  277019.000000         277019.000000  277019.000000   \n",
              "mean       41.019800   41600.610716              1.998441      28.502610   \n",
              "min        18.000000       0.000000              0.000000       0.035436   \n",
              "25%        30.000000   14413.000000              1.000000      16.553424   \n",
              "50%        41.000000   32207.000000              2.000000      26.448428   \n",
              "75%        53.000000   60039.500000              3.000000      38.361155   \n",
              "max        64.000000  149997.000000              4.000000      93.876090   \n",
              "std        13.433915   34613.039573              1.339860      15.663126   \n",
              "\n",
              "       Previous Claims    Vehicle Age   Credit Score  Insurance Duration  \\\n",
              "count    277019.000000  277019.000000  277019.000000       277019.000000   \n",
              "mean          0.707164       9.519318     574.450424            5.007898   \n",
              "min           0.000000       0.000000     300.000000            1.000000   \n",
              "25%           0.000000       5.000000     452.000000            3.000000   \n",
              "50%           0.000000      10.000000     575.000000            5.000000   \n",
              "75%           1.000000      15.000000     697.000000            7.000000   \n",
              "max           9.000000      19.000000     849.000000            9.000000   \n",
              "std           0.956734       5.767438     150.646809            2.581473   \n",
              "\n",
              "       Premium Amount              Policy Start Date  Policy_Start_Year  \\\n",
              "count   277019.000000                         277019      277019.000000   \n",
              "mean       966.118667  2022-02-15 20:00:36.554395392        2021.626416   \n",
              "min          0.000000     2019-08-17 15:21:39.080371        2019.000000   \n",
              "25%        286.000000  2020-11-17 15:21:39.155230976        2020.000000   \n",
              "50%        688.000000  2022-02-16 15:21:39.134960128        2022.000000   \n",
              "75%       1367.000000  2023-05-17 15:21:39.087122944        2023.000000   \n",
              "max       4999.000000     2024-08-15 15:21:39.287115        2024.000000   \n",
              "std        909.404567                            NaN           1.493613   \n",
              "\n",
              "       Policy_Start_Month  Policy_Start_Day_of_Week  Policy_Age_Years  \\\n",
              "count       277019.000000             277019.000000     277019.000000   \n",
              "mean             6.511860                  2.997145          2.496348   \n",
              "min              1.000000                  0.000000          0.000000   \n",
              "25%              4.000000                  1.000000          1.248460   \n",
              "50%              7.000000                  3.000000          2.494182   \n",
              "75%             10.000000                  5.000000          3.742642   \n",
              "max             12.000000                  6.000000          4.996578   \n",
              "std              3.445485                  1.999786          1.442292   \n",
              "\n",
              "       Premium Amount_log  Annual Income_log  Previous Claims_log  \\\n",
              "count       277019.000000      277019.000000        277019.000000   \n",
              "mean             6.320852          10.153324             0.405545   \n",
              "min              0.000000           0.000000             0.000000   \n",
              "25%              5.659482           9.575955             0.000000   \n",
              "50%              6.535241          10.379970             0.000000   \n",
              "75%              7.221105          11.002775             0.693147   \n",
              "max              8.517193          11.918377             2.302585   \n",
              "std              1.257392           1.200693             0.487198   \n",
              "\n",
              "       Health Score_log  \n",
              "count     277019.000000  \n",
              "mean           3.214835  \n",
              "min            0.034823  \n",
              "25%            2.865249  \n",
              "50%            3.312309  \n",
              "75%            3.672779  \n",
              "max            4.552572  \n",
              "std            0.635391  "
            ],
            "text/html": [
              "\n",
              "  <div id=\"df-006c8943-7cb8-4ba9-8b1e-2d3a41244dcd\" class=\"colab-df-container\">\n",
              "    <div>\n",
              "<style scoped>\n",
              "    .dataframe tbody tr th:only-of-type {\n",
              "        vertical-align: middle;\n",
              "    }\n",
              "\n",
              "    .dataframe tbody tr th {\n",
              "        vertical-align: top;\n",
              "    }\n",
              "\n",
              "    .dataframe thead th {\n",
              "        text-align: right;\n",
              "    }\n",
              "</style>\n",
              "<table border=\"1\" class=\"dataframe\">\n",
              "  <thead>\n",
              "    <tr style=\"text-align: right;\">\n",
              "      <th></th>\n",
              "      <th>Age</th>\n",
              "      <th>Annual Income</th>\n",
              "      <th>Number of Dependents</th>\n",
              "      <th>Health Score</th>\n",
              "      <th>Previous Claims</th>\n",
              "      <th>Vehicle Age</th>\n",
              "      <th>Credit Score</th>\n",
              "      <th>Insurance Duration</th>\n",
              "      <th>Premium Amount</th>\n",
              "      <th>Policy Start Date</th>\n",
              "      <th>Policy_Start_Year</th>\n",
              "      <th>Policy_Start_Month</th>\n",
              "      <th>Policy_Start_Day_of_Week</th>\n",
              "      <th>Policy_Age_Years</th>\n",
              "      <th>Premium Amount_log</th>\n",
              "      <th>Annual Income_log</th>\n",
              "      <th>Previous Claims_log</th>\n",
              "      <th>Health Score_log</th>\n",
              "    </tr>\n",
              "  </thead>\n",
              "  <tbody>\n",
              "    <tr>\n",
              "      <th>count</th>\n",
              "      <td>277019.000000</td>\n",
              "      <td>277019.000000</td>\n",
              "      <td>277019.000000</td>\n",
              "      <td>277019.000000</td>\n",
              "      <td>277019.000000</td>\n",
              "      <td>277019.000000</td>\n",
              "      <td>277019.000000</td>\n",
              "      <td>277019.000000</td>\n",
              "      <td>277019.000000</td>\n",
              "      <td>277019</td>\n",
              "      <td>277019.000000</td>\n",
              "      <td>277019.000000</td>\n",
              "      <td>277019.000000</td>\n",
              "      <td>277019.000000</td>\n",
              "      <td>277019.000000</td>\n",
              "      <td>277019.000000</td>\n",
              "      <td>277019.000000</td>\n",
              "      <td>277019.000000</td>\n",
              "    </tr>\n",
              "    <tr>\n",
              "      <th>mean</th>\n",
              "      <td>41.019800</td>\n",
              "      <td>41600.610716</td>\n",
              "      <td>1.998441</td>\n",
              "      <td>28.502610</td>\n",
              "      <td>0.707164</td>\n",
              "      <td>9.519318</td>\n",
              "      <td>574.450424</td>\n",
              "      <td>5.007898</td>\n",
              "      <td>966.118667</td>\n",
              "      <td>2022-02-15 20:00:36.554395392</td>\n",
              "      <td>2021.626416</td>\n",
              "      <td>6.511860</td>\n",
              "      <td>2.997145</td>\n",
              "      <td>2.496348</td>\n",
              "      <td>6.320852</td>\n",
              "      <td>10.153324</td>\n",
              "      <td>0.405545</td>\n",
              "      <td>3.214835</td>\n",
              "    </tr>\n",
              "    <tr>\n",
              "      <th>min</th>\n",
              "      <td>18.000000</td>\n",
              "      <td>0.000000</td>\n",
              "      <td>0.000000</td>\n",
              "      <td>0.035436</td>\n",
              "      <td>0.000000</td>\n",
              "      <td>0.000000</td>\n",
              "      <td>300.000000</td>\n",
              "      <td>1.000000</td>\n",
              "      <td>0.000000</td>\n",
              "      <td>2019-08-17 15:21:39.080371</td>\n",
              "      <td>2019.000000</td>\n",
              "      <td>1.000000</td>\n",
              "      <td>0.000000</td>\n",
              "      <td>0.000000</td>\n",
              "      <td>0.000000</td>\n",
              "      <td>0.000000</td>\n",
              "      <td>0.000000</td>\n",
              "      <td>0.034823</td>\n",
              "    </tr>\n",
              "    <tr>\n",
              "      <th>25%</th>\n",
              "      <td>30.000000</td>\n",
              "      <td>14413.000000</td>\n",
              "      <td>1.000000</td>\n",
              "      <td>16.553424</td>\n",
              "      <td>0.000000</td>\n",
              "      <td>5.000000</td>\n",
              "      <td>452.000000</td>\n",
              "      <td>3.000000</td>\n",
              "      <td>286.000000</td>\n",
              "      <td>2020-11-17 15:21:39.155230976</td>\n",
              "      <td>2020.000000</td>\n",
              "      <td>4.000000</td>\n",
              "      <td>1.000000</td>\n",
              "      <td>1.248460</td>\n",
              "      <td>5.659482</td>\n",
              "      <td>9.575955</td>\n",
              "      <td>0.000000</td>\n",
              "      <td>2.865249</td>\n",
              "    </tr>\n",
              "    <tr>\n",
              "      <th>50%</th>\n",
              "      <td>41.000000</td>\n",
              "      <td>32207.000000</td>\n",
              "      <td>2.000000</td>\n",
              "      <td>26.448428</td>\n",
              "      <td>0.000000</td>\n",
              "      <td>10.000000</td>\n",
              "      <td>575.000000</td>\n",
              "      <td>5.000000</td>\n",
              "      <td>688.000000</td>\n",
              "      <td>2022-02-16 15:21:39.134960128</td>\n",
              "      <td>2022.000000</td>\n",
              "      <td>7.000000</td>\n",
              "      <td>3.000000</td>\n",
              "      <td>2.494182</td>\n",
              "      <td>6.535241</td>\n",
              "      <td>10.379970</td>\n",
              "      <td>0.000000</td>\n",
              "      <td>3.312309</td>\n",
              "    </tr>\n",
              "    <tr>\n",
              "      <th>75%</th>\n",
              "      <td>53.000000</td>\n",
              "      <td>60039.500000</td>\n",
              "      <td>3.000000</td>\n",
              "      <td>38.361155</td>\n",
              "      <td>1.000000</td>\n",
              "      <td>15.000000</td>\n",
              "      <td>697.000000</td>\n",
              "      <td>7.000000</td>\n",
              "      <td>1367.000000</td>\n",
              "      <td>2023-05-17 15:21:39.087122944</td>\n",
              "      <td>2023.000000</td>\n",
              "      <td>10.000000</td>\n",
              "      <td>5.000000</td>\n",
              "      <td>3.742642</td>\n",
              "      <td>7.221105</td>\n",
              "      <td>11.002775</td>\n",
              "      <td>0.693147</td>\n",
              "      <td>3.672779</td>\n",
              "    </tr>\n",
              "    <tr>\n",
              "      <th>max</th>\n",
              "      <td>64.000000</td>\n",
              "      <td>149997.000000</td>\n",
              "      <td>4.000000</td>\n",
              "      <td>93.876090</td>\n",
              "      <td>9.000000</td>\n",
              "      <td>19.000000</td>\n",
              "      <td>849.000000</td>\n",
              "      <td>9.000000</td>\n",
              "      <td>4999.000000</td>\n",
              "      <td>2024-08-15 15:21:39.287115</td>\n",
              "      <td>2024.000000</td>\n",
              "      <td>12.000000</td>\n",
              "      <td>6.000000</td>\n",
              "      <td>4.996578</td>\n",
              "      <td>8.517193</td>\n",
              "      <td>11.918377</td>\n",
              "      <td>2.302585</td>\n",
              "      <td>4.552572</td>\n",
              "    </tr>\n",
              "    <tr>\n",
              "      <th>std</th>\n",
              "      <td>13.433915</td>\n",
              "      <td>34613.039573</td>\n",
              "      <td>1.339860</td>\n",
              "      <td>15.663126</td>\n",
              "      <td>0.956734</td>\n",
              "      <td>5.767438</td>\n",
              "      <td>150.646809</td>\n",
              "      <td>2.581473</td>\n",
              "      <td>909.404567</td>\n",
              "      <td>NaN</td>\n",
              "      <td>1.493613</td>\n",
              "      <td>3.445485</td>\n",
              "      <td>1.999786</td>\n",
              "      <td>1.442292</td>\n",
              "      <td>1.257392</td>\n",
              "      <td>1.200693</td>\n",
              "      <td>0.487198</td>\n",
              "      <td>0.635391</td>\n",
              "    </tr>\n",
              "  </tbody>\n",
              "</table>\n",
              "</div>\n",
              "    <div class=\"colab-df-buttons\">\n",
              "\n",
              "  <div class=\"colab-df-container\">\n",
              "    <button class=\"colab-df-convert\" onclick=\"convertToInteractive('df-006c8943-7cb8-4ba9-8b1e-2d3a41244dcd')\"\n",
              "            title=\"Convert this dataframe to an interactive table.\"\n",
              "            style=\"display:none;\">\n",
              "\n",
              "  <svg xmlns=\"http://www.w3.org/2000/svg\" height=\"24px\" viewBox=\"0 -960 960 960\">\n",
              "    <path d=\"M120-120v-720h720v720H120Zm60-500h600v-160H180v160Zm220 220h160v-160H400v160Zm0 220h160v-160H400v160ZM180-400h160v-160H180v160Zm440 0h160v-160H620v160ZM180-180h160v-160H180v160Zm440 0h160v-160H620v160Z\"/>\n",
              "  </svg>\n",
              "    </button>\n",
              "\n",
              "  <style>\n",
              "    .colab-df-container {\n",
              "      display:flex;\n",
              "      gap: 12px;\n",
              "    }\n",
              "\n",
              "    .colab-df-convert {\n",
              "      background-color: #E8F0FE;\n",
              "      border: none;\n",
              "      border-radius: 50%;\n",
              "      cursor: pointer;\n",
              "      display: none;\n",
              "      fill: #1967D2;\n",
              "      height: 32px;\n",
              "      padding: 0 0 0 0;\n",
              "      width: 32px;\n",
              "    }\n",
              "\n",
              "    .colab-df-convert:hover {\n",
              "      background-color: #E2EBFA;\n",
              "      box-shadow: 0px 1px 2px rgba(60, 64, 67, 0.3), 0px 1px 3px 1px rgba(60, 64, 67, 0.15);\n",
              "      fill: #174EA6;\n",
              "    }\n",
              "\n",
              "    .colab-df-buttons div {\n",
              "      margin-bottom: 4px;\n",
              "    }\n",
              "\n",
              "    [theme=dark] .colab-df-convert {\n",
              "      background-color: #3B4455;\n",
              "      fill: #D2E3FC;\n",
              "    }\n",
              "\n",
              "    [theme=dark] .colab-df-convert:hover {\n",
              "      background-color: #434B5C;\n",
              "      box-shadow: 0px 1px 3px 1px rgba(0, 0, 0, 0.15);\n",
              "      filter: drop-shadow(0px 1px 2px rgba(0, 0, 0, 0.3));\n",
              "      fill: #FFFFFF;\n",
              "    }\n",
              "  </style>\n",
              "\n",
              "    <script>\n",
              "      const buttonEl =\n",
              "        document.querySelector('#df-006c8943-7cb8-4ba9-8b1e-2d3a41244dcd button.colab-df-convert');\n",
              "      buttonEl.style.display =\n",
              "        google.colab.kernel.accessAllowed ? 'block' : 'none';\n",
              "\n",
              "      async function convertToInteractive(key) {\n",
              "        const element = document.querySelector('#df-006c8943-7cb8-4ba9-8b1e-2d3a41244dcd');\n",
              "        const dataTable =\n",
              "          await google.colab.kernel.invokeFunction('convertToInteractive',\n",
              "                                                    [key], {});\n",
              "        if (!dataTable) return;\n",
              "\n",
              "        const docLinkHtml = 'Like what you see? Visit the ' +\n",
              "          '<a target=\"_blank\" href=https://colab.research.google.com/notebooks/data_table.ipynb>data table notebook</a>'\n",
              "          + ' to learn more about interactive tables.';\n",
              "        element.innerHTML = '';\n",
              "        dataTable['output_type'] = 'display_data';\n",
              "        await google.colab.output.renderOutput(dataTable, element);\n",
              "        const docLink = document.createElement('div');\n",
              "        docLink.innerHTML = docLinkHtml;\n",
              "        element.appendChild(docLink);\n",
              "      }\n",
              "    </script>\n",
              "  </div>\n",
              "\n",
              "\n",
              "    <div id=\"df-933b6201-993f-419d-a063-79c59a4c2c38\">\n",
              "      <button class=\"colab-df-quickchart\" onclick=\"quickchart('df-933b6201-993f-419d-a063-79c59a4c2c38')\"\n",
              "                title=\"Suggest charts\"\n",
              "                style=\"display:none;\">\n",
              "\n",
              "<svg xmlns=\"http://www.w3.org/2000/svg\" height=\"24px\"viewBox=\"0 0 24 24\"\n",
              "     width=\"24px\">\n",
              "    <g>\n",
              "        <path d=\"M19 3H5c-1.1 0-2 .9-2 2v14c0 1.1.9 2 2 2h14c1.1 0 2-.9 2-2V5c0-1.1-.9-2-2-2zM9 17H7v-7h2v7zm4 0h-2V7h2v10zm4 0h-2v-4h2v4z\"/>\n",
              "    </g>\n",
              "</svg>\n",
              "      </button>\n",
              "\n",
              "<style>\n",
              "  .colab-df-quickchart {\n",
              "      --bg-color: #E8F0FE;\n",
              "      --fill-color: #1967D2;\n",
              "      --hover-bg-color: #E2EBFA;\n",
              "      --hover-fill-color: #174EA6;\n",
              "      --disabled-fill-color: #AAA;\n",
              "      --disabled-bg-color: #DDD;\n",
              "  }\n",
              "\n",
              "  [theme=dark] .colab-df-quickchart {\n",
              "      --bg-color: #3B4455;\n",
              "      --fill-color: #D2E3FC;\n",
              "      --hover-bg-color: #434B5C;\n",
              "      --hover-fill-color: #FFFFFF;\n",
              "      --disabled-bg-color: #3B4455;\n",
              "      --disabled-fill-color: #666;\n",
              "  }\n",
              "\n",
              "  .colab-df-quickchart {\n",
              "    background-color: var(--bg-color);\n",
              "    border: none;\n",
              "    border-radius: 50%;\n",
              "    cursor: pointer;\n",
              "    display: none;\n",
              "    fill: var(--fill-color);\n",
              "    height: 32px;\n",
              "    padding: 0;\n",
              "    width: 32px;\n",
              "  }\n",
              "\n",
              "  .colab-df-quickchart:hover {\n",
              "    background-color: var(--hover-bg-color);\n",
              "    box-shadow: 0 1px 2px rgba(60, 64, 67, 0.3), 0 1px 3px 1px rgba(60, 64, 67, 0.15);\n",
              "    fill: var(--button-hover-fill-color);\n",
              "  }\n",
              "\n",
              "  .colab-df-quickchart-complete:disabled,\n",
              "  .colab-df-quickchart-complete:disabled:hover {\n",
              "    background-color: var(--disabled-bg-color);\n",
              "    fill: var(--disabled-fill-color);\n",
              "    box-shadow: none;\n",
              "  }\n",
              "\n",
              "  .colab-df-spinner {\n",
              "    border: 2px solid var(--fill-color);\n",
              "    border-color: transparent;\n",
              "    border-bottom-color: var(--fill-color);\n",
              "    animation:\n",
              "      spin 1s steps(1) infinite;\n",
              "  }\n",
              "\n",
              "  @keyframes spin {\n",
              "    0% {\n",
              "      border-color: transparent;\n",
              "      border-bottom-color: var(--fill-color);\n",
              "      border-left-color: var(--fill-color);\n",
              "    }\n",
              "    20% {\n",
              "      border-color: transparent;\n",
              "      border-left-color: var(--fill-color);\n",
              "      border-top-color: var(--fill-color);\n",
              "    }\n",
              "    30% {\n",
              "      border-color: transparent;\n",
              "      border-left-color: var(--fill-color);\n",
              "      border-top-color: var(--fill-color);\n",
              "      border-right-color: var(--fill-color);\n",
              "    }\n",
              "    40% {\n",
              "      border-color: transparent;\n",
              "      border-right-color: var(--fill-color);\n",
              "      border-top-color: var(--fill-color);\n",
              "    }\n",
              "    60% {\n",
              "      border-color: transparent;\n",
              "      border-right-color: var(--fill-color);\n",
              "    }\n",
              "    80% {\n",
              "      border-color: transparent;\n",
              "      border-right-color: var(--fill-color);\n",
              "      border-bottom-color: var(--fill-color);\n",
              "    }\n",
              "    90% {\n",
              "      border-color: transparent;\n",
              "      border-bottom-color: var(--fill-color);\n",
              "    }\n",
              "  }\n",
              "</style>\n",
              "\n",
              "      <script>\n",
              "        async function quickchart(key) {\n",
              "          const quickchartButtonEl =\n",
              "            document.querySelector('#' + key + ' button');\n",
              "          quickchartButtonEl.disabled = true;  // To prevent multiple clicks.\n",
              "          quickchartButtonEl.classList.add('colab-df-spinner');\n",
              "          try {\n",
              "            const charts = await google.colab.kernel.invokeFunction(\n",
              "                'suggestCharts', [key], {});\n",
              "          } catch (error) {\n",
              "            console.error('Error during call to suggestCharts:', error);\n",
              "          }\n",
              "          quickchartButtonEl.classList.remove('colab-df-spinner');\n",
              "          quickchartButtonEl.classList.add('colab-df-quickchart-complete');\n",
              "        }\n",
              "        (() => {\n",
              "          let quickchartButtonEl =\n",
              "            document.querySelector('#df-933b6201-993f-419d-a063-79c59a4c2c38 button');\n",
              "          quickchartButtonEl.style.display =\n",
              "            google.colab.kernel.accessAllowed ? 'block' : 'none';\n",
              "        })();\n",
              "      </script>\n",
              "    </div>\n",
              "\n",
              "    </div>\n",
              "  </div>\n"
            ],
            "application/vnd.google.colaboratory.intrinsic+json": {
              "type": "dataframe",
              "summary": "{\n  \"name\": \"df\",\n  \"rows\": 8,\n  \"fields\": [\n    {\n      \"column\": \"Age\",\n      \"properties\": {\n        \"dtype\": \"number\",\n        \"std\": 97927.8532554226,\n        \"min\": 13.433915259078164,\n        \"max\": 277019.0,\n        \"num_unique_values\": 8,\n        \"samples\": [\n          41.01980008591468,\n          53.0,\n          277019.0\n        ],\n        \"semantic_type\": \"\",\n        \"description\": \"\"\n      }\n    },\n    {\n      \"column\": \"Annual Income\",\n      \"properties\": {\n        \"dtype\": \"number\",\n        \"std\": 92983.46221134592,\n        \"min\": 0.0,\n        \"max\": 277019.0,\n        \"num_unique_values\": 8,\n        \"samples\": [\n          41600.61071623246,\n          60039.5,\n          277019.0\n        ],\n        \"semantic_type\": \"\",\n        \"description\": \"\"\n      }\n    },\n    {\n      \"column\": \"Number of Dependents\",\n      \"properties\": {\n        \"dtype\": \"number\",\n        \"std\": 97940.33303042973,\n        \"min\": 0.0,\n        \"max\": 277019.0,\n        \"num_unique_values\": 8,\n        \"samples\": [\n          1.9984405401795544,\n          3.0,\n          277019.0\n        ],\n        \"semantic_type\": \"\",\n        \"description\": \"\"\n      }\n    },\n    {\n      \"column\": \"Health Score\",\n      \"properties\": {\n        \"dtype\": \"number\",\n        \"std\": 97929.92726665568,\n        \"min\": 0.0354362088677346,\n        \"max\": 277019.0,\n        \"num_unique_values\": 8,\n        \"samples\": [\n          28.502610261611323,\n          38.36115548052737,\n          277019.0\n        ],\n        \"semantic_type\": \"\",\n        \"description\": \"\"\n      }\n    },\n    {\n      \"column\": \"Previous Claims\",\n      \"properties\": {\n        \"dtype\": \"number\",\n        \"std\": 97940.41763955855,\n        \"min\": 0.0,\n        \"max\": 277019.0,\n        \"num_unique_values\": 6,\n        \"samples\": [\n          277019.0,\n          0.7071644905223108,\n          0.9567344702544316\n        ],\n        \"semantic_type\": \"\",\n        \"description\": \"\"\n      }\n    },\n    {\n      \"column\": \"Vehicle Age\",\n      \"properties\": {\n        \"dtype\": \"number\",\n        \"std\": 97937.75991556286,\n        \"min\": 0.0,\n        \"max\": 277019.0,\n        \"num_unique_values\": 8,\n        \"samples\": [\n          9.51931816951184,\n          15.0,\n          277019.0\n        ],\n        \"semantic_type\": \"\",\n        \"description\": \"\"\n      }\n    },\n    {\n      \"column\": \"Credit Score\",\n      \"properties\": {\n        \"dtype\": \"number\",\n        \"std\": 97759.51994584528,\n        \"min\": 150.6468093289476,\n        \"max\": 277019.0,\n        \"num_unique_values\": 8,\n        \"samples\": [\n          574.4504239781387,\n          697.0,\n          277019.0\n        ],\n        \"semantic_type\": \"\",\n        \"description\": \"\"\n      }\n    },\n    {\n      \"column\": \"Insurance Duration\",\n      \"properties\": {\n        \"dtype\": \"number\",\n        \"std\": 97939.36072977104,\n        \"min\": 1.0,\n        \"max\": 277019.0,\n        \"num_unique_values\": 8,\n        \"samples\": [\n          5.007898375201701,\n          7.0,\n          277019.0\n        ],\n        \"semantic_type\": \"\",\n        \"description\": \"\"\n      }\n    },\n    {\n      \"column\": \"Premium Amount\",\n      \"properties\": {\n        \"dtype\": \"number\",\n        \"std\": 97488.03978407673,\n        \"min\": 0.0,\n        \"max\": 277019.0,\n        \"num_unique_values\": 8,\n        \"samples\": [\n          966.1186669506424,\n          1367.0,\n          277019.0\n        ],\n        \"semantic_type\": \"\",\n        \"description\": \"\"\n      }\n    },\n    {\n      \"column\": \"Policy Start Date\",\n      \"properties\": {\n        \"dtype\": \"date\",\n        \"min\": \"1970-01-01 00:00:00.000277019\",\n        \"max\": \"2024-08-15 15:21:39.287115\",\n        \"num_unique_values\": 7,\n        \"samples\": [\n          \"277019\",\n          \"2022-02-15 20:00:36.554395392\",\n          \"2023-05-17 15:21:39.087122944\"\n        ],\n        \"semantic_type\": \"\",\n        \"description\": \"\"\n      }\n    },\n    {\n      \"column\": \"Policy_Start_Year\",\n      \"properties\": {\n        \"dtype\": \"number\",\n        \"std\": 97330.85966180496,\n        \"min\": 1.4936128587384532,\n        \"max\": 277019.0,\n        \"num_unique_values\": 8,\n        \"samples\": [\n          2021.6264155166252,\n          2023.0,\n          277019.0\n        ],\n        \"semantic_type\": \"\",\n        \"description\": \"\"\n      }\n    },\n    {\n      \"column\": \"Policy_Start_Month\",\n      \"properties\": {\n        \"dtype\": \"number\",\n        \"std\": 97938.7865919222,\n        \"min\": 1.0,\n        \"max\": 277019.0,\n        \"num_unique_values\": 8,\n        \"samples\": [\n          6.511860197314985,\n          10.0,\n          277019.0\n        ],\n        \"semantic_type\": \"\",\n        \"description\": \"\"\n      }\n    },\n    {\n      \"column\": \"Policy_Start_Day_of_Week\",\n      \"properties\": {\n        \"dtype\": \"number\",\n        \"std\": 97939.99673083506,\n        \"min\": 0.0,\n        \"max\": 277019.0,\n        \"num_unique_values\": 8,\n        \"samples\": [\n          2.9971446001898787,\n          5.0,\n          277019.0\n        ],\n        \"semantic_type\": \"\",\n        \"description\": \"\"\n      }\n    },\n    {\n      \"column\": \"Policy_Age_Years\",\n      \"properties\": {\n        \"dtype\": \"number\",\n        \"std\": 97940.17736023336,\n        \"min\": 0.0,\n        \"max\": 277019.0,\n        \"num_unique_values\": 8,\n        \"samples\": [\n          2.49634800326115,\n          3.7426420260095825,\n          277019.0\n        ],\n        \"semantic_type\": \"\",\n        \"description\": \"\"\n      }\n    },\n    {\n      \"column\": \"Premium Amount_log\",\n      \"properties\": {\n        \"dtype\": \"number\",\n        \"std\": 97939.2131633162,\n        \"min\": 0.0,\n        \"max\": 277019.0,\n        \"num_unique_values\": 8,\n        \"samples\": [\n          6.320852253392647,\n          7.221105098182496,\n          277019.0\n        ],\n        \"semantic_type\": \"\",\n        \"description\": \"\"\n      }\n    },\n    {\n      \"column\": \"Annual Income_log\",\n      \"properties\": {\n        \"dtype\": \"number\",\n        \"std\": 97938.26773205693,\n        \"min\": 0.0,\n        \"max\": 277019.0,\n        \"num_unique_values\": 8,\n        \"samples\": [\n          10.15332375587471,\n          11.002774613459525,\n          277019.0\n        ],\n        \"semantic_type\": \"\",\n        \"description\": \"\"\n      }\n    },\n    {\n      \"column\": \"Previous Claims_log\",\n      \"properties\": {\n        \"dtype\": \"number\",\n        \"std\": 97940.81031406703,\n        \"min\": 0.0,\n        \"max\": 277019.0,\n        \"num_unique_values\": 6,\n        \"samples\": [\n          277019.0,\n          0.4055446545188196,\n          0.4871976785126175\n        ],\n        \"semantic_type\": \"\",\n        \"description\": \"\"\n      }\n    },\n    {\n      \"column\": \"Health Score_log\",\n      \"properties\": {\n        \"dtype\": \"number\",\n        \"std\": 97940.0830393267,\n        \"min\": 0.0348227957721436,\n        \"max\": 277019.0,\n        \"num_unique_values\": 8,\n        \"samples\": [\n          3.214835128831764,\n          3.6727794284737647,\n          277019.0\n        ],\n        \"semantic_type\": \"\",\n        \"description\": \"\"\n      }\n    }\n  ]\n}"
            }
          },
          "metadata": {},
          "execution_count": 60
        }
      ]
    },
    {
      "cell_type": "code",
      "source": [
        "# Visualize the relationship between 'Premium Amount_log' and 'Gender'\n",
        "plt.figure(figsize=(8, 6))\n",
        "sns.boxplot(x='Gender', y='Premium Amount_log', hue='Gender' , data=df, palette='viridis')\n",
        "plt.title('Premium Amount (log1p) by Gender')\n",
        "plt.xlabel('Gender')\n",
        "plt.ylabel('Premium Amount (log1p)')\n",
        "plt.tight_layout()\n",
        "plt.show()"
      ],
      "metadata": {
        "colab": {
          "base_uri": "https://localhost:8080/",
          "height": 386
        },
        "id": "PXT__hNL36RC",
        "outputId": "b543d7e2-357c-4e55-92d2-723b838794e8"
      },
      "id": "PXT__hNL36RC",
      "execution_count": null,
      "outputs": [
        {
          "output_type": "display_data",
          "data": {
            "text/plain": [
              "<Figure size 800x600 with 1 Axes>"
            ],
            "image/png": "[encoded data removed]"
          },
          "metadata": {}
        }
      ]
    },
    {
      "cell_type": "markdown",
      "source": [
        "This chart suggests that Gender might not be a strong individual predictor of Premium Amount based on this direct comparison.\n",
        "\n",
        "We'd veiw other relationships"
      ],
      "metadata": {
        "id": "uhLFf6e64102"
      },
      "id": "uhLFf6e64102"
    },
    {
      "cell_type": "code",
      "source": [
        "# Visualize the relationship between 'Premium Amount_log' and 'Marital Status'\n",
        "plt.figure(figsize=(10, 6))\n",
        "sns.boxplot(x='Marital Status', y='Premium Amount_log', hue = 'Marital Status' ,   data=df, palette='cividis')\n",
        "plt.title('Premium Amount (log1p) by Marital Status')\n",
        "plt.xlabel('Marital Status')\n",
        "plt.ylabel('Premium Amount (log1p)')\n",
        "plt.tight_layout()\n",
        "plt.show()"
      ],
      "metadata": {
        "colab": {
          "base_uri": "https://localhost:8080/",
          "height": 311
        },
        "id": "zhjn9YCb43Hn",
        "outputId": "532bc08d-54cb-461e-df54-88c426a4b7e5"
      },
      "id": "zhjn9YCb43Hn",
      "execution_count": null,
      "outputs": [
        {
          "output_type": "display_data",
          "data": {
            "text/plain": [
              "<Figure size 1000x600 with 1 Axes>"
            ],
            "image/png": "[encoded data removed]"
          },
          "metadata": {}
        }
      ]
    },
    {
      "cell_type": "code",
      "source": [
        "# Visualize the relationship between 'Premium Amount_log' and 'Education Level'\n",
        "plt.figure(figsize=(12, 6))\n",
        "sns.boxplot(x='Education Level', y='Premium Amount_log', hue = 'Education Level' , data=df, palette='cubehelix')\n",
        "plt.title('Premium Amount (log1p) by Education Level')\n",
        "plt.xlabel('Education Level')\n",
        "plt.ylabel('Premium Amount (log1p)')\n",
        "plt.tight_layout()\n",
        "plt.show()"
      ],
      "metadata": {
        "colab": {
          "base_uri": "https://localhost:8080/",
          "height": 262
        },
        "id": "lsZWInqJ5zFn",
        "outputId": "27b8fa94-fdbf-42ad-fb83-5b3681eac776"
      },
      "id": "lsZWInqJ5zFn",
      "execution_count": null,
      "outputs": [
        {
          "output_type": "display_data",
          "data": {
            "text/plain": [
              "<Figure size 1200x600 with 1 Axes>"
            ],
            "image/png": "[encoded data removed]"
          },
          "metadata": {}
        }
      ]
    },
    {
      "cell_type": "code",
      "source": [
        "# Visualize the relationship between 'Premium Amount_log' and 'Occupation'\n",
        "plt.figure(figsize=(15, 8)) # Increased figure size for potentially many categories\n",
        "sns.boxplot(x='Occupation', y='Premium Amount_log', data=df, palette='Spectral')\n",
        "plt.title('Premium Amount (log1p) by Occupation')\n",
        "plt.xlabel('Occupation')\n",
        "plt.ylabel('Premium Amount (log1p)')\n",
        "plt.xticks(rotation=45, ha='right') # Rotate x-axis labels for readability\n",
        "plt.tight_layout()\n",
        "plt.show()"
      ],
      "metadata": {
        "colab": {
          "base_uri": "https://localhost:8080/",
          "height": 386
        },
        "id": "dazZkhxb6Usz",
        "outputId": "4b49f26f-28df-4b7e-ffc4-e60b94d18e73"
      },
      "id": "dazZkhxb6Usz",
      "execution_count": null,
      "outputs": [
        {
          "output_type": "stream",
          "name": "stderr",
          "text": [
            "/tmp/ipython-input-77-1664951274.py:3: FutureWarning: \n",
            "\n",
            "Passing `palette` without assigning `hue` is deprecated and will be removed in v0.14.0. Assign the `x` variable to `hue` and set `legend=False` for the same effect.\n",
            "\n",
            "  sns.boxplot(x='Occupation', y='Premium Amount_log', data=df, palette='Spectral')\n"
          ]
        },
        {
          "output_type": "display_data",
          "data": {
            "text/plain": [
              "<Figure size 1500x800 with 1 Axes>"
            ],
            "image/png": "[encoded data removed]"
          },
          "metadata": {}
        }
      ]
    },
    {
      "cell_type": "code",
      "source": [
        "# Visualize the relationship between 'Premium Amount_log' and 'Policy Type'\n",
        "plt.figure(figsize=(10, 6))\n",
        "sns.boxplot(x='Policy Type', y='Premium Amount_log', hue = 'Policy Type' , data=df, palette='viridis')\n",
        "plt.title('Premium Amount (log1p) by Policy Type')\n",
        "plt.xlabel('Policy Type')\n",
        "plt.ylabel('Premium Amount (log1p)')\n",
        "plt.tight_layout()\n",
        "plt.show()"
      ],
      "metadata": {
        "colab": {
          "base_uri": "https://localhost:8080/",
          "height": 311
        },
        "id": "iSU-AjAy6otG",
        "outputId": "64791082-41dd-4945-d2f7-385acc32e76e"
      },
      "id": "iSU-AjAy6otG",
      "execution_count": null,
      "outputs": [
        {
          "output_type": "display_data",
          "data": {
            "text/plain": [
              "<Figure size 1000x600 with 1 Axes>"
            ],
            "image/png": "[encoded data removed]"
          },
          "metadata": {}
        }
      ]
    },
    {
      "cell_type": "code",
      "source": [
        "# Visualize the relationship between 'Premium Amount_log' and 'Location'\n",
        "plt.figure(figsize=(15, 8)) # Adjusted figure size\n",
        "sns.boxplot(x='Location', y='Premium Amount_log', data=df, palette='viridis')\n",
        "plt.title('Premium Amount (log1p) by Location')\n",
        "plt.xlabel('Location')\n",
        "plt.ylabel('Premium Amount (log1p)')\n",
        "plt.xticks(rotation=45, ha='right') # Rotate x-axis labels\n",
        "plt.tight_layout()\n",
        "plt.show()"
      ],
      "metadata": {
        "colab": {
          "base_uri": "https://localhost:8080/",
          "height": 386
        },
        "id": "AOx2SPJC6_AR",
        "outputId": "b5df181b-2a7c-42b6-8415-b2529f734dc5"
      },
      "id": "AOx2SPJC6_AR",
      "execution_count": null,
      "outputs": [
        {
          "output_type": "stream",
          "name": "stderr",
          "text": [
            "/tmp/ipython-input-79-1090328425.py:3: FutureWarning: \n",
            "\n",
            "Passing `palette` without assigning `hue` is deprecated and will be removed in v0.14.0. Assign the `x` variable to `hue` and set `legend=False` for the same effect.\n",
            "\n",
            "  sns.boxplot(x='Location', y='Premium Amount_log', data=df, palette='viridis')\n"
          ]
        },
        {
          "output_type": "display_data",
          "data": {
            "text/plain": [
              "<Figure size 1500x800 with 1 Axes>"
            ],
            "image/png": "[encoded data removed]"
          },
          "metadata": {}
        }
      ]
    },
    {
      "cell_type": "code",
      "source": [
        "# Visualize the relationship between 'Premium Amount_log' and 'Customer Feedback'\n",
        "plt.figure(figsize=(10, 6))\n",
        "sns.boxplot(x='Customer Feedback', y='Premium Amount_log', data=df, palette='plasma')\n",
        "plt.title('Premium Amount (log1p) by Customer Feedback')\n",
        "plt.xlabel('Customer Feedback')\n",
        "plt.ylabel('Premium Amount (log1p)')\n",
        "plt.tight_layout()\n",
        "plt.show()"
      ],
      "metadata": {
        "colab": {
          "base_uri": "https://localhost:8080/",
          "height": 418
        },
        "id": "9DxmHgPQ7MPK",
        "outputId": "9fbf0001-11ef-4edc-de04-1d35a5024d75"
      },
      "id": "9DxmHgPQ7MPK",
      "execution_count": null,
      "outputs": [
        {
          "output_type": "stream",
          "name": "stderr",
          "text": [
            "/tmp/ipython-input-80-2106686869.py:3: FutureWarning: \n",
            "\n",
            "Passing `palette` without assigning `hue` is deprecated and will be removed in v0.14.0. Assign the `x` variable to `hue` and set `legend=False` for the same effect.\n",
            "\n",
            "  sns.boxplot(x='Customer Feedback', y='Premium Amount_log', data=df, palette='plasma')\n"
          ]
        },
        {
          "output_type": "display_data",
          "data": {
            "text/plain": [
              "<Figure size 1000x600 with 1 Axes>"
            ],
            "image/png": "[encoded data removed]"
          },
          "metadata": {}
        }
      ]
    },
    {
      "cell_type": "code",
      "source": [
        "# Visualize the relationship between 'Premium Amount_log' and 'Smoking Status'\n",
        "plt.figure(figsize=(8, 6))\n",
        "sns.boxplot(x='Smoking Status', y='Premium Amount_log', hue = 'Smoking Status' ,data=df, palette='magma', legend=False) # Added legend=False as hue is redundant here\n",
        "plt.title('Premium Amount (log1p) by Smoking Status')\n",
        "plt.xlabel('Smoking Status')\n",
        "plt.ylabel('Premium Amount (log1p)')\n",
        "plt.tight_layout()\n",
        "plt.show()"
      ],
      "metadata": {
        "colab": {
          "base_uri": "https://localhost:8080/",
          "height": 386
        },
        "id": "592kncws8DFr",
        "outputId": "1673b93b-6f87-456c-f704-b936369ec874"
      },
      "id": "592kncws8DFr",
      "execution_count": null,
      "outputs": [
        {
          "output_type": "display_data",
          "data": {
            "text/plain": [
              "<Figure size 800x600 with 1 Axes>"
            ],
            "image/png": "[encoded data removed]"
          },
          "metadata": {}
        }
      ]
    },
    {
      "cell_type": "code",
      "source": [
        "# Visualize the relationship between 'Premium Amount_log' and 'Exercise Frequency'\n",
        "plt.figure(figsize=(10, 6))\n",
        "sns.boxplot(x='Exercise Frequency', y='Premium Amount_log', hue='Exercise Frequency', data=df, palette='cubehelix', legend=False)\n",
        "plt.title('Premium Amount (log1p) by Exercise Frequency')\n",
        "plt.xlabel('Exercise Frequency')\n",
        "plt.ylabel('Premium Amount (log1p)')\n",
        "plt.tight_layout()\n",
        "plt.show()"
      ],
      "metadata": {
        "colab": {
          "base_uri": "https://localhost:8080/",
          "height": 311
        },
        "id": "yCP3GxSF8iUM",
        "outputId": "8be1ef01-a9f9-4c0c-cbf7-4329617dfc1c"
      },
      "id": "yCP3GxSF8iUM",
      "execution_count": null,
      "outputs": [
        {
          "output_type": "display_data",
          "data": {
            "text/plain": [
              "<Figure size 1000x600 with 1 Axes>"
            ],
            "image/png": "[encoded data removed]"
          },
          "metadata": {}
        }
      ]
    },
    {
      "cell_type": "code",
      "source": [
        "# Visualize the relationship between 'Premium Amount_log' and 'Property Type'\n",
        "plt.figure(figsize=(10, 6))\n",
        "sns.boxplot(x='Property Type', y='Premium Amount_log', hue='Property Type', data=df, palette='viridis', legend=False)\n",
        "plt.title('Premium Amount (log1p) by Property Type')\n",
        "plt.xlabel('Property Type')\n",
        "plt.ylabel('Premium Amount (log1p)')\n",
        "plt.tight_layout()\n",
        "plt.show()"
      ],
      "metadata": {
        "colab": {
          "base_uri": "https://localhost:8080/",
          "height": 311
        },
        "id": "-UnHF-ak8wDN",
        "outputId": "1ca1c609-3717-41a6-9296-1e7493d368a6"
      },
      "id": "-UnHF-ak8wDN",
      "execution_count": null,
      "outputs": [
        {
          "output_type": "display_data",
          "data": {
            "text/plain": [
              "<Figure size 1000x600 with 1 Axes>"
            ],
            "image/png": "[encoded data removed]"
          },
          "metadata": {}
        }
      ]
    },
    {
      "cell_type": "markdown",
      "source": [
        "Our comprehensive Exploratory Data Analysis for this dataset has revealed a consistent pattern:\n",
        "\n",
        "Numerical features exhibit near-zero linear correlations with each other and with the Premium Amount_log target.\n",
        "\n",
        "Individual categorical features (including Gender, Marital Status, Education Level, Occupation, Location, Customer Feedback, Smoking Status, Exercise Frequency, and Property Type) do not show significant direct differences in the median or distribution of Premium Amount_log.\n",
        "\n",
        "This critical insight strongly suggests that the Premium Amount is likely driven by complex, non-linear interactions between multiple features, rather than strong individual main effects. This implies that non-linear machine learning models (such as tree-based models like Random Forest or Gradient Boosting Machines) will be essential for this prediction task, as they excel at capturing such intricate relationships."
      ],
      "metadata": {
        "id": "b9PCF2wm-JOr"
      },
      "id": "b9PCF2wm-JOr"
    },
    {
      "cell_type": "markdown",
      "source": [
        "Next step is One-hot encoding of our Categorical columns\n",
        "\n",
        "We're excluding Policy Start Date and Time Column"
      ],
      "metadata": {
        "id": "VPg_2eLI-nyk"
      },
      "id": "VPg_2eLI-nyk"
    },
    {
      "cell_type": "code",
      "source": [
        "# Identify categorical columns for one-hot encoding (excluding Policy Start Date which is datetime and Policy_Start_Time which is object but not categorical in the sense of one-hot encoding)\n",
        "categorical_cols = df.select_dtypes(include='object').columns.tolist()\n",
        "# Remove 'Policy_Start_Time' as it's a time object and not a standard categorical feature for one-hot encoding\n",
        "categorical_cols = [col for col in categorical_cols if col != 'Policy_Start_Time']\n",
        "\n",
        "print(f\"Categorical columns to be One-Hot Encoded: {categorical_cols}\")\n",
        "\n",
        "# Apply One-Hot Encoding\n",
        "df_encoded = pd.get_dummies(df, columns=categorical_cols, drop_first=True) # drop_first=True to avoid multicollinearity\n",
        "\n",
        "print(\"\\nFirst 5 entries of the DataFrame after One-Hot Encoding:\")\n",
        "print(df_encoded.head())"
      ],
      "metadata": {
        "colab": {
          "base_uri": "https://localhost:8080/"
        },
        "collapsed": true,
        "id": "CIvd9Fp8-Lm3",
        "outputId": "46b47850-d6c4-4448-e45c-9ae81831f538"
      },
      "id": "CIvd9Fp8-Lm3",
      "execution_count": null,
      "outputs": [
        {
          "output_type": "stream",
          "name": "stdout",
          "text": [
            "Categorical columns to be One-Hot Encoded: ['Gender', 'Marital Status', 'Education Level', 'Occupation', 'Location', 'Policy Type', 'Customer Feedback', 'Smoking Status', 'Exercise Frequency', 'Property Type']\n",
            "\n",
            "First 5 entries of the DataFrame after One-Hot Encoding:\n",
            "    Age  Annual Income  Number of Dependents  Health Score  Previous Claims  \\\n",
            "0  56.0        99990.0                   1.0     31.074627              0.0   \n",
            "1  46.0         2867.0                   1.0     50.271335              0.0   \n",
            "2  32.0        30154.0                   3.0     14.714909              2.0   \n",
            "3  60.0        48371.0                   0.0     25.346926              1.0   \n",
            "4  25.0        54174.0                   0.0      6.659499              0.0   \n",
            "\n",
            "   Vehicle Age  Credit Score  Insurance Duration  Premium Amount  \\\n",
            "0           13         320.0                   5           308.0   \n",
            "1            3         694.0                   4           517.0   \n",
            "2           16         652.0                   8           849.0   \n",
            "3           11         330.0                   7           927.0   \n",
            "4            9         575.0                   8           303.0   \n",
            "\n",
            "           Policy Start Date  ... Policy Type_Premium  Customer Feedback_Good  \\\n",
            "0 2022-12-10 15:21:39.078837  ...               False                   False   \n",
            "1 2023-01-31 15:21:39.078837  ...               False                    True   \n",
            "2 2023-11-26 15:21:39.078837  ...               False                   False   \n",
            "3 2023-02-27 15:21:39.078837  ...               False                   False   \n",
            "4 2020-11-25 15:21:39.078837  ...               False                   False   \n",
            "\n",
            "   Customer Feedback_No Feedback  Customer Feedback_Poor  Smoking Status_Yes  \\\n",
            "0                          False                    True                True   \n",
            "1                          False                   False                True   \n",
            "2                          False                    True               False   \n",
            "3                          False                    True               False   \n",
            "4                          False                    True               False   \n",
            "\n",
            "   Exercise Frequency_Monthly  Exercise Frequency_Rarely  \\\n",
            "0                       False                      False   \n",
            "1                        True                      False   \n",
            "2                        True                      False   \n",
            "3                       False                       True   \n",
            "4                       False                       True   \n",
            "\n",
            "   Exercise Frequency_Weekly  Property Type_Condo  Property Type_House  \n",
            "0                      False                 True                False  \n",
            "1                      False                False                 True  \n",
            "2                      False                False                 True  \n",
            "3                      False                 True                False  \n",
            "4                      False                 True                False  \n",
            "\n",
            "[5 rows x 42 columns]\n"
          ]
        }
      ]
    },
    {
      "cell_type": "markdown",
      "source": [
        "The next step is to apply StandardScaler to the numerical features of the df_encoded DataFrame. This will standardize these features to have a mean of 0 and a standard deviation of 1, which is important for many machine learning algorithms. We will ensure that the target variable (Premium Amount_log) and the original Policy Start Date column (which will be dropped later) are excluded from scaling"
      ],
      "metadata": {
        "id": "rsJDBZ1TAKxA"
      },
      "id": "rsJDBZ1TAKxA"
    },
    {
      "cell_type": "code",
      "source": [
        "from sklearn.preprocessing import StandardScaler\n",
        "\n",
        "# Make a copy to avoid SettingWithCopyWarning\n",
        "df_processed = df_encoded.copy()\n",
        "\n",
        "# Identify numerical columns to scale\n",
        "# These are the original numerical columns + the engineered numerical columns (excluding the target 'Premium Amount_log')\n",
        "numerical_features_to_scale = [\n",
        "    'Age', 'Annual Income_log', 'Number of Dependents', 'Health Score_log',\n",
        "    'Previous Claims_log', 'Vehicle Age', 'Credit Score',\n",
        "    'Insurance Duration', 'Policy_Age_Years', 'Policy_Start_Year',\n",
        "    'Policy_Start_Month', 'Policy_Start_Day_of_Week'\n",
        "]\n",
        "\n",
        "# Initialize StandardScaler\n",
        "scaler = StandardScaler()\n",
        "\n",
        "# Apply scaling to the identified numerical features\n",
        "df_processed[numerical_features_to_scale] = scaler.fit_transform(df_processed[numerical_features_to_scale])\n",
        "\n",
        "print(\"\\nFirst 5 entries of the DataFrame after Numerical Feature Scaling:\")\n",
        "print(df_processed.head())\n",
        "print(f\"\\nShape of DataFrame after scaling: {df_processed.shape}\")\n",
        "print(\"\\nDescriptive statistics of scaled numerical features:\")\n",
        "print(df_processed[numerical_features_to_scale].describe())"
      ],
      "metadata": {
        "colab": {
          "base_uri": "https://localhost:8080/"
        },
        "collapsed": true,
        "id": "eoJ1buzWAKP8",
        "outputId": "40b6e64d-4d9f-4afc-d3b3-01d4baf30319"
      },
      "id": "eoJ1buzWAKP8",
      "execution_count": null,
      "outputs": [
        {
          "output_type": "stream",
          "name": "stdout",
          "text": [
            "\n",
            "First 5 entries of the DataFrame after Numerical Feature Scaling:\n",
            "        Age  Annual Income  Number of Dependents  Health Score  \\\n",
            "0  1.115105        99990.0             -0.745184     31.074627   \n",
            "1  0.370719         2867.0             -0.745184     50.271335   \n",
            "2 -0.671421        30154.0              0.747512     14.714909   \n",
            "3  1.412859        48371.0             -1.491532     25.346926   \n",
            "4 -1.192491        54174.0             -1.491532      6.659499   \n",
            "\n",
            "   Previous Claims  Vehicle Age  Credit Score  Insurance Duration  \\\n",
            "0              0.0     0.603507     -1.689056           -0.003060   \n",
            "1              0.0    -1.130368      0.793577           -0.390436   \n",
            "2              2.0     1.123669      0.514778            1.159070   \n",
            "3              1.0     0.256732     -1.622675            0.771693   \n",
            "4              0.0    -0.090043      0.003648            1.159070   \n",
            "\n",
            "   Premium Amount          Policy Start Date  ... Policy Type_Premium  \\\n",
            "0           308.0 2022-12-10 15:21:39.078837  ...               False   \n",
            "1           517.0 2023-01-31 15:21:39.078837  ...               False   \n",
            "2           849.0 2023-11-26 15:21:39.078837  ...               False   \n",
            "3           927.0 2023-02-27 15:21:39.078837  ...               False   \n",
            "4           303.0 2020-11-25 15:21:39.078837  ...               False   \n",
            "\n",
            "   Customer Feedback_Good  Customer Feedback_No Feedback  \\\n",
            "0                   False                          False   \n",
            "1                    True                          False   \n",
            "2                   False                          False   \n",
            "3                   False                          False   \n",
            "4                   False                          False   \n",
            "\n",
            "   Customer Feedback_Poor  Smoking Status_Yes  Exercise Frequency_Monthly  \\\n",
            "0                    True                True                       False   \n",
            "1                   False                True                        True   \n",
            "2                    True               False                        True   \n",
            "3                    True               False                       False   \n",
            "4                    True               False                       False   \n",
            "\n",
            "   Exercise Frequency_Rarely  Exercise Frequency_Weekly  Property Type_Condo  \\\n",
            "0                      False                      False                 True   \n",
            "1                      False                      False                False   \n",
            "2                      False                      False                False   \n",
            "3                       True                      False                 True   \n",
            "4                       True                      False                 True   \n",
            "\n",
            "   Property Type_House  \n",
            "0                False  \n",
            "1                 True  \n",
            "2                 True  \n",
            "3                False  \n",
            "4                False  \n",
            "\n",
            "[5 rows x 42 columns]\n",
            "\n",
            "Shape of DataFrame after scaling: (277019, 42)\n",
            "\n",
            "Descriptive statistics of scaled numerical features:\n",
            "                Age  Annual Income_log  Number of Dependents  \\\n",
            "count  2.770190e+05       2.770190e+05          2.770190e+05   \n",
            "mean   2.269220e-16      -3.022601e-15          4.191145e-17   \n",
            "std    1.000002e+00       1.000002e+00          1.000002e+00   \n",
            "min   -1.713562e+00      -8.456237e+00         -1.491532e+00   \n",
            "25%   -8.202985e-01      -4.808637e-01         -7.451843e-01   \n",
            "50%   -1.473891e-03       1.887634e-01          1.163900e-03   \n",
            "75%    8.917893e-01       7.074686e-01          7.475121e-01   \n",
            "max    1.710614e+00       1.470032e+00          1.493860e+00   \n",
            "\n",
            "       Health Score_log  Previous Claims_log   Vehicle Age  Credit Score  \\\n",
            "count      2.770190e+05         2.770190e+05  2.770190e+05  2.770190e+05   \n",
            "mean       7.505074e-17         2.180216e-17 -1.545132e-16 -1.182960e-16   \n",
            "std        1.000002e+00         1.000002e+00  1.000002e+00  1.000002e+00   \n",
            "min       -5.004821e+00        -8.324042e-01 -1.650531e+00 -1.821817e+00   \n",
            "25%       -5.501916e-01        -8.324042e-01 -7.835934e-01 -8.128326e-01   \n",
            "50%        1.534079e-01        -8.324042e-01  8.334424e-02  3.648116e-03   \n",
            "75%        7.207297e-01         5.903211e-01  9.502819e-01  8.134908e-01   \n",
            "max        2.105379e+00         3.893787e+00  1.643832e+00  1.822475e+00   \n",
            "\n",
            "       Insurance Duration  Policy_Age_Years  Policy_Start_Year  \\\n",
            "count        2.770190e+05      2.770190e+05       2.770190e+05   \n",
            "mean         8.520798e-17     -1.187577e-16      -1.078464e-14   \n",
            "std          1.000002e+00      1.000002e+00       1.000002e+00   \n",
            "min         -1.552565e+00     -1.730823e+00      -1.758434e+00   \n",
            "25%         -7.778125e-01     -8.652132e-01      -1.088916e+00   \n",
            "50%         -3.059644e-03     -1.501735e-03       2.501218e-01   \n",
            "75%          7.716932e-01      8.641080e-01       9.196406e-01   \n",
            "max          1.546446e+00      1.733514e+00       1.589159e+00   \n",
            "\n",
            "       Policy_Start_Month  Policy_Start_Day_of_Week  \n",
            "count        2.770190e+05              2.770190e+05  \n",
            "mean         1.208609e-16             -9.233857e-18  \n",
            "std          1.000002e+00              1.000002e+00  \n",
            "min         -1.599737e+00             -1.498735e+00  \n",
            "25%         -7.290309e-01             -9.986810e-01  \n",
            "50%          1.416755e-01              1.427855e-03  \n",
            "75%          1.012382e+00              1.001537e+00  \n",
            "max          1.592853e+00              1.501591e+00  \n"
          ]
        }
      ]
    },
    {
      "cell_type": "markdown",
      "source": [
        "There's en error making some values unscaled, we'd correctly define the numerical features for scaling, re-apply the StandardScaler, and then drop all the redundant/original columns to finalize the feature set for modeling."
      ],
      "metadata": {
        "id": "8NwbkHwAB9V2"
      },
      "id": "8NwbkHwAB9V2"
    },
    {
      "cell_type": "code",
      "source": [
        "from sklearn.preprocessing import StandardScaler\n",
        "\n",
        "# Make a copy to avoid SettingWithCopyWarning\n",
        "df_processed = df_encoded.copy()\n",
        "\n",
        "# CORRECTED list of numerical features to scale\n",
        "# Ensure we are scaling the _log versions where appropriate, and other numerical/engineered features\n",
        "numerical_features_to_scale = [\n",
        "    'Age', 'Annual Income_log', 'Number of Dependents', 'Health Score_log',\n",
        "    'Previous Claims_log', 'Vehicle Age', 'Credit Score',\n",
        "    'Insurance Duration', 'Policy_Age_Years', 'Policy_Start_Year',\n",
        "    'Policy_Start_Month', 'Policy_Start_Day_of_Week'\n",
        "]\n",
        "\n",
        "# Initialize StandardScaler\n",
        "scaler = StandardScaler()\n",
        "\n",
        "# Apply scaling to the identified numerical features\n",
        "df_processed[numerical_features_to_scale] = scaler.fit_transform(df_processed[numerical_features_to_scale])\n",
        "\n",
        "# Now, drop the original columns that are no longer needed, including the original 'Premium Amount'\n",
        "# and the raw datetime columns, as we have their transformed/engineered counterparts and the log-transformed target.\n",
        "columns_to_drop = [\n",
        "    'Annual Income', 'Health Score', 'Previous Claims', 'Premium Amount', # Original unscaled/untransformed numerical features\n",
        "    'Policy Start Date', 'Policy_Start_Time' # Raw datetime columns\n",
        "]\n",
        "\n",
        "# Ensure these columns exist before attempting to drop them\n",
        "columns_to_drop = [col for col in columns_to_drop if col in df_processed.columns]\n",
        "df_processed = df_processed.drop(columns=columns_to_drop)\n",
        "\n",
        "\n",
        "print(\"\\nFirst 5 entries of the DataFrame after CORRECTED Numerical Feature Scaling and dropping original columns:\")\n",
        "print(df_processed.head())\n",
        "print(f\"\\nShape of DataFrame after final preprocessing: {df_processed.shape}\")\n",
        "print(\"\\nDescriptive statistics of scaled numerical features (confirming mean ~0, std ~1):\")\n",
        "print(df_processed[numerical_features_to_scale].describe())\n",
        "print(\"\\nFinal DataFrame info:\")\n",
        "print(df_processed.info())"
      ],
      "metadata": {
        "colab": {
          "base_uri": "https://localhost:8080/"
        },
        "collapsed": true,
        "id": "V_B_zLHtBQNE",
        "outputId": "5cd31ca5-092c-4fe9-aa8e-154f9a59fe0a"
      },
      "id": "V_B_zLHtBQNE",
      "execution_count": null,
      "outputs": [
        {
          "output_type": "stream",
          "name": "stdout",
          "text": [
            "\n",
            "First 5 entries of the DataFrame after CORRECTED Numerical Feature Scaling and dropping original columns:\n",
            "        Age  Number of Dependents  Vehicle Age  Credit Score  \\\n",
            "0  1.115105             -0.745184     0.603507     -1.689056   \n",
            "1  0.370719             -0.745184    -1.130368      0.793577   \n",
            "2 -0.671421              0.747512     1.123669      0.514778   \n",
            "3  1.412859             -1.491532     0.256732     -1.622675   \n",
            "4 -1.192491             -1.491532    -0.090043      0.003648   \n",
            "\n",
            "   Insurance Duration  Policy_Start_Year  Policy_Start_Month  \\\n",
            "0           -0.003060           0.250122            1.592853   \n",
            "1           -0.390436           0.919641           -1.599737   \n",
            "2            1.159070           0.919641            1.302617   \n",
            "3            0.771693           0.919641           -1.309502   \n",
            "4            1.159070          -1.088916            1.302617   \n",
            "\n",
            "   Policy_Start_Day_of_Week  Policy_Age_Years  Premium Amount_log  ...  \\\n",
            "0                  1.001537         -0.565287            5.733341  ...   \n",
            "1                 -0.998681         -0.663997            6.249975  ...   \n",
            "2                  1.501591         -1.231579            6.745236  ...   \n",
            "3                 -1.498735         -0.715250            6.833032  ...   \n",
            "4                 -0.498627          0.848922            5.717028  ...   \n",
            "\n",
            "   Policy Type_Premium  Customer Feedback_Good  Customer Feedback_No Feedback  \\\n",
            "0                False                   False                          False   \n",
            "1                False                    True                          False   \n",
            "2                False                   False                          False   \n",
            "3                False                   False                          False   \n",
            "4                False                   False                          False   \n",
            "\n",
            "   Customer Feedback_Poor  Smoking Status_Yes  Exercise Frequency_Monthly  \\\n",
            "0                    True                True                       False   \n",
            "1                   False                True                        True   \n",
            "2                    True               False                        True   \n",
            "3                    True               False                       False   \n",
            "4                    True               False                       False   \n",
            "\n",
            "   Exercise Frequency_Rarely  Exercise Frequency_Weekly  Property Type_Condo  \\\n",
            "0                      False                      False                 True   \n",
            "1                      False                      False                False   \n",
            "2                      False                      False                False   \n",
            "3                       True                      False                 True   \n",
            "4                       True                      False                 True   \n",
            "\n",
            "   Property Type_House  \n",
            "0                False  \n",
            "1                 True  \n",
            "2                 True  \n",
            "3                False  \n",
            "4                False  \n",
            "\n",
            "[5 rows x 36 columns]\n",
            "\n",
            "Shape of DataFrame after final preprocessing: (277019, 36)\n",
            "\n",
            "Descriptive statistics of scaled numerical features (confirming mean ~0, std ~1):\n",
            "                Age  Annual Income_log  Number of Dependents  \\\n",
            "count  2.770190e+05       2.770190e+05          2.770190e+05   \n",
            "mean   2.269220e-16      -3.022601e-15          4.191145e-17   \n",
            "std    1.000002e+00       1.000002e+00          1.000002e+00   \n",
            "min   -1.713562e+00      -8.456237e+00         -1.491532e+00   \n",
            "25%   -8.202985e-01      -4.808637e-01         -7.451843e-01   \n",
            "50%   -1.473891e-03       1.887634e-01          1.163900e-03   \n",
            "75%    8.917893e-01       7.074686e-01          7.475121e-01   \n",
            "max    1.710614e+00       1.470032e+00          1.493860e+00   \n",
            "\n",
            "       Health Score_log  Previous Claims_log   Vehicle Age  Credit Score  \\\n",
            "count      2.770190e+05         2.770190e+05  2.770190e+05  2.770190e+05   \n",
            "mean       7.505074e-17         2.180216e-17 -1.545132e-16 -1.182960e-16   \n",
            "std        1.000002e+00         1.000002e+00  1.000002e+00  1.000002e+00   \n",
            "min       -5.004821e+00        -8.324042e-01 -1.650531e+00 -1.821817e+00   \n",
            "25%       -5.501916e-01        -8.324042e-01 -7.835934e-01 -8.128326e-01   \n",
            "50%        1.534079e-01        -8.324042e-01  8.334424e-02  3.648116e-03   \n",
            "75%        7.207297e-01         5.903211e-01  9.502819e-01  8.134908e-01   \n",
            "max        2.105379e+00         3.893787e+00  1.643832e+00  1.822475e+00   \n",
            "\n",
            "       Insurance Duration  Policy_Age_Years  Policy_Start_Year  \\\n",
            "count        2.770190e+05      2.770190e+05       2.770190e+05   \n",
            "mean         8.520798e-17     -1.187577e-16      -1.078464e-14   \n",
            "std          1.000002e+00      1.000002e+00       1.000002e+00   \n",
            "min         -1.552565e+00     -1.730823e+00      -1.758434e+00   \n",
            "25%         -7.778125e-01     -8.652132e-01      -1.088916e+00   \n",
            "50%         -3.059644e-03     -1.501735e-03       2.501218e-01   \n",
            "75%          7.716932e-01      8.641080e-01       9.196406e-01   \n",
            "max          1.546446e+00      1.733514e+00       1.589159e+00   \n",
            "\n",
            "       Policy_Start_Month  Policy_Start_Day_of_Week  \n",
            "count        2.770190e+05              2.770190e+05  \n",
            "mean         1.208609e-16             -9.233857e-18  \n",
            "std          1.000002e+00              1.000002e+00  \n",
            "min         -1.599737e+00             -1.498735e+00  \n",
            "25%         -7.290309e-01             -9.986810e-01  \n",
            "50%          1.416755e-01              1.427855e-03  \n",
            "75%          1.012382e+00              1.001537e+00  \n",
            "max          1.592853e+00              1.501591e+00  \n",
            "\n",
            "Final DataFrame info:\n",
            "<class 'pandas.core.frame.DataFrame'>\n",
            "Index: 277019 entries, 0 to 278859\n",
            "Data columns (total 36 columns):\n",
            " #   Column                         Non-Null Count   Dtype  \n",
            "---  ------                         --------------   -----  \n",
            " 0   Age                            277019 non-null  float64\n",
            " 1   Number of Dependents           277019 non-null  float64\n",
            " 2   Vehicle Age                    277019 non-null  float64\n",
            " 3   Credit Score                   277019 non-null  float64\n",
            " 4   Insurance Duration             277019 non-null  float64\n",
            " 5   Policy_Start_Year              277019 non-null  float64\n",
            " 6   Policy_Start_Month             277019 non-null  float64\n",
            " 7   Policy_Start_Day_of_Week       277019 non-null  float64\n",
            " 8   Policy_Age_Years               277019 non-null  float64\n",
            " 9   Premium Amount_log             277019 non-null  float64\n",
            " 10  Annual Income_log              277019 non-null  float64\n",
            " 11  Previous Claims_log            277019 non-null  float64\n",
            " 12  Health Score_log               277019 non-null  float64\n",
            " 13  Gender_Male                    277019 non-null  bool   \n",
            " 14  Marital Status_Married         277019 non-null  bool   \n",
            " 15  Marital Status_Single          277019 non-null  bool   \n",
            " 16  Marital Status_Unknown         277019 non-null  bool   \n",
            " 17  Education Level_High School    277019 non-null  bool   \n",
            " 18  Education Level_Master's       277019 non-null  bool   \n",
            " 19  Education Level_PhD            277019 non-null  bool   \n",
            " 20  Occupation_Self-Employed       277019 non-null  bool   \n",
            " 21  Occupation_Unemployed          277019 non-null  bool   \n",
            " 22  Occupation_Unknown             277019 non-null  bool   \n",
            " 23  Location_Suburban              277019 non-null  bool   \n",
            " 24  Location_Urban                 277019 non-null  bool   \n",
            " 25  Policy Type_Comprehensive      277019 non-null  bool   \n",
            " 26  Policy Type_Premium            277019 non-null  bool   \n",
            " 27  Customer Feedback_Good         277019 non-null  bool   \n",
            " 28  Customer Feedback_No Feedback  277019 non-null  bool   \n",
            " 29  Customer Feedback_Poor         277019 non-null  bool   \n",
            " 30  Smoking Status_Yes             277019 non-null  bool   \n",
            " 31  Exercise Frequency_Monthly     277019 non-null  bool   \n",
            " 32  Exercise Frequency_Rarely      277019 non-null  bool   \n",
            " 33  Exercise Frequency_Weekly      277019 non-null  bool   \n",
            " 34  Property Type_Condo            277019 non-null  bool   \n",
            " 35  Property Type_House            277019 non-null  bool   \n",
            "dtypes: bool(23), float64(13)\n",
            "memory usage: 35.7 MB\n",
            "None\n"
          ]
        }
      ]
    },
    {
      "cell_type": "markdown",
      "source": [
        "Save our dataframe as a parquet format for easy callup in future"
      ],
      "metadata": {
        "id": "PTq-qQHVItQH"
      },
      "id": "PTq-qQHVItQH"
    },
    {
      "cell_type": "code",
      "source": [
        "output_file_path = 'preprocessed_insurance_data.parquet'\n",
        "\n",
        "# Save the DataFrame to a Parquet file\n",
        "try:\n",
        "    df_processed.to_parquet(output_file_path, index=False) # index=False prevents writing the DataFrame index as a column\n",
        "    print(f\"DataFrame successfully saved to '{output_file_path}'\")\n",
        "except Exception as e:\n",
        "    print(f\"Error saving DataFrame: {e}\")\n",
        "\n",
        "save = pd.read_parquet(output_file_path)\n",
        "\n",
        "save.head()"
      ],
      "metadata": {
        "colab": {
          "base_uri": "https://localhost:8080/",
          "height": 307
        },
        "collapsed": true,
        "id": "iuUx9oMXI0gB",
        "outputId": "e903ce79-860a-4c40-d14e-62adb002f93d"
      },
      "id": "iuUx9oMXI0gB",
      "execution_count": null,
      "outputs": [
        {
          "output_type": "stream",
          "name": "stdout",
          "text": [
            "DataFrame successfully saved to 'preprocessed_insurance_data.parquet'\n"
          ]
        },
        {
          "output_type": "execute_result",
          "data": {
            "text/plain": [
              "        Age  Number of Dependents  Vehicle Age  Credit Score  \\\n",
              "0  1.115105             -0.745184     0.603507     -1.689056   \n",
              "1  0.370719             -0.745184    -1.130368      0.793577   \n",
              "2 -0.671421              0.747512     1.123669      0.514778   \n",
              "3  1.412859             -1.491532     0.256732     -1.622675   \n",
              "4 -1.192491             -1.491532    -0.090043      0.003648   \n",
              "\n",
              "   Insurance Duration  Policy_Start_Year  Policy_Start_Month  \\\n",
              "0           -0.003060           0.250122            1.592853   \n",
              "1           -0.390436           0.919641           -1.599737   \n",
              "2            1.159070           0.919641            1.302617   \n",
              "3            0.771693           0.919641           -1.309502   \n",
              "4            1.159070          -1.088916            1.302617   \n",
              "\n",
              "   Policy_Start_Day_of_Week  Policy_Age_Years  Premium Amount_log  ...  \\\n",
              "0                  1.001537         -0.565287            5.733341  ...   \n",
              "1                 -0.998681         -0.663997            6.249975  ...   \n",
              "2                  1.501591         -1.231579            6.745236  ...   \n",
              "3                 -1.498735         -0.715250            6.833032  ...   \n",
              "4                 -0.498627          0.848922            5.717028  ...   \n",
              "\n",
              "   Customer Feedback_Good  Customer Feedback_No Feedback  \\\n",
              "0                   False                          False   \n",
              "1                    True                          False   \n",
              "2                   False                          False   \n",
              "3                   False                          False   \n",
              "4                   False                          False   \n",
              "\n",
              "   Customer Feedback_Poor  Smoking Status_Yes  Exercise Frequency_Monthly  \\\n",
              "0                    True                True                       False   \n",
              "1                   False                True                        True   \n",
              "2                    True               False                        True   \n",
              "3                    True               False                       False   \n",
              "4                    True               False                       False   \n",
              "\n",
              "   Exercise Frequency_Rarely  Exercise Frequency_Weekly  Property Type_Condo  \\\n",
              "0                      False                      False                 True   \n",
              "1                      False                      False                False   \n",
              "2                      False                      False                False   \n",
              "3                       True                      False                 True   \n",
              "4                       True                      False                 True   \n",
              "\n",
              "   Property Type_House  Premium_Category  \n",
              "0                False               Low  \n",
              "1                 True            Medium  \n",
              "2                 True            Medium  \n",
              "3                False            Medium  \n",
              "4                False               Low  \n",
              "\n",
              "[5 rows x 37 columns]"
            ],
            "text/html": [
              "\n",
              "  <div id=\"df-33c2a50f-8ccd-4b43-ac21-17118c3adae5\" class=\"colab-df-container\">\n",
              "    <div>\n",
              "<style scoped>\n",
              "    .dataframe tbody tr th:only-of-type {\n",
              "        vertical-align: middle;\n",
              "    }\n",
              "\n",
              "    .dataframe tbody tr th {\n",
              "        vertical-align: top;\n",
              "    }\n",
              "\n",
              "    .dataframe thead th {\n",
              "        text-align: right;\n",
              "    }\n",
              "</style>\n",
              "<table border=\"1\" class=\"dataframe\">\n",
              "  <thead>\n",
              "    <tr style=\"text-align: right;\">\n",
              "      <th></th>\n",
              "      <th>Age</th>\n",
              "      <th>Number of Dependents</th>\n",
              "      <th>Vehicle Age</th>\n",
              "      <th>Credit Score</th>\n",
              "      <th>Insurance Duration</th>\n",
              "      <th>Policy_Start_Year</th>\n",
              "      <th>Policy_Start_Month</th>\n",
              "      <th>Policy_Start_Day_of_Week</th>\n",
              "      <th>Policy_Age_Years</th>\n",
              "      <th>Premium Amount_log</th>\n",
              "      <th>...</th>\n",
              "      <th>Customer Feedback_Good</th>\n",
              "      <th>Customer Feedback_No Feedback</th>\n",
              "      <th>Customer Feedback_Poor</th>\n",
              "      <th>Smoking Status_Yes</th>\n",
              "      <th>Exercise Frequency_Monthly</th>\n",
              "      <th>Exercise Frequency_Rarely</th>\n",
              "      <th>Exercise Frequency_Weekly</th>\n",
              "      <th>Property Type_Condo</th>\n",
              "      <th>Property Type_House</th>\n",
              "      <th>Premium_Category</th>\n",
              "    </tr>\n",
              "  </thead>\n",
              "  <tbody>\n",
              "    <tr>\n",
              "      <th>0</th>\n",
              "      <td>1.115105</td>\n",
              "      <td>-0.745184</td>\n",
              "      <td>0.603507</td>\n",
              "      <td>-1.689056</td>\n",
              "      <td>-0.003060</td>\n",
              "      <td>0.250122</td>\n",
              "      <td>1.592853</td>\n",
              "      <td>1.001537</td>\n",
              "      <td>-0.565287</td>\n",
              "      <td>5.733341</td>\n",
              "      <td>...</td>\n",
              "      <td>False</td>\n",
              "      <td>False</td>\n",
              "      <td>True</td>\n",
              "      <td>True</td>\n",
              "      <td>False</td>\n",
              "      <td>False</td>\n",
              "      <td>False</td>\n",
              "      <td>True</td>\n",
              "      <td>False</td>\n",
              "      <td>Low</td>\n",
              "    </tr>\n",
              "    <tr>\n",
              "      <th>1</th>\n",
              "      <td>0.370719</td>\n",
              "      <td>-0.745184</td>\n",
              "      <td>-1.130368</td>\n",
              "      <td>0.793577</td>\n",
              "      <td>-0.390436</td>\n",
              "      <td>0.919641</td>\n",
              "      <td>-1.599737</td>\n",
              "      <td>-0.998681</td>\n",
              "      <td>-0.663997</td>\n",
              "      <td>6.249975</td>\n",
              "      <td>...</td>\n",
              "      <td>True</td>\n",
              "      <td>False</td>\n",
              "      <td>False</td>\n",
              "      <td>True</td>\n",
              "      <td>True</td>\n",
              "      <td>False</td>\n",
              "      <td>False</td>\n",
              "      <td>False</td>\n",
              "      <td>True</td>\n",
              "      <td>Medium</td>\n",
              "    </tr>\n",
              "    <tr>\n",
              "      <th>2</th>\n",
              "      <td>-0.671421</td>\n",
              "      <td>0.747512</td>\n",
              "      <td>1.123669</td>\n",
              "      <td>0.514778</td>\n",
              "      <td>1.159070</td>\n",
              "      <td>0.919641</td>\n",
              "      <td>1.302617</td>\n",
              "      <td>1.501591</td>\n",
              "      <td>-1.231579</td>\n",
              "      <td>6.745236</td>\n",
              "      <td>...</td>\n",
              "      <td>False</td>\n",
              "      <td>False</td>\n",
              "      <td>True</td>\n",
              "      <td>False</td>\n",
              "      <td>True</td>\n",
              "      <td>False</td>\n",
              "      <td>False</td>\n",
              "      <td>False</td>\n",
              "      <td>True</td>\n",
              "      <td>Medium</td>\n",
              "    </tr>\n",
              "    <tr>\n",
              "      <th>3</th>\n",
              "      <td>1.412859</td>\n",
              "      <td>-1.491532</td>\n",
              "      <td>0.256732</td>\n",
              "      <td>-1.622675</td>\n",
              "      <td>0.771693</td>\n",
              "      <td>0.919641</td>\n",
              "      <td>-1.309502</td>\n",
              "      <td>-1.498735</td>\n",
              "      <td>-0.715250</td>\n",
              "      <td>6.833032</td>\n",
              "      <td>...</td>\n",
              "      <td>False</td>\n",
              "      <td>False</td>\n",
              "      <td>True</td>\n",
              "      <td>False</td>\n",
              "      <td>False</td>\n",
              "      <td>True</td>\n",
              "      <td>False</td>\n",
              "      <td>True</td>\n",
              "      <td>False</td>\n",
              "      <td>Medium</td>\n",
              "    </tr>\n",
              "    <tr>\n",
              "      <th>4</th>\n",
              "      <td>-1.192491</td>\n",
              "      <td>-1.491532</td>\n",
              "      <td>-0.090043</td>\n",
              "      <td>0.003648</td>\n",
              "      <td>1.159070</td>\n",
              "      <td>-1.088916</td>\n",
              "      <td>1.302617</td>\n",
              "      <td>-0.498627</td>\n",
              "      <td>0.848922</td>\n",
              "      <td>5.717028</td>\n",
              "      <td>...</td>\n",
              "      <td>False</td>\n",
              "      <td>False</td>\n",
              "      <td>True</td>\n",
              "      <td>False</td>\n",
              "      <td>False</td>\n",
              "      <td>True</td>\n",
              "      <td>False</td>\n",
              "      <td>True</td>\n",
              "      <td>False</td>\n",
              "      <td>Low</td>\n",
              "    </tr>\n",
              "  </tbody>\n",
              "</table>\n",
              "<p>5 rows × 37 columns</p>\n",
              "</div>\n",
              "    <div class=\"colab-df-buttons\">\n",
              "\n",
              "  <div class=\"colab-df-container\">\n",
              "    <button class=\"colab-df-convert\" onclick=\"convertToInteractive('df-33c2a50f-8ccd-4b43-ac21-17118c3adae5')\"\n",
              "            title=\"Convert this dataframe to an interactive table.\"\n",
              "            style=\"display:none;\">\n",
              "\n",
              "  <svg xmlns=\"http://www.w3.org/2000/svg\" height=\"24px\" viewBox=\"0 -960 960 960\">\n",
              "    <path d=\"M120-120v-720h720v720H120Zm60-500h600v-160H180v160Zm220 220h160v-160H400v160Zm0 220h160v-160H400v160ZM180-400h160v-160H180v160Zm440 0h160v-160H620v160ZM180-180h160v-160H180v160Zm440 0h160v-160H620v160Z\"/>\n",
              "  </svg>\n",
              "    </button>\n",
              "\n",
              "  <style>\n",
              "    .colab-df-container {\n",
              "      display:flex;\n",
              "      gap: 12px;\n",
              "    }\n",
              "\n",
              "    .colab-df-convert {\n",
              "      background-color: #E8F0FE;\n",
              "      border: none;\n",
              "      border-radius: 50%;\n",
              "      cursor: pointer;\n",
              "      display: none;\n",
              "      fill: #1967D2;\n",
              "      height: 32px;\n",
              "      padding: 0 0 0 0;\n",
              "      width: 32px;\n",
              "    }\n",
              "\n",
              "    .colab-df-convert:hover {\n",
              "      background-color: #E2EBFA;\n",
              "      box-shadow: 0px 1px 2px rgba(60, 64, 67, 0.3), 0px 1px 3px 1px rgba(60, 64, 67, 0.15);\n",
              "      fill: #174EA6;\n",
              "    }\n",
              "\n",
              "    .colab-df-buttons div {\n",
              "      margin-bottom: 4px;\n",
              "    }\n",
              "\n",
              "    [theme=dark] .colab-df-convert {\n",
              "      background-color: #3B4455;\n",
              "      fill: #D2E3FC;\n",
              "    }\n",
              "\n",
              "    [theme=dark] .colab-df-convert:hover {\n",
              "      background-color: #434B5C;\n",
              "      box-shadow: 0px 1px 3px 1px rgba(0, 0, 0, 0.15);\n",
              "      filter: drop-shadow(0px 1px 2px rgba(0, 0, 0, 0.3));\n",
              "      fill: #FFFFFF;\n",
              "    }\n",
              "  </style>\n",
              "\n",
              "    <script>\n",
              "      const buttonEl =\n",
              "        document.querySelector('#df-33c2a50f-8ccd-4b43-ac21-17118c3adae5 button.colab-df-convert');\n",
              "      buttonEl.style.display =\n",
              "        google.colab.kernel.accessAllowed ? 'block' : 'none';\n",
              "\n",
              "      async function convertToInteractive(key) {\n",
              "        const element = document.querySelector('#df-33c2a50f-8ccd-4b43-ac21-17118c3adae5');\n",
              "        const dataTable =\n",
              "          await google.colab.kernel.invokeFunction('convertToInteractive',\n",
              "                                                    [key], {});\n",
              "        if (!dataTable) return;\n",
              "\n",
              "        const docLinkHtml = 'Like what you see? Visit the ' +\n",
              "          '<a target=\"_blank\" href=https://colab.research.google.com/notebooks/data_table.ipynb>data table notebook</a>'\n",
              "          + ' to learn more about interactive tables.';\n",
              "        element.innerHTML = '';\n",
              "        dataTable['output_type'] = 'display_data';\n",
              "        await google.colab.output.renderOutput(dataTable, element);\n",
              "        const docLink = document.createElement('div');\n",
              "        docLink.innerHTML = docLinkHtml;\n",
              "        element.appendChild(docLink);\n",
              "      }\n",
              "    </script>\n",
              "  </div>\n",
              "\n",
              "\n",
              "    <div id=\"df-2ffb140d-32ff-4d09-83c2-3e3880ce59e5\">\n",
              "      <button class=\"colab-df-quickchart\" onclick=\"quickchart('df-2ffb140d-32ff-4d09-83c2-3e3880ce59e5')\"\n",
              "                title=\"Suggest charts\"\n",
              "                style=\"display:none;\">\n",
              "\n",
              "<svg xmlns=\"http://www.w3.org/2000/svg\" height=\"24px\"viewBox=\"0 0 24 24\"\n",
              "     width=\"24px\">\n",
              "    <g>\n",
              "        <path d=\"M19 3H5c-1.1 0-2 .9-2 2v14c0 1.1.9 2 2 2h14c1.1 0 2-.9 2-2V5c0-1.1-.9-2-2-2zM9 17H7v-7h2v7zm4 0h-2V7h2v10zm4 0h-2v-4h2v4z\"/>\n",
              "    </g>\n",
              "</svg>\n",
              "      </button>\n",
              "\n",
              "<style>\n",
              "  .colab-df-quickchart {\n",
              "      --bg-color: #E8F0FE;\n",
              "      --fill-color: #1967D2;\n",
              "      --hover-bg-color: #E2EBFA;\n",
              "      --hover-fill-color: #174EA6;\n",
              "      --disabled-fill-color: #AAA;\n",
              "      --disabled-bg-color: #DDD;\n",
              "  }\n",
              "\n",
              "  [theme=dark] .colab-df-quickchart {\n",
              "      --bg-color: #3B4455;\n",
              "      --fill-color: #D2E3FC;\n",
              "      --hover-bg-color: #434B5C;\n",
              "      --hover-fill-color: #FFFFFF;\n",
              "      --disabled-bg-color: #3B4455;\n",
              "      --disabled-fill-color: #666;\n",
              "  }\n",
              "\n",
              "  .colab-df-quickchart {\n",
              "    background-color: var(--bg-color);\n",
              "    border: none;\n",
              "    border-radius: 50%;\n",
              "    cursor: pointer;\n",
              "    display: none;\n",
              "    fill: var(--fill-color);\n",
              "    height: 32px;\n",
              "    padding: 0;\n",
              "    width: 32px;\n",
              "  }\n",
              "\n",
              "  .colab-df-quickchart:hover {\n",
              "    background-color: var(--hover-bg-color);\n",
              "    box-shadow: 0 1px 2px rgba(60, 64, 67, 0.3), 0 1px 3px 1px rgba(60, 64, 67, 0.15);\n",
              "    fill: var(--button-hover-fill-color);\n",
              "  }\n",
              "\n",
              "  .colab-df-quickchart-complete:disabled,\n",
              "  .colab-df-quickchart-complete:disabled:hover {\n",
              "    background-color: var(--disabled-bg-color);\n",
              "    fill: var(--disabled-fill-color);\n",
              "    box-shadow: none;\n",
              "  }\n",
              "\n",
              "  .colab-df-spinner {\n",
              "    border: 2px solid var(--fill-color);\n",
              "    border-color: transparent;\n",
              "    border-bottom-color: var(--fill-color);\n",
              "    animation:\n",
              "      spin 1s steps(1) infinite;\n",
              "  }\n",
              "\n",
              "  @keyframes spin {\n",
              "    0% {\n",
              "      border-color: transparent;\n",
              "      border-bottom-color: var(--fill-color);\n",
              "      border-left-color: var(--fill-color);\n",
              "    }\n",
              "    20% {\n",
              "      border-color: transparent;\n",
              "      border-left-color: var(--fill-color);\n",
              "      border-top-color: var(--fill-color);\n",
              "    }\n",
              "    30% {\n",
              "      border-color: transparent;\n",
              "      border-left-color: var(--fill-color);\n",
              "      border-top-color: var(--fill-color);\n",
              "      border-right-color: var(--fill-color);\n",
              "    }\n",
              "    40% {\n",
              "      border-color: transparent;\n",
              "      border-right-color: var(--fill-color);\n",
              "      border-top-color: var(--fill-color);\n",
              "    }\n",
              "    60% {\n",
              "      border-color: transparent;\n",
              "      border-right-color: var(--fill-color);\n",
              "    }\n",
              "    80% {\n",
              "      border-color: transparent;\n",
              "      border-right-color: var(--fill-color);\n",
              "      border-bottom-color: var(--fill-color);\n",
              "    }\n",
              "    90% {\n",
              "      border-color: transparent;\n",
              "      border-bottom-color: var(--fill-color);\n",
              "    }\n",
              "  }\n",
              "</style>\n",
              "\n",
              "      <script>\n",
              "        async function quickchart(key) {\n",
              "          const quickchartButtonEl =\n",
              "            document.querySelector('#' + key + ' button');\n",
              "          quickchartButtonEl.disabled = true;  // To prevent multiple clicks.\n",
              "          quickchartButtonEl.classList.add('colab-df-spinner');\n",
              "          try {\n",
              "            const charts = await google.colab.kernel.invokeFunction(\n",
              "                'suggestCharts', [key], {});\n",
              "          } catch (error) {\n",
              "            console.error('Error during call to suggestCharts:', error);\n",
              "          }\n",
              "          quickchartButtonEl.classList.remove('colab-df-spinner');\n",
              "          quickchartButtonEl.classList.add('colab-df-quickchart-complete');\n",
              "        }\n",
              "        (() => {\n",
              "          let quickchartButtonEl =\n",
              "            document.querySelector('#df-2ffb140d-32ff-4d09-83c2-3e3880ce59e5 button');\n",
              "          quickchartButtonEl.style.display =\n",
              "            google.colab.kernel.accessAllowed ? 'block' : 'none';\n",
              "        })();\n",
              "      </script>\n",
              "    </div>\n",
              "\n",
              "    </div>\n",
              "  </div>\n"
            ],
            "application/vnd.google.colaboratory.intrinsic+json": {
              "type": "dataframe",
              "variable_name": "save"
            }
          },
          "metadata": {},
          "execution_count": 104
        }
      ]
    },
    {
      "cell_type": "markdown",
      "source": [
        "### Model Building"
      ],
      "metadata": {
        "id": "k-4WxsVxCKjX"
      },
      "id": "k-4WxsVxCKjX"
    },
    {
      "cell_type": "markdown",
      "source": [
        "We are ready to start building our predictive model. The crucial initial steps in this phase are:\n",
        "\n",
        "- Separate Features (X) and Target (y): Distinguish between the independent variables (features) and the dependent variable (target).\n",
        "\n",
        "- Train-Test Split: Divide the dataset into training and testing subsets to allow for robust evaluation of the model's performance on unseen data."
      ],
      "metadata": {
        "id": "oOoFXjygCdsC"
      },
      "id": "oOoFXjygCdsC"
    },
    {
      "cell_type": "code",
      "source": [
        "from sklearn.model_selection import train_test_split\n",
        "\n",
        "# Separate features (X) and target (y)\n",
        "X = df_processed.drop('Premium Amount_log', axis=1)\n",
        "y = df_processed['Premium Amount_log']\n",
        "\n",
        "# Perform train-test split\n",
        "# Using a random state for reproducibility\n",
        "X_train, X_test, y_train, y_test = train_test_split(X, y, test_size=0.2, random_state=42)\n",
        "\n",
        "print(f\"Shape of X_train: {X_train.shape}\")\n",
        "print(f\"Shape of X_test: {X_test.shape}\")\n",
        "print(f\"Shape of y_train: {y_train.shape}\")\n",
        "print(f\"Shape of y_test: {y_test.shape}\")"
      ],
      "metadata": {
        "colab": {
          "base_uri": "https://localhost:8080/"
        },
        "id": "xgKduSY_CKK-",
        "outputId": "45fd64dd-021d-4e19-adaf-c26d1ebd4ae4"
      },
      "id": "xgKduSY_CKK-",
      "execution_count": null,
      "outputs": [
        {
          "output_type": "stream",
          "name": "stdout",
          "text": [
            "Shape of X_train: (221615, 35)\n",
            "Shape of X_test: (55404, 35)\n",
            "Shape of y_train: (221615,)\n",
            "Shape of y_test: (55404,)\n"
          ]
        }
      ]
    },
    {
      "cell_type": "markdown",
      "source": [
        "Next is to choose a suitable machine learning model for regression and then train it using our X_train and y_train data.\n",
        "\n",
        "Given our EDA findings (weak individual feature relationships, suggesting complex interactions), tree-based ensemble models are an excellent choice. They are robust to non-linearities, don't require feature scaling (though we've done it, it won't hurt), and can capture interactions well. Let's start with a Random Forest Regressor."
      ],
      "metadata": {
        "id": "fSep74Y6EAgI"
      },
      "id": "fSep74Y6EAgI"
    },
    {
      "cell_type": "code",
      "source": [
        "\n",
        "model = RandomForestRegressor(n_estimators=100, random_state=42, n_jobs=-1)\n",
        "\n",
        "print(\"Training the Random Forest Regressor model...\")\n",
        "\n",
        "# Train the model on the training data\n",
        "model.fit(X_train, y_train)\n",
        "\n",
        "print(\"Model training complete.\")\n",
        "\n",
        "# Now, let's make predictions on the test set\n",
        "y_pred_log = model.predict(X_test)\n",
        "\n",
        "# Inverse transform the predictions to the original Premium Amount scale\n",
        "y_pred = np.expm1(y_pred_log)\n",
        "y_test_original = np.expm1(y_test) # Inverse transform y_test for evaluation\n",
        "\n",
        "print(\"\\nEvaluating model performance on the test set:\")\n",
        "\n",
        "# Calculate evaluation metrics\n",
        "mae = mean_absolute_error(y_test_original, y_pred)\n",
        "rmse = np.sqrt(mean_squared_error(y_test_original, y_pred))\n",
        "r2 = r2_score(y_test_original, y_pred)\n",
        "\n",
        "print(f\"Mean Absolute Error (MAE): ${mae:.2f}\")\n",
        "print(f\"Root Mean Squared Error (RMSE): ${rmse:.2f}\")\n",
        "print(f\"R-squared (R2): {r2:.4f}\")\n",
        "\n",
        "# (Optional) Feature Importance - a key benefit of tree-based models\n",
        "print(\"\\nTop 10 Feature Importances:\")\n",
        "feature_importances = pd.Series(model.feature_importances_, index=X_train.columns).sort_values(ascending=False)\n",
        "print(feature_importances.head(10))"
      ],
      "metadata": {
        "colab": {
          "base_uri": "https://localhost:8080/"
        },
        "id": "YA7q_f2fEFWD",
        "outputId": "6f494f38-acf8-46c9-f5d8-de1e31f211f3"
      },
      "id": "YA7q_f2fEFWD",
      "execution_count": null,
      "outputs": [
        {
          "output_type": "stream",
          "name": "stdout",
          "text": [
            "Training the Random Forest Regressor model...\n",
            "Model training complete.\n",
            "\n",
            "Evaluating model performance on the test set:\n",
            "Mean Absolute Error (MAE): $683.22\n",
            "Root Mean Squared Error (RMSE): $1019.18\n",
            "R-squared (R2): -0.2471\n",
            "\n",
            "Top 10 Feature Importances:\n",
            "Health Score_log            0.119785\n",
            "Annual Income_log           0.118918\n",
            "Policy_Age_Years            0.105321\n",
            "Credit Score                0.104275\n",
            "Age                         0.077402\n",
            "Vehicle Age                 0.064338\n",
            "Insurance Duration          0.045508\n",
            "Policy_Start_Month          0.044523\n",
            "Policy_Start_Day_of_Week    0.039705\n",
            "Number of Dependents        0.032023\n",
            "dtype: float64\n"
          ]
        }
      ]
    },
    {
      "cell_type": "markdown",
      "source": [
        "Randomforest model performed poorly showing an issue, we'd try xgboost model"
      ],
      "metadata": {
        "id": "Q8jvhAquM2yv"
      },
      "id": "Q8jvhAquM2yv"
    },
    {
      "cell_type": "code",
      "source": [
        "import lightgbm as lgb\n",
        "\n",
        "lgbm_model = lgb.LGBMRegressor(objective='regression_l1', n_estimators=20, random_state=42, n_jobs=-1)\n",
        "\n",
        "print(\"Training the LightGBM Regressor model...\")\n",
        "\n",
        "# Train the model on the training data\n",
        "lgbm_model.fit(X_train, y_train)\n",
        "\n",
        "print(\"LightGBM Model training complete.\")\n",
        "\n",
        "# Now, let's make predictions on the test set\n",
        "y_pred_log_lgbm = lgbm_model.predict(X_test)\n",
        "\n",
        "# Inverse transform the predictions to the original Premium Amount scale\n",
        "y_pred_lgbm = np.expm1(y_pred_log_lgbm)\n",
        "# y_test_original is already calculated from previous RF run, but re-calculate for clarity\n",
        "y_test_original = np.expm1(y_test)\n",
        "\n",
        "print(\"\\nEvaluating LightGBM model performance on the test set:\")\n",
        "\n",
        "# Calculate evaluation metrics\n",
        "mae_lgbm = mean_absolute_error(y_test_original, y_pred_lgbm)\n",
        "rmse_lgbm = np.sqrt(mean_squared_error(y_test_original, y_pred_lgbm))\n",
        "r2_lgbm = r2_score(y_test_original, y_pred_lgbm)\n",
        "\n",
        "print(f\"LightGBM Mean Absolute Error (MAE): ${mae_lgbm:.2f}\")\n",
        "print(f\"LightGBM Root Mean Squared Error (RMSE): ${rmse_lgbm:.2f}\")\n",
        "print(f\"LightGBM R-squared (R2): {r2_lgbm:.4f}\")\n",
        "\n",
        "# Feature Importance for LightGBM\n",
        "print(\"\\nTop 10 LightGBM Feature Importances:\")\n",
        "feature_importances_lgbm = pd.Series(lgbm_model.feature_importances_, index=X_train.columns).sort_values(ascending=False)\n",
        "print(feature_importances_lgbm.head(10))"
      ],
      "metadata": {
        "colab": {
          "base_uri": "https://localhost:8080/"
        },
        "id": "CxOMzlD2NEcC",
        "outputId": "1d6bbef2-8bc4-4b56-dd44-db4c8d877b86"
      },
      "id": "CxOMzlD2NEcC",
      "execution_count": null,
      "outputs": [
        {
          "output_type": "stream",
          "name": "stdout",
          "text": [
            "Training the LightGBM Regressor model...\n",
            "[LightGBM] [Warning] Found whitespace in feature_names, replace with underlines\n",
            "[LightGBM] [Info] Auto-choosing row-wise multi-threading, the overhead of testing was 0.015148 seconds.\n",
            "You can set `force_row_wise=true` to remove the overhead.\n",
            "And if memory is not enough, you can set `force_col_wise=true`.\n",
            "[LightGBM] [Info] Total Bins 1188\n",
            "[LightGBM] [Info] Number of data points in the train set: 221615, number of used features: 35\n",
            "[LightGBM] [Info] Start training from score 6.535241\n",
            "LightGBM Model training complete.\n",
            "\n",
            "Evaluating LightGBM model performance on the test set:\n",
            "LightGBM Mean Absolute Error (MAE): $664.67\n",
            "LightGBM Root Mean Squared Error (RMSE): $955.02\n",
            "LightGBM R-squared (R2): -0.0950\n",
            "\n",
            "Top 10 LightGBM Feature Importances:\n",
            "Credit Score                80\n",
            "Health Score_log            79\n",
            "Policy_Age_Years            69\n",
            "Annual Income_log           67\n",
            "Age                         59\n",
            "Vehicle Age                 34\n",
            "Insurance Duration          25\n",
            "Policy_Start_Month          24\n",
            "Policy_Start_Day_of_Week    18\n",
            "Number of Dependents        17\n",
            "dtype: int32\n"
          ]
        }
      ]
    },
    {
      "cell_type": "markdown",
      "source": [
        "## Conclusion: Limited Predictability of Premium Amount with Current Dataset\n",
        "\n",
        "The primary objective of this analysis was to build a machine learning model capable of accurately predicting the `Premium Amount` for insurance policies. We embarked on a comprehensive journey, including:\n",
        "\n",
        "* **Extensive Data Cleaning and Preprocessing:** This involved handling missing values (median imputation), deriving new features from `Policy Start Date` (e.g., `Policy_Age_Years`, `Policy_Start_Month`), applying log transformations to highly skewed numerical features and the target variable (`Premium Amount`), performing One-Hot Encoding for categorical variables, and scaling all numerical features. These steps were chosen as best practices to prepare the data optimally for machine learning algorithms.\n",
        "* **Model Building and Evaluation:** We trained and evaluated two powerful ensemble regression models:\n",
        "    * **Random Forest Regressor:** With both `n_estimators=50` and `n_estimators=100`.\n",
        "    * **LightGBM Regressor:** With `n_estimators=20` and `n_estimators=200`, and confirmed performance using 5-Fold Cross-Validation.\n",
        "\n",
        "### Key Findings on Model Performance:\n",
        "\n",
        "Despite rigorous preprocessing and the use of sophisticated models, the results consistently indicated a severe lack of predictive power:\n",
        "\n",
        "* **Consistently Negative R-squared (R2) Values:**\n",
        "    * Random Forest (n=100): R2 of **-0.2471**\n",
        "    * LightGBM (n=200, average over 5-fold CV): R2 of **-0.0944**\n",
        "* **Meaning of Negative R2:** A negative R-squared value signifies that the model performs *worse* than a very simple baseline model that merely predicts the average `Premium Amount` for every policy. In practical terms, our models were unable to capture any meaningful variance in the `Premium Amount` based on the provided features.\n",
        "* **High Error Metrics:** The Mean Absolute Error (MAE) consistently remained around **$660-$680**, and the Root Mean Squared Error (RMSE) around **$950-$1020**. These values are quite high relative to the typical scale of insurance premiums, further confirming the models' inability to make accurate predictions.\n",
        "* **Robustness of Results:** The consistency of the negative R2 across different models, varying `n_estimators`, and particularly through 5-fold cross-validation, strongly indicates that this is a robust finding and not an anomaly of a specific data split or model configuration.\n",
        "\n",
        "### Why a Reliable Model Could Not Be Built:\n",
        "\n",
        "The primary reason for the failure to build a predictive model for `Premium Amount` is the **inherent lack of sufficient predictive signal within the available features of this dataset.** While our preprocessing steps aimed to optimize the data's structure and distributions for machine learning, they cannot create relationships where none fundamentally exist.\n",
        "\n",
        "The most likely explanations are:\n",
        "\n",
        "1.  **Missing Crucial Features:** `Premium Amount` is very likely determined by factors not present in this dataset. In a real-world insurance scenario, premiums are typically influenced by a vast array of variables, including:\n",
        "    * Detailed claims history (beyond just counts).\n",
        "    * Specific policy coverage details, deductibles, and riders.\n",
        "    * Highly granular geographic data (e.g., specific zip codes, crime rates, natural disaster risks).\n",
        "    * Driving records and vehicle safety features.\n",
        "    * Comprehensive health data (medical history, pre-existing conditions).\n",
        "    * Credit-based insurance scores.\n",
        "    * Internal underwriting rules, competitive pricing strategies, and actuarial tables.\n",
        "    The absence of these key drivers means our models had insufficient information to learn the true underlying patterns.\n",
        "2.  **High Noise or Randomness:** The `Premium Amount` in this dataset might contain a significant amount of random variation or be influenced by unobservable factors that obscure any signal from the available features.\n",
        "3.  **Data Generation Limitations:** If this is a synthetic or anonymized dataset, it might not faithfully reflect the complex, real-world relationships between policyholder characteristics and premium amounts.\n",
        "\n",
        "### Recommendations for Future Improvements on the Dataset:\n",
        "\n",
        "To successfully build a predictive model for `Premium Amount` in the future, the focus must shift from algorithmic tuning to **significant data enhancement**:\n",
        "\n",
        "1.  **Acquire More Comprehensive Features:** This is the most critical step. Collaborate with domain experts (e.g., insurance underwriters, actuaries) to identify and acquire critical missing features that are known determinants of insurance premiums. Examples include:\n",
        "    * **Detailed Claims Data:** Type, severity, frequency of past claims.\n",
        "    * **Policy Specifics:** Coverage limits, deductibles, endorsements, discounts applied.\n",
        "    * **Granular Location Data:** Specific address or precise geographic codes.\n",
        "    * **Vehicle-Specific Information:** Make, model, year, safety ratings, anti-theft features.\n",
        "    * **Behavioral Data:** Driving habits (telematics data), lifestyle factors.\n",
        "    * **Health History:** More detailed medical conditions or health metrics.\n",
        "2.  **Understand Data Generation:** If this is synthetic or sampled data, investigate its generation methodology to understand if the relationships were deliberately simplified or randomized.\n",
        "3.  **Explore Alternative Problem Definitions:** If acquiring sufficient data for precise regression proves infeasible, consider reformulating the problem. For instance:\n",
        "    * **Classification:** Predict if a `Premium Amount` falls into a \"low,\" \"medium,\" or \"high\" category.\n",
        "    * **Anomaly Detection:** Identify policies with unusually high or low premiums given their known characteristics.\n",
        "\n",
        "In summary, while the project demonstrates proficiency in data preprocessing and machine learning model application, it ultimately highlights the critical dependency of model success on the quality and comprehensiveness of the underlying data. Without more relevant features, building an effective predictive model for `Premium Amount` remains beyond the scope of this dataset."
      ],
      "metadata": {
        "id": "VbysHDCuRWrP"
      },
      "id": "VbysHDCuRWrP"
    },
    {
      "cell_type": "markdown",
      "source": [],
      "metadata": {
        "id": "ftrwHjpWSMVC"
      },
      "id": "ftrwHjpWSMVC"
    }
  ],
  "metadata": {
    "kernelspec": {
      "display_name": "Python 3 (ipykernel)",
      "language": "python",
      "name": "python3"
    },
    "language_info": {
      "codemirror_mode": {
        "name": "ipython",
        "version": 3
      },
      "file_extension": ".py",
      "mimetype": "text/x-python",
      "name": "python",
      "nbconvert_exporter": "python",
      "pygments_lexer": "ipython3",
      "version": "3.12.7"
    },
    "colab": {
      "provenance": []
    }
  },
  "nbformat": 4,
  "nbformat_minor": 5
}